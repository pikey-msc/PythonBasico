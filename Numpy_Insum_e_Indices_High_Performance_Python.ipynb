{
  "nbformat": 4,
  "nbformat_minor": 0,
  "metadata": {
    "colab": {
      "name": "Numpy Insum e Indices - High Performance Python",
      "provenance": [],
      "collapsed_sections": [],
      "toc_visible": true,
      "include_colab_link": true
    },
    "kernelspec": {
      "name": "python3",
      "display_name": "Python 3"
    }
  },
  "cells": [
    {
      "cell_type": "markdown",
      "metadata": {
        "id": "view-in-github",
        "colab_type": "text"
      },
      "source": [
        "<a href=\"https://colab.research.google.com/github/pikey-msc/PythonBasico/blob/master/Numpy_Insum_e_Indices_High_Performance_Python.ipynb\" target=\"_parent\"><img src=\"https://colab.research.google.com/assets/colab-badge.svg\" alt=\"Open In Colab\"/></a>"
      ]
    },
    {
      "cell_type": "code",
      "metadata": {
        "id": "ST8QJlxSdvMU",
        "colab": {
          "base_uri": "https://localhost:8080/",
          "height": 34
        },
        "outputId": "7eae7c44-6007-47b5-bd59-cb4ca1df832c"
      },
      "source": [
        "#@title Imports { display-mode: \"form\" }\n",
        "from __future__ import print_function\n",
        "from __future__ import division\n",
        "from __future__ import absolute_import\n",
        "\n",
        "import numpy as np\n",
        "import tensorflow as tf\n",
        "import matplotlib.pyplot as plt\n",
        "\n",
        "try:\n",
        "  tf.enable_eager_execution()\n",
        "  print('Eager execution enabled')\n",
        "except ValueError:\n",
        "  print('Already running in Eager mode')\n",
        "\n",
        "tfe = tf.contrib.eager\n",
        "  "
      ],
      "execution_count": null,
      "outputs": [
        {
          "output_type": "stream",
          "text": [
            "Already running in Eager mode\n"
          ],
          "name": "stdout"
        }
      ]
    },
    {
      "cell_type": "code",
      "metadata": {
        "id": "7Ju6_RQIS0U7"
      },
      "source": [
        "import numpy as np"
      ],
      "execution_count": null,
      "outputs": []
    },
    {
      "cell_type": "markdown",
      "metadata": {
        "id": "X7wezTRjpdze"
      },
      "source": [
        "##Numpy Einsum\n",
        "\n",
        "La función einsum superar las funciones de matriz conocidas en términos de velocidad y eficiencia de memoria, gracias a su poder expresivo y bucles inteligentes, sin embargo, puede llevar un poco de tiempo comprender la notación y aplicarla correctamente a un problema complicado."
      ]
    },
    {
      "cell_type": "markdown",
      "metadata": {
        "id": "UV_kyHUapqg-"
      },
      "source": [
        "\n",
        "La función einsum superar las funciones de matriz conocidas en términos de velocidad y eficiencia de memoria, gracias a su poder expresivo y bucles inteligentes, sin embargo, puede llevar un poco de tiempo comprender la notación y aplicarla correctamente a un problema complicado.\n",
        "\n",
        "### Funcionamiento de einsum\n",
        "\n",
        "La clave es elegir el etiquetado correcto para los ejes de las matrices de entradas y la matriz que queremos sacar.\n",
        "\n",
        "La función nos permite hacer eso de dos maneras: usando una cadena de letras o usando listas de números enteros. Para simplificar, nos enfocaremos a las cadenas (esta parece ser la más utilizada de las dos opciones).\n",
        "\n",
        "Un buen ejemplo para observar es la multiplicación de matrices, que implica multiplicar filas por columnas y luego sumar los productos. Para las matrices Ay B, se puede realizar la multiplicación de matrices np.einsum('$ij$, $jk$ -> $ik$', $A$, $B$).\n",
        "\n",
        "Notación matematica: $C_{i,k}=\\sum_{k}A_{ij}B_{jk}$\n",
        "\n",
        "Esta cadena se interpreta como pensar que '$ij$, $jk$ -> $ik$' en dividir en dos a partir de la flecha \"->\". La parte de la izquierda etiqueta los ejes de las matrices de entrada, es decir, '$ij$' pertenecen a la matriz $A$ y '$jk$' pertenecen a la matriz $B$. La parte derecha de la cadena etiqueta los ejes de la matriz de salida única con las letras '$ik$'.\n",
        "\n",
        "Se podría interpretar como:\n",
        "![einsum.png](data:image/png;base64,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)"
      ]
    },
    {
      "cell_type": "markdown",
      "metadata": {
        "id": "y8iWqu5JKiqz"
      },
      "source": [
        "``numpy.einsum(subscripts, *operands, out=None, dtype=None, order='K', casting='safe', optimize=False)``\n",
        "\n",
        "Evalúa el convenio de suma de Einstein, notación de Einstein o notación indexada a la convención utilizada para abreviar la escritura de sumatorios, en el que se suprime el símbolo de sumatorio representado con la letra griega sigma -\n",
        "\n",
        "Usando el convenio de suma de Einstein, varias vectores multidimensionales, operaciones de arreglos de álgebra lineal puede ser representada de una manera simple.\n",
        "En modo implícito einsumo calcula estos valores.\n",
        "\n",
        "De modo explícito, einsum provee una flexibilidad más amplia para calcular otras operaciones con arreglos que puede no ser considerada una operación de suma de Einstein, por deshabilitar, o forzar la suma sobre índices específicos.\n",
        "\n",
        "\n",
        "Parameteros\\\n",
        "``subscripts:str``\\\n",
        "Especifica los índices para la suma separados por una lista. Una suma clásica de Einstein se calcula a menos que se especifique el indicador `->` es incluído tanto como las etiquetas de manera precisa.\n",
        "\n",
        "`operands:list of array_like`\\\n",
        "Se ingresan los arreglos para la operación.\n",
        "\n",
        "`out: ndarray, optional`\n",
        "Si se provee, el cálculo se hace en este arreglo.\n",
        "\n",
        "\n",
        "`dtype:{data-type, None}, optional`\\\n",
        "Si se provee, forza al cálculo para usar los datos especificados. Se tiene que agregar  un parámetro de \"casting\" para la conversión.\n",
        "\n",
        "`order: {‘C’, ‘F’, ‘A’, ‘K’}, optional`\\\n",
        "Controla el layout de la memoria de salida. ‘C’ significa que puede ser C contiguo. ‘F’ significa que puede ser Fortran contiguo, ‘A’ significa que todos los insumos debe de ser 'F'. ‘K’ significa que debe ser lo más cercano posible hacia el layout, incluyendo permutació arbitraria de ejes. El Default es ‘K’.\n",
        "\n",
        "`casting{‘no’, ‘equiv’, ‘safe’, ‘same_kind’, ‘unsafe’}, optional`\\\n",
        "Controla qué tipo de conversión debe ocurrir. No se recomienda cambiarlo a 'unsafe'.\n",
        "\n",
        "‘no’ significa que las variables no deben ser convertidas a otro formato.\n",
        "\n",
        "‘equiv’ significa que solo cambios del byte-order están permitidas.\n",
        "\n",
        "‘safe’ significa que solo las conversiones que pueden preservar valores están permitidas.\n",
        "\n",
        "‘same_kind’ significa que solo conversiones safe casts or casts de untipo como float64, float32 son permitidas.\n",
        "\n",
        "‘unsafe’ significa que cualquier conversión de datos puede ser realizada. \n",
        "\n",
        "El Default es ‘safe’.\n",
        "\n",
        "`optimize:{False, True, ‘greedy’, ‘optimal’}, optional`\\\n",
        "Controla si la intermediación en la optimización puede ocurrir, ninguna optimización ocurrirá si es False y True utilizará el algoritmo 'greedy'.\n",
        "También acepta una lista de contracción explícita de la función np.einsum_path. El Default es False."
      ]
    },
    {
      "cell_type": "markdown",
      "metadata": {
        "id": "dAA6YKxdrGH7"
      },
      "source": [
        "## Ejemplo\n"
      ]
    },
    {
      "cell_type": "markdown",
      "metadata": {
        "id": "S5c6mnGmSr4a"
      },
      "source": [
        "### Operaciones de matrices"
      ]
    },
    {
      "cell_type": "code",
      "metadata": {
        "colab": {
          "base_uri": "https://localhost:8080/"
        },
        "id": "ouM_G2EFStCh",
        "outputId": "fb3c1558-1892-4d0a-f0a9-609fa43a64f6"
      },
      "source": [
        "a = np.arange(25).reshape(5,5)\n",
        "b = np.arange(5)\n",
        "c = np.arange(6).reshape(2,3)\n",
        "print(a)\n",
        "b\n"
      ],
      "execution_count": null,
      "outputs": [
        {
          "output_type": "stream",
          "text": [
            "[[ 0  1  2  3  4]\n",
            " [ 5  6  7  8  9]\n",
            " [10 11 12 13 14]\n",
            " [15 16 17 18 19]\n",
            " [20 21 22 23 24]]\n"
          ],
          "name": "stdout"
        },
        {
          "output_type": "execute_result",
          "data": {
            "text/plain": [
              "array([0, 1, 2, 3, 4])"
            ]
          },
          "metadata": {
            "tags": []
          },
          "execution_count": 3
        }
      ]
    },
    {
      "cell_type": "markdown",
      "metadata": {
        "id": "V8S6o4cpTLst"
      },
      "source": [
        "### Traza de una matriz"
      ]
    },
    {
      "cell_type": "code",
      "metadata": {
        "colab": {
          "base_uri": "https://localhost:8080/"
        },
        "id": "ssD6EGG9TNpl",
        "outputId": "5acf7122-a0d6-43b1-8356-a1ed21719183"
      },
      "source": [
        "print(np.einsum('ii', a))\n",
        "\n",
        "print(np.einsum(a, [0,0]))\n",
        "\n",
        "print(np.trace(a))\n"
      ],
      "execution_count": null,
      "outputs": [
        {
          "output_type": "stream",
          "text": [
            "60\n",
            "60\n",
            "60\n"
          ],
          "name": "stdout"
        }
      ]
    },
    {
      "cell_type": "markdown",
      "metadata": {
        "id": "wrJSJ9uLTf6d"
      },
      "source": [
        "### Extrae la diagonal"
      ]
    },
    {
      "cell_type": "code",
      "metadata": {
        "colab": {
          "base_uri": "https://localhost:8080/"
        },
        "id": "Pssk1CiCTe09",
        "outputId": "0ad1a6a9-599c-4956-fdf6-4962b9a95fff"
      },
      "source": [
        "print(np.einsum('ii->i', a))\n",
        "\n",
        "print(np.einsum(a, [0,0], [0]))\n",
        "\n",
        "print(np.diag(a))\n"
      ],
      "execution_count": null,
      "outputs": [
        {
          "output_type": "stream",
          "text": [
            "[ 0  6 12 18 24]\n",
            "[ 0  6 12 18 24]\n",
            "[ 0  6 12 18 24]\n"
          ],
          "name": "stdout"
        }
      ]
    },
    {
      "cell_type": "markdown",
      "metadata": {
        "id": "n0ymxMrQT4oK"
      },
      "source": [
        "### Suma sobre un eje"
      ]
    },
    {
      "cell_type": "code",
      "metadata": {
        "colab": {
          "base_uri": "https://localhost:8080/"
        },
        "id": "sOChWuv2T6de",
        "outputId": "00323350-476e-4e62-ca72-8102fe882116"
      },
      "source": [
        "print(np.einsum('ij->i', a))\n",
        "\n",
        "print(np.einsum(a, [0,1], [0]))\n",
        "\n",
        "np.sum(a, axis=1)\n"
      ],
      "execution_count": null,
      "outputs": [
        {
          "output_type": "stream",
          "text": [
            "[ 10  35  60  85 110]\n",
            "[ 10  35  60  85 110]\n"
          ],
          "name": "stdout"
        },
        {
          "output_type": "execute_result",
          "data": {
            "text/plain": [
              "array([ 10,  35,  60,  85, 110])"
            ]
          },
          "metadata": {
            "tags": []
          },
          "execution_count": 7
        }
      ]
    },
    {
      "cell_type": "markdown",
      "metadata": {
        "id": "tifQBRx-UXCb"
      },
      "source": [
        "### Ellipsis\n",
        "Para dimensiones grandes sumando un solo eje se puede hacer con ellipsis:\n"
      ]
    },
    {
      "cell_type": "code",
      "metadata": {
        "colab": {
          "base_uri": "https://localhost:8080/"
        },
        "id": "xN48T1H4UVYi",
        "outputId": "a48d701b-86ce-4b12-9364-70d5185f4701"
      },
      "source": [
        "print(np.einsum('...j->...', a))\n",
        "\n",
        "\n",
        "print(np.einsum(a, [Ellipsis,1], [Ellipsis]))\n"
      ],
      "execution_count": null,
      "outputs": [
        {
          "output_type": "stream",
          "text": [
            "[ 10  35  60  85 110]\n",
            "[ 10  35  60  85 110]\n"
          ],
          "name": "stdout"
        }
      ]
    },
    {
      "cell_type": "markdown",
      "metadata": {
        "id": "ZkbbiyxHVJMu"
      },
      "source": [
        "### Calcula una matriz transpuesta o reordena cualquier eje:"
      ]
    },
    {
      "cell_type": "code",
      "metadata": {
        "colab": {
          "base_uri": "https://localhost:8080/"
        },
        "id": "W7FnVln_U9S2",
        "outputId": "bde02186-1ac9-4455-b3e3-7312cb58c7dc"
      },
      "source": [
        "\n",
        "print(np.einsum('ji', c))\n",
        "\n",
        "print(np.einsum('ij->ji', c))\n",
        "\n",
        "print(np.einsum(c, [1,0]))\n",
        "\n",
        "np.transpose(c)\n"
      ],
      "execution_count": null,
      "outputs": [
        {
          "output_type": "stream",
          "text": [
            "[[0 3]\n",
            " [1 4]\n",
            " [2 5]]\n",
            "[[0 3]\n",
            " [1 4]\n",
            " [2 5]]\n",
            "[[0 3]\n",
            " [1 4]\n",
            " [2 5]]\n"
          ],
          "name": "stdout"
        },
        {
          "output_type": "execute_result",
          "data": {
            "text/plain": [
              "array([[0, 3],\n",
              "       [1, 4],\n",
              "       [2, 5]])"
            ]
          },
          "metadata": {
            "tags": []
          },
          "execution_count": 9
        }
      ]
    },
    {
      "cell_type": "markdown",
      "metadata": {
        "id": "Hbj5nU8kVf7K"
      },
      "source": [
        "### Producto interno de vectores:\n"
      ]
    },
    {
      "cell_type": "code",
      "metadata": {
        "colab": {
          "base_uri": "https://localhost:8080/"
        },
        "id": "Pc50IYwZVfDV",
        "outputId": "fad23e99-e862-4383-b5f5-29a3a3b9c821"
      },
      "source": [
        "\n",
        "print(np.einsum('i,i', b, b))\n",
        "\n",
        "print(np.einsum(b, [0], b, [0]))\n",
        "\n",
        "np.inner(b,b)\n"
      ],
      "execution_count": null,
      "outputs": [
        {
          "output_type": "stream",
          "text": [
            "30\n",
            "30\n"
          ],
          "name": "stdout"
        },
        {
          "output_type": "execute_result",
          "data": {
            "text/plain": [
              "30"
            ]
          },
          "metadata": {
            "tags": []
          },
          "execution_count": 10
        }
      ]
    },
    {
      "cell_type": "markdown",
      "metadata": {
        "id": "L0XaU0XQVxK0"
      },
      "source": [
        "### Multiplicación de matrices:\n"
      ]
    },
    {
      "cell_type": "code",
      "metadata": {
        "colab": {
          "base_uri": "https://localhost:8080/"
        },
        "id": "1B2YZJx7Vv10",
        "outputId": "f2501f20-9060-45fe-bc03-275568a30be8"
      },
      "source": [
        "\n",
        "print(np.einsum('ij,j', a, b))\n",
        "\n",
        "print(np.einsum(a, [0,1], b, [1]))\n",
        "\n",
        "print(np.dot(a, b))\n",
        "\n",
        "np.einsum('...j,j', a, b)\n"
      ],
      "execution_count": null,
      "outputs": [
        {
          "output_type": "stream",
          "text": [
            "[ 30  80 130 180 230]\n",
            "[ 30  80 130 180 230]\n",
            "[ 30  80 130 180 230]\n"
          ],
          "name": "stdout"
        },
        {
          "output_type": "execute_result",
          "data": {
            "text/plain": [
              "array([ 30,  80, 130, 180, 230])"
            ]
          },
          "metadata": {
            "tags": []
          },
          "execution_count": 11
        }
      ]
    },
    {
      "cell_type": "markdown",
      "metadata": {
        "id": "w3qQVT4AWKkm"
      },
      "source": [
        "### Mulplicación con escalares:"
      ]
    },
    {
      "cell_type": "code",
      "metadata": {
        "colab": {
          "base_uri": "https://localhost:8080/"
        },
        "id": "lL7auAjdWH0n",
        "outputId": "150f69e7-586e-4c7c-80a0-da5e33cfe84d"
      },
      "source": [
        "\n",
        "print(np.einsum('..., ...', 3, c))\n",
        "\n",
        "print(np.einsum(',ij', 3, c))\n",
        "print(np.einsum(3, [Ellipsis], c, [Ellipsis]))\n",
        "np.multiply(3, c)\n"
      ],
      "execution_count": null,
      "outputs": [
        {
          "output_type": "stream",
          "text": [
            "[[ 0  3  6]\n",
            " [ 9 12 15]]\n",
            "[[ 0  3  6]\n",
            " [ 9 12 15]]\n",
            "[[ 0  3  6]\n",
            " [ 9 12 15]]\n"
          ],
          "name": "stdout"
        },
        {
          "output_type": "execute_result",
          "data": {
            "text/plain": [
              "array([[ 0,  3,  6],\n",
              "       [ 9, 12, 15]])"
            ]
          },
          "metadata": {
            "tags": []
          },
          "execution_count": 12
        }
      ]
    },
    {
      "cell_type": "markdown",
      "metadata": {
        "id": "q9Stu_27WuKg"
      },
      "source": [
        "### Producto externo: (outer product)\n"
      ]
    },
    {
      "cell_type": "code",
      "metadata": {
        "colab": {
          "base_uri": "https://localhost:8080/"
        },
        "id": "lnyEqzsYWsvq",
        "outputId": "6feae473-488f-45b8-dbd0-00c79d179d5d"
      },
      "source": [
        "\n",
        "print(np.einsum('i,j', np.arange(2)+1, b))\n",
        "\n",
        "print(np.einsum(np.arange(2)+1, [0], b, [1]))\n",
        "np.outer(np.arange(2)+1, b)\n"
      ],
      "execution_count": null,
      "outputs": [
        {
          "output_type": "stream",
          "text": [
            "[[0 1 2 3 4]\n",
            " [0 2 4 6 8]]\n",
            "[[0 1 2 3 4]\n",
            " [0 2 4 6 8]]\n"
          ],
          "name": "stdout"
        },
        {
          "output_type": "execute_result",
          "data": {
            "text/plain": [
              "array([[0, 1, 2, 3, 4],\n",
              "       [0, 2, 4, 6, 8]])"
            ]
          },
          "metadata": {
            "tags": []
          },
          "execution_count": 13
        }
      ]
    },
    {
      "cell_type": "markdown",
      "metadata": {
        "id": "WjA9tFg3XE5m"
      },
      "source": [
        "### Contracciones de tensores:"
      ]
    },
    {
      "cell_type": "code",
      "metadata": {
        "id": "HhOpEhlTW3xS"
      },
      "source": [
        "a = np.arange(60.).reshape(3,4,5)\n",
        "b = np.arange(24.).reshape(4,3,2)\n",
        "print(np.einsum('ijk,jil->kl', a, b))\n",
        "print(np.einsum(a, [0,1,2], b, [1,0,3], [2,3]))\n",
        "np.tensordot(a,b, axes=([1,0],[0,1]))\n"
      ],
      "execution_count": null,
      "outputs": []
    },
    {
      "cell_type": "markdown",
      "metadata": {
        "id": "EVbRs10eYYLR"
      },
      "source": [
        "### Arreglos reescribibles\n",
        "\n"
      ]
    },
    {
      "cell_type": "code",
      "metadata": {
        "id": "MLvf1wGoYTRT"
      },
      "source": [
        "\n",
        "a = np.zeros((3, 3))\n",
        "np.einsum('ii->i', a)[:] = 1\n",
        "a\n"
      ],
      "execution_count": null,
      "outputs": []
    },
    {
      "cell_type": "markdown",
      "metadata": {
        "id": "VaMBfufDY852"
      },
      "source": [
        "Ejemplo de uso de ellipsis:"
      ]
    },
    {
      "cell_type": "code",
      "metadata": {
        "colab": {
          "base_uri": "https://localhost:8080/"
        },
        "id": "mseId88yY8Iq",
        "outputId": "d1a04b98-3673-4a3b-cbe0-85d17c900583"
      },
      "source": [
        "a = np.arange(6).reshape((3,2))\n",
        "b = np.arange(12).reshape((4,3))\n",
        "print(np.einsum('ki,jk->ij', a, b))\n",
        "print(np.einsum('ki,...k->i...', a, b))\n",
        "np.einsum('k...,jk', a, b)\n"
      ],
      "execution_count": null,
      "outputs": [
        {
          "output_type": "stream",
          "text": [
            "[[10 28 46 64]\n",
            " [13 40 67 94]]\n",
            "[[10 28 46 64]\n",
            " [13 40 67 94]]\n"
          ],
          "name": "stdout"
        },
        {
          "output_type": "execute_result",
          "data": {
            "text/plain": [
              "array([[10, 28, 46, 64],\n",
              "       [13, 40, 67, 94]])"
            ]
          },
          "metadata": {
            "tags": []
          },
          "execution_count": 14
        }
      ]
    },
    {
      "cell_type": "markdown",
      "metadata": {
        "id": "0DYH8AAEZU9n"
      },
      "source": [
        "### Operaciones de arreglos en cadena. \n",
        "Para contracciones más complicadas, se puede mejorar la velocidad usando la opción 'greedy' u 'optimal'. \n",
        "Las mejoras pueden ser significantes con arreglos muy grandes:\n"
      ]
    },
    {
      "cell_type": "code",
      "metadata": {
        "colab": {
          "base_uri": "https://localhost:8080/"
        },
        "id": "hFIANxwvZUSv",
        "outputId": "93ae7e23-1028-4e34-e31f-994ac2eb30f6"
      },
      "source": [
        "a = np.ones(64).reshape(2,4,8)\n",
        "print(a)\n",
        "for iteration in range(500):\n",
        "    _ = np.einsum('ijk,ilm,njm,nlk,abc->',a,a,a,a,a)"
      ],
      "execution_count": null,
      "outputs": [
        {
          "output_type": "stream",
          "text": [
            "[[[1. 1. 1. 1. 1. 1. 1. 1.]\n",
            "  [1. 1. 1. 1. 1. 1. 1. 1.]\n",
            "  [1. 1. 1. 1. 1. 1. 1. 1.]\n",
            "  [1. 1. 1. 1. 1. 1. 1. 1.]]\n",
            "\n",
            " [[1. 1. 1. 1. 1. 1. 1. 1.]\n",
            "  [1. 1. 1. 1. 1. 1. 1. 1.]\n",
            "  [1. 1. 1. 1. 1. 1. 1. 1.]\n",
            "  [1. 1. 1. 1. 1. 1. 1. 1.]]]\n"
          ],
          "name": "stdout"
        }
      ]
    },
    {
      "cell_type": "code",
      "metadata": {
        "colab": {
          "base_uri": "https://localhost:8080/"
        },
        "id": "a6VHCOWwaIx1",
        "outputId": "89fdf481-d33d-4a3a-c123-6b2add217ea7"
      },
      "source": [
        "\n",
        "%%timeit \n",
        "for iteration in range(500):\n",
        "  hs = np.einsum('ijk,ilm,njm,nlk,abc->',a,a,a,a,a, optimize='optimal')\n",
        "print(hs)"
      ],
      "execution_count": null,
      "outputs": [
        {
          "output_type": "stream",
          "text": [
            "262144.0\n",
            "262144.0\n",
            "262144.0\n",
            "262144.0\n",
            "1 loop, best of 3: 491 ms per loop\n"
          ],
          "name": "stdout"
        }
      ]
    },
    {
      "cell_type": "code",
      "metadata": {
        "colab": {
          "base_uri": "https://localhost:8080/"
        },
        "id": "xTXarrgOaPHt",
        "outputId": "1a230387-f601-4803-b434-1469c4d89014"
      },
      "source": [
        "%%timeit \n",
        "for iteration in range(500):\n",
        "    _ = np.einsum('ijk,ilm,njm,nlk,abc->',a,a,a,a,a, optimize='greedy')"
      ],
      "execution_count": null,
      "outputs": [
        {
          "output_type": "stream",
          "text": [
            "1 loop, best of 3: 179 ms per loop\n"
          ],
          "name": "stdout"
        }
      ]
    },
    {
      "cell_type": "code",
      "metadata": {
        "colab": {
          "base_uri": "https://localhost:8080/"
        },
        "id": "T4zQR0zwaT7Q",
        "outputId": "23e50daa-9950-48fe-cc44-11799966a255"
      },
      "source": [
        "%%timeit \n",
        "path = np.einsum_path('ijk,ilm,njm,nlk,abc->',a,a,a,a,a, optimize='optimal')[0]\n",
        "for iteration in range(500):\n",
        "    _ = np.einsum('ijk,ilm,njm,nlk,abc->',a,a,a,a,a, optimize=path)"
      ],
      "execution_count": null,
      "outputs": [
        {
          "output_type": "stream",
          "text": [
            "10 loops, best of 3: 129 ms per loop\n"
          ],
          "name": "stdout"
        }
      ]
    },
    {
      "cell_type": "markdown",
      "metadata": {
        "id": "rDjS6O0hulU0"
      },
      "source": [
        "## Ejemplo con cálculos en dos matrices\n",
        "Matrices"
      ]
    },
    {
      "cell_type": "code",
      "metadata": {
        "id": "6-RKQtrjtYzq"
      },
      "source": [
        "# Definimos una matriz A\n",
        "A = np.array(\n",
        "  [[1.0, 3.0],\n",
        "   [2.0, 1.0],\n",
        "   [4.0, 2.0]]\n",
        ")\n",
        "\n",
        "# Definimos una matriz B\n",
        "B = np.array(\n",
        "  [[6.0, 2.0, 1.0],\n",
        "   [3.0, 4.0, 5.0]]\n",
        ")\n",
        "\n",
        "# Definimos un vector X\n",
        "x = np.array([3.0, 2.0])\n",
        "\n",
        "print('A.shape es:', A.shape, 'B.shape es:', B.shape, 'x.shape es:', x.shape)\n",
        "A"
      ],
      "execution_count": null,
      "outputs": []
    },
    {
      "cell_type": "markdown",
      "metadata": {
        "id": "4MwhV9c3tqB4"
      },
      "source": [
        "### Multiplicación de matriz con vector\n",
        "\n",
        "Notemos la diferencia entre las distntas formas de hacerlo."
      ]
    },
    {
      "cell_type": "code",
      "metadata": {
        "id": "2jGlX4TptqrQ"
      },
      "source": [
        "# Usando numpy dot\n",
        "y = A.dot(x)\n",
        "\n",
        "print('Usando dot:\\t y =', y, '\\t y.shape =', y.shape)\n",
        "\n",
        "# Usando einsum\n",
        "y = np.einsum('ij, j', A, x)\n",
        "\n",
        "print('Usando einsum:\\t y =', y, '\\t y.shape =', y.shape)\n",
        "\n",
        "# Version manual 1:\n",
        "y = np.array([\n",
        "    A[0,0] * x[0] + A[0,1] * x[1],\n",
        "    A[1,0] * x[0] + A[1,1] * x[1],\n",
        "    A[2,0] * x[0] + A[2,1] * x[1],\n",
        "    ])\n",
        "\n",
        "print('Manual 1:\\t y =', y, '\\t y.shape =', y.shape)\n",
        "\n",
        "# Version manual 2: \n",
        "# Matrix-vector Una multiplicacion puede ser pensado como  una combinacion lineal de columnas de una matriz.\n",
        "y = x[0] * A[:,0]  +  x[1] * A[:, 1]\n",
        "\n",
        "print('Manual 2:\\t y =', y, '\\t y.shape =', y.shape)"
      ],
      "execution_count": null,
      "outputs": []
    },
    {
      "cell_type": "markdown",
      "metadata": {
        "id": "YH4l0dwpt4Kh"
      },
      "source": [
        "## Multiplicación de matriz con matriz"
      ]
    },
    {
      "cell_type": "code",
      "metadata": {
        "id": "KHRzgvAmt8mf"
      },
      "source": [
        "# Usando numpy dot\n",
        "C = A.dot(B)\n",
        "print('Usando DOT: C= \\n\\n', C, '\\n\\nC.shape =', C.shape)\n",
        "\n",
        "# Usando einsum\n",
        "C = np.einsum('ik, kj', A, B)\n",
        "print('\\n\\n Usando einsum: C= \\n\\n', C, '\\n\\nC.shape =', C.shape)\n",
        "\n",
        "# Nota, acerca de la notacion einsum anterior es equivalente a la siguiente\n",
        "C = np.einsum('ik, kj -> ij', A, B)\n",
        "\n",
        "# Observamos que la multiplicación de matrices no es conmutativa.\n",
        "\n",
        "C = B.dot(A)\n",
        "print('C: \\n', C)\n",
        "print()\n",
        "print('C.shape:', C.shape)"
      ],
      "execution_count": null,
      "outputs": []
    },
    {
      "cell_type": "markdown",
      "metadata": {
        "id": "GHsQNDcRuF-w"
      },
      "source": [
        "Observemos en el siguiente codigo como la multiplicación de matrices no es conmutativa."
      ]
    },
    {
      "cell_type": "code",
      "metadata": {
        "id": "wx9M_CyvuJWj"
      },
      "source": [
        "C = np.einsum('ik, kj', B, A)\n",
        "\n",
        "print('C: \\n', C)\n",
        "print()\n",
        "print('C.shape:', C.shape)"
      ],
      "execution_count": null,
      "outputs": []
    },
    {
      "cell_type": "markdown",
      "metadata": {
        "id": "lm20Xug2q9pu"
      },
      "source": [
        "## Ejercicio\n",
        "Algunos ejemplos de como usar esta notación para proximos ejercicios son:\n",
        "\n",
        "Devuelve una vista de A: ('$ij$', $A$)\n",
        "\n",
        "Suma los valores de A: ('$ij$->', $A$)\n",
        "\n",
        "Multiplicación de matrices A y B:\n",
        "('$ij$,$jk$ -> $kj$', A, B)\n",
        "\n",
        "Producto interno de A y B: ('$ij$, $kj$ -> $ik$', A, B)"
      ]
    },
    {
      "cell_type": "markdown",
      "metadata": {
        "id": "B4B0oIidwGiK"
      },
      "source": [
        "## Ejemplo Red Neuronal\n",
        "\n",
        "Calcularemos la salida de una red neuronal de 1 capa y los gradientes respecto a sus parametros. Definimos un ejemplo de un vector de entrada y parametros, pero mantenemos los calculos anteriores. Puedes cambiar los valores y formas de $x$, $A$ y $b$ que estan a continuación y ejecutar el resto del codigo para calcular la salida y gradientes para tú propio ejemplo."
      ]
    },
    {
      "cell_type": "code",
      "metadata": {
        "id": "BlXSHsVLwRIe"
      },
      "source": [
        "x = np.array([[-1.], [0.1], [2.1]])  # X esta conformado por (3, 1)\n",
        "A = np.array([              # A esta conformado por (2, 3)\n",
        "    [ 1.1, -2.5,  0.3],\n",
        "    [-2.1,  0.2, -1.1]\n",
        "])  \n",
        "b = np.array([[-1.0], [2.0]])      # b esta conformado por (2,1)"
      ],
      "execution_count": null,
      "outputs": []
    },
    {
      "cell_type": "markdown",
      "metadata": {
        "id": "PXjfHLAwwUSK"
      },
      "source": [
        "Calculo de salida de la red neuronal  \n",
        "$$f=\\tanh(Ax+b)$$"
      ]
    },
    {
      "cell_type": "code",
      "metadata": {
        "id": "Ub63wiEUwira"
      },
      "source": [
        "M, N = A.shape\n",
        "z = np.einsum('ik, kj', A, x) + b\n",
        "f = np.tanh(z)\n",
        "\n",
        "print('f =', f)"
      ],
      "execution_count": null,
      "outputs": []
    }
  ]
}