{
  "nbformat": 4,
  "nbformat_minor": 0,
  "metadata": {
    "colab": {
      "name": "Numpy Insum e Indices - High Performance Python",
      "provenance": [],
      "collapsed_sections": [],
      "include_colab_link": true
    },
    "kernelspec": {
      "name": "python3",
      "display_name": "Python 3"
    }
  },
  "cells": [
    {
      "cell_type": "markdown",
      "metadata": {
        "id": "view-in-github",
        "colab_type": "text"
      },
      "source": [
        "<a href=\"https://colab.research.google.com/github/pikey-msc/PythonBasico/blob/master/Numpy_Insum_e_Indices_High_Performance_Python.ipynb\" target=\"_parent\"><img src=\"https://colab.research.google.com/assets/colab-badge.svg\" alt=\"Open In Colab\"/></a>"
      ]
    },
    {
      "cell_type": "code",
      "metadata": {
        "id": "ST8QJlxSdvMU",
        "colab": {
          "base_uri": "https://localhost:8080/",
          "height": 34
        },
        "outputId": "7eae7c44-6007-47b5-bd59-cb4ca1df832c"
      },
      "source": [
        "#@title Imports { display-mode: \"form\" }\n",
        "from __future__ import print_function\n",
        "from __future__ import division\n",
        "from __future__ import absolute_import\n",
        "\n",
        "import numpy as np\n",
        "import tensorflow as tf\n",
        "import matplotlib.pyplot as plt\n",
        "\n",
        "try:\n",
        "  tf.enable_eager_execution()\n",
        "  print('Eager execution enabled')\n",
        "except ValueError:\n",
        "  print('Already running in Eager mode')\n",
        "\n",
        "tfe = tf.contrib.eager\n",
        "  "
      ],
      "execution_count": null,
      "outputs": [
        {
          "output_type": "stream",
          "text": [
            "Already running in Eager mode\n"
          ],
          "name": "stdout"
        }
      ]
    },
    {
      "cell_type": "code",
      "metadata": {
        "id": "7Ju6_RQIS0U7"
      },
      "source": [
        "import numpy as np"
      ],
      "execution_count": 1,
      "outputs": []
    },
    {
      "cell_type": "markdown",
      "metadata": {
        "id": "y8iWqu5JKiqz"
      },
      "source": [
        "``numpy.einsum(subscripts, *operands, out=None, dtype=None, order='K', casting='safe', optimize=False)``\n",
        "\n",
        "Evalúa el convenio de suma de Einstein, notación de Einstein o notación indexada a la convención utilizada para abreviar la escritura de sumatorios, en el que se suprime el símbolo de sumatorio representado con la letra griega sigma -\n",
        "\n",
        "Usando el convenio de suma de Einstein, varias vectores multidimensionales, operaciones de arreglos de álgebra lineal puede ser representada de una manera simple.\n",
        "En modo implícito einsumo calcula estos valores.\n",
        "\n",
        "De modo explícito, einsum provee una flexibilidad más amplia para calcular otras operaciones con arreglos que puede no ser considerada una operación de suma de Einstein, por deshabilitar, o forzar la suma sobre índices específicos.\n",
        "\n",
        "\n",
        "Parameteros\\\n",
        "``subscripts:str``\\\n",
        "Especifica los índices para la suma separados por una lista. Una suma clásica de Einstein se calcula a menos que se especifique el indicador `->` es incluído tanto como las etiquetas de manera precisa.\n",
        "\n",
        "`operands:list of array_like`\\\n",
        "Se ingresan los arreglos para la operación.\n",
        "\n",
        "`out: ndarray, optional`\n",
        "Si se provee, el cálculo se hace en este arreglo.\n",
        "\n",
        "\n",
        "`dtype:{data-type, None}, optional`\\\n",
        "Si se provee, forza al cálculo para usar los datos especificados. Se tiene que agregar  un parámetro de \"casting\" para la conversión.\n",
        "\n",
        "`order: {‘C’, ‘F’, ‘A’, ‘K’}, optional`\\\n",
        "Controla el layout de la memoria de salida. ‘C’ significa que puede ser C contiguo. ‘F’ significa que puede ser Fortran contiguo, ‘A’ significa que todos los insumos debe de ser 'F'. ‘K’ significa que debe ser lo más cercano posible hacia el layout, incluyendo permutació arbitraria de ejes. El Default es ‘K’.\n",
        "\n",
        "`casting{‘no’, ‘equiv’, ‘safe’, ‘same_kind’, ‘unsafe’}, optional`\\\n",
        "Controla qué tipo de conversión debe ocurrir. No se recomienda cambiarlo a 'unsafe'.\n",
        "\n",
        "‘no’ significa que las variables no deben ser convertidas a otro formato.\n",
        "\n",
        "‘equiv’ significa que solo cambios del byte-order están permitidas.\n",
        "\n",
        "‘safe’ significa que solo las conversiones que pueden preservar valores están permitidas.\n",
        "\n",
        "‘same_kind’ significa que solo conversiones safe casts or casts de untipo como float64, float32 son permitidas.\n",
        "\n",
        "‘unsafe’ significa que cualquier conversión de datos puede ser realizada. \n",
        "\n",
        "El Default es ‘safe’.\n",
        "\n",
        "`optimize:{False, True, ‘greedy’, ‘optimal’}, optional`\\\n",
        "Controla si la intermediación en la optimización puede ocurrir, ninguna optimización ocurrirá si es False y True utilizará el algoritmo 'greedy'.\n",
        "También acepta una lista de contracción explícita de la función np.einsum_path. El Default es False."
      ]
    },
    {
      "cell_type": "markdown",
      "metadata": {
        "id": "S5c6mnGmSr4a"
      },
      "source": [
        "Ejemplos:"
      ]
    },
    {
      "cell_type": "code",
      "metadata": {
        "colab": {
          "base_uri": "https://localhost:8080/"
        },
        "id": "ouM_G2EFStCh",
        "outputId": "fb3c1558-1892-4d0a-f0a9-609fa43a64f6"
      },
      "source": [
        "a = np.arange(25).reshape(5,5)\n",
        "b = np.arange(5)\n",
        "c = np.arange(6).reshape(2,3)\n",
        "print(a)\n",
        "b\n"
      ],
      "execution_count": 3,
      "outputs": [
        {
          "output_type": "stream",
          "text": [
            "[[ 0  1  2  3  4]\n",
            " [ 5  6  7  8  9]\n",
            " [10 11 12 13 14]\n",
            " [15 16 17 18 19]\n",
            " [20 21 22 23 24]]\n"
          ],
          "name": "stdout"
        },
        {
          "output_type": "execute_result",
          "data": {
            "text/plain": [
              "array([0, 1, 2, 3, 4])"
            ]
          },
          "metadata": {
            "tags": []
          },
          "execution_count": 3
        }
      ]
    },
    {
      "cell_type": "markdown",
      "metadata": {
        "id": "V8S6o4cpTLst"
      },
      "source": [
        "Traza de una matriz"
      ]
    },
    {
      "cell_type": "code",
      "metadata": {
        "colab": {
          "base_uri": "https://localhost:8080/"
        },
        "id": "ssD6EGG9TNpl",
        "outputId": "5acf7122-a0d6-43b1-8356-a1ed21719183"
      },
      "source": [
        "print(np.einsum('ii', a))\n",
        "\n",
        "print(np.einsum(a, [0,0]))\n",
        "\n",
        "print(np.trace(a))\n"
      ],
      "execution_count": 5,
      "outputs": [
        {
          "output_type": "stream",
          "text": [
            "60\n",
            "60\n",
            "60\n"
          ],
          "name": "stdout"
        }
      ]
    },
    {
      "cell_type": "markdown",
      "metadata": {
        "id": "wrJSJ9uLTf6d"
      },
      "source": [
        "Extrae la diagonal"
      ]
    },
    {
      "cell_type": "code",
      "metadata": {
        "colab": {
          "base_uri": "https://localhost:8080/"
        },
        "id": "Pssk1CiCTe09",
        "outputId": "0ad1a6a9-599c-4956-fdf6-4962b9a95fff"
      },
      "source": [
        "print(np.einsum('ii->i', a))\n",
        "\n",
        "print(np.einsum(a, [0,0], [0]))\n",
        "\n",
        "print(np.diag(a))\n"
      ],
      "execution_count": 6,
      "outputs": [
        {
          "output_type": "stream",
          "text": [
            "[ 0  6 12 18 24]\n",
            "[ 0  6 12 18 24]\n",
            "[ 0  6 12 18 24]\n"
          ],
          "name": "stdout"
        }
      ]
    },
    {
      "cell_type": "markdown",
      "metadata": {
        "id": "n0ymxMrQT4oK"
      },
      "source": [
        "Suma sobre un eje"
      ]
    },
    {
      "cell_type": "code",
      "metadata": {
        "colab": {
          "base_uri": "https://localhost:8080/"
        },
        "id": "sOChWuv2T6de",
        "outputId": "00323350-476e-4e62-ca72-8102fe882116"
      },
      "source": [
        "print(np.einsum('ij->i', a))\n",
        "\n",
        "print(np.einsum(a, [0,1], [0]))\n",
        "\n",
        "np.sum(a, axis=1)\n"
      ],
      "execution_count": 7,
      "outputs": [
        {
          "output_type": "stream",
          "text": [
            "[ 10  35  60  85 110]\n",
            "[ 10  35  60  85 110]\n"
          ],
          "name": "stdout"
        },
        {
          "output_type": "execute_result",
          "data": {
            "text/plain": [
              "array([ 10,  35,  60,  85, 110])"
            ]
          },
          "metadata": {
            "tags": []
          },
          "execution_count": 7
        }
      ]
    },
    {
      "cell_type": "markdown",
      "metadata": {
        "id": "tifQBRx-UXCb"
      },
      "source": [
        "Para dimensiones grandes sumando un solo eje se puede hacer con ellipsis:\n"
      ]
    },
    {
      "cell_type": "code",
      "metadata": {
        "colab": {
          "base_uri": "https://localhost:8080/"
        },
        "id": "xN48T1H4UVYi",
        "outputId": "a48d701b-86ce-4b12-9364-70d5185f4701"
      },
      "source": [
        "print(np.einsum('...j->...', a))\n",
        "\n",
        "\n",
        "print(np.einsum(a, [Ellipsis,1], [Ellipsis]))\n"
      ],
      "execution_count": 8,
      "outputs": [
        {
          "output_type": "stream",
          "text": [
            "[ 10  35  60  85 110]\n",
            "[ 10  35  60  85 110]\n"
          ],
          "name": "stdout"
        }
      ]
    },
    {
      "cell_type": "markdown",
      "metadata": {
        "id": "ZkbbiyxHVJMu"
      },
      "source": [
        "Calcula una matriz transpuesta o reordena cualquier eje:"
      ]
    },
    {
      "cell_type": "code",
      "metadata": {
        "colab": {
          "base_uri": "https://localhost:8080/"
        },
        "id": "W7FnVln_U9S2",
        "outputId": "bde02186-1ac9-4455-b3e3-7312cb58c7dc"
      },
      "source": [
        "\n",
        "print(np.einsum('ji', c))\n",
        "\n",
        "print(np.einsum('ij->ji', c))\n",
        "\n",
        "print(np.einsum(c, [1,0]))\n",
        "\n",
        "np.transpose(c)\n"
      ],
      "execution_count": 9,
      "outputs": [
        {
          "output_type": "stream",
          "text": [
            "[[0 3]\n",
            " [1 4]\n",
            " [2 5]]\n",
            "[[0 3]\n",
            " [1 4]\n",
            " [2 5]]\n",
            "[[0 3]\n",
            " [1 4]\n",
            " [2 5]]\n"
          ],
          "name": "stdout"
        },
        {
          "output_type": "execute_result",
          "data": {
            "text/plain": [
              "array([[0, 3],\n",
              "       [1, 4],\n",
              "       [2, 5]])"
            ]
          },
          "metadata": {
            "tags": []
          },
          "execution_count": 9
        }
      ]
    },
    {
      "cell_type": "markdown",
      "metadata": {
        "id": "Hbj5nU8kVf7K"
      },
      "source": [
        "Producto interno de vectores:\n"
      ]
    },
    {
      "cell_type": "code",
      "metadata": {
        "colab": {
          "base_uri": "https://localhost:8080/"
        },
        "id": "Pc50IYwZVfDV",
        "outputId": "fad23e99-e862-4383-b5f5-29a3a3b9c821"
      },
      "source": [
        "\n",
        "print(np.einsum('i,i', b, b))\n",
        "\n",
        "print(np.einsum(b, [0], b, [0]))\n",
        "\n",
        "np.inner(b,b)\n"
      ],
      "execution_count": 10,
      "outputs": [
        {
          "output_type": "stream",
          "text": [
            "30\n",
            "30\n"
          ],
          "name": "stdout"
        },
        {
          "output_type": "execute_result",
          "data": {
            "text/plain": [
              "30"
            ]
          },
          "metadata": {
            "tags": []
          },
          "execution_count": 10
        }
      ]
    },
    {
      "cell_type": "markdown",
      "metadata": {
        "id": "L0XaU0XQVxK0"
      },
      "source": [
        "Multiplicación de matrices:\n"
      ]
    },
    {
      "cell_type": "code",
      "metadata": {
        "colab": {
          "base_uri": "https://localhost:8080/"
        },
        "id": "1B2YZJx7Vv10",
        "outputId": "f2501f20-9060-45fe-bc03-275568a30be8"
      },
      "source": [
        "\n",
        "print(np.einsum('ij,j', a, b))\n",
        "\n",
        "print(np.einsum(a, [0,1], b, [1]))\n",
        "\n",
        "print(np.dot(a, b))\n",
        "\n",
        "np.einsum('...j,j', a, b)\n"
      ],
      "execution_count": 11,
      "outputs": [
        {
          "output_type": "stream",
          "text": [
            "[ 30  80 130 180 230]\n",
            "[ 30  80 130 180 230]\n",
            "[ 30  80 130 180 230]\n"
          ],
          "name": "stdout"
        },
        {
          "output_type": "execute_result",
          "data": {
            "text/plain": [
              "array([ 30,  80, 130, 180, 230])"
            ]
          },
          "metadata": {
            "tags": []
          },
          "execution_count": 11
        }
      ]
    },
    {
      "cell_type": "markdown",
      "metadata": {
        "id": "w3qQVT4AWKkm"
      },
      "source": [
        "\n",
        "Mulplicación con escalares:"
      ]
    },
    {
      "cell_type": "code",
      "metadata": {
        "colab": {
          "base_uri": "https://localhost:8080/"
        },
        "id": "lL7auAjdWH0n",
        "outputId": "150f69e7-586e-4c7c-80a0-da5e33cfe84d"
      },
      "source": [
        "\n",
        "print(np.einsum('..., ...', 3, c))\n",
        "\n",
        "print(np.einsum(',ij', 3, c))\n",
        "print(np.einsum(3, [Ellipsis], c, [Ellipsis]))\n",
        "np.multiply(3, c)\n"
      ],
      "execution_count": 12,
      "outputs": [
        {
          "output_type": "stream",
          "text": [
            "[[ 0  3  6]\n",
            " [ 9 12 15]]\n",
            "[[ 0  3  6]\n",
            " [ 9 12 15]]\n",
            "[[ 0  3  6]\n",
            " [ 9 12 15]]\n"
          ],
          "name": "stdout"
        },
        {
          "output_type": "execute_result",
          "data": {
            "text/plain": [
              "array([[ 0,  3,  6],\n",
              "       [ 9, 12, 15]])"
            ]
          },
          "metadata": {
            "tags": []
          },
          "execution_count": 12
        }
      ]
    },
    {
      "cell_type": "markdown",
      "metadata": {
        "id": "q9Stu_27WuKg"
      },
      "source": [
        "Producto externo: (outer product)\n"
      ]
    },
    {
      "cell_type": "code",
      "metadata": {
        "colab": {
          "base_uri": "https://localhost:8080/"
        },
        "id": "lnyEqzsYWsvq",
        "outputId": "6feae473-488f-45b8-dbd0-00c79d179d5d"
      },
      "source": [
        "\n",
        "print(np.einsum('i,j', np.arange(2)+1, b))\n",
        "\n",
        "print(np.einsum(np.arange(2)+1, [0], b, [1]))\n",
        "np.outer(np.arange(2)+1, b)\n"
      ],
      "execution_count": 13,
      "outputs": [
        {
          "output_type": "stream",
          "text": [
            "[[0 1 2 3 4]\n",
            " [0 2 4 6 8]]\n",
            "[[0 1 2 3 4]\n",
            " [0 2 4 6 8]]\n"
          ],
          "name": "stdout"
        },
        {
          "output_type": "execute_result",
          "data": {
            "text/plain": [
              "array([[0, 1, 2, 3, 4],\n",
              "       [0, 2, 4, 6, 8]])"
            ]
          },
          "metadata": {
            "tags": []
          },
          "execution_count": 13
        }
      ]
    },
    {
      "cell_type": "markdown",
      "metadata": {
        "id": "WjA9tFg3XE5m"
      },
      "source": [
        "Contracciones de tensores:"
      ]
    },
    {
      "cell_type": "code",
      "metadata": {
        "id": "HhOpEhlTW3xS"
      },
      "source": [
        "a = np.arange(60.).reshape(3,4,5)\n",
        "b = np.arange(24.).reshape(4,3,2)\n",
        "print(np.einsum('ijk,jil->kl', a, b))\n",
        "print(np.einsum(a, [0,1,2], b, [1,0,3], [2,3]))\n",
        "np.tensordot(a,b, axes=([1,0],[0,1]))\n"
      ],
      "execution_count": null,
      "outputs": []
    },
    {
      "cell_type": "markdown",
      "metadata": {
        "id": "EVbRs10eYYLR"
      },
      "source": [
        "\n",
        "Writeable returned arrays :\n"
      ]
    },
    {
      "cell_type": "code",
      "metadata": {
        "id": "MLvf1wGoYTRT"
      },
      "source": [
        "\n",
        "a = np.zeros((3, 3))\n",
        "np.einsum('ii->i', a)[:] = 1\n",
        "a\n"
      ],
      "execution_count": null,
      "outputs": []
    },
    {
      "cell_type": "markdown",
      "metadata": {
        "id": "VaMBfufDY852"
      },
      "source": [
        "Ejemplo de uso de ellipsis:"
      ]
    },
    {
      "cell_type": "code",
      "metadata": {
        "colab": {
          "base_uri": "https://localhost:8080/"
        },
        "id": "mseId88yY8Iq",
        "outputId": "d1a04b98-3673-4a3b-cbe0-85d17c900583"
      },
      "source": [
        "a = np.arange(6).reshape((3,2))\n",
        "b = np.arange(12).reshape((4,3))\n",
        "print(np.einsum('ki,jk->ij', a, b))\n",
        "print(np.einsum('ki,...k->i...', a, b))\n",
        "np.einsum('k...,jk', a, b)\n"
      ],
      "execution_count": 14,
      "outputs": [
        {
          "output_type": "stream",
          "text": [
            "[[10 28 46 64]\n",
            " [13 40 67 94]]\n",
            "[[10 28 46 64]\n",
            " [13 40 67 94]]\n"
          ],
          "name": "stdout"
        },
        {
          "output_type": "execute_result",
          "data": {
            "text/plain": [
              "array([[10, 28, 46, 64],\n",
              "       [13, 40, 67, 94]])"
            ]
          },
          "metadata": {
            "tags": []
          },
          "execution_count": 14
        }
      ]
    },
    {
      "cell_type": "markdown",
      "metadata": {
        "id": "0DYH8AAEZU9n"
      },
      "source": [
        "Operaciones de arreglos en cadena. Para contracciones más complicadas, se puede mejorar la velocidad usando la opción 'greedy' u 'optimal'. \n",
        "Las mejoras pueden ser significantes con arreglos muy grandes:\n"
      ]
    },
    {
      "cell_type": "code",
      "metadata": {
        "colab": {
          "base_uri": "https://localhost:8080/"
        },
        "id": "hFIANxwvZUSv",
        "outputId": "93ae7e23-1028-4e34-e31f-994ac2eb30f6"
      },
      "source": [
        "a = np.ones(64).reshape(2,4,8)\n",
        "print(a)\n",
        "for iteration in range(500):\n",
        "    _ = np.einsum('ijk,ilm,njm,nlk,abc->',a,a,a,a,a)"
      ],
      "execution_count": 17,
      "outputs": [
        {
          "output_type": "stream",
          "text": [
            "[[[1. 1. 1. 1. 1. 1. 1. 1.]\n",
            "  [1. 1. 1. 1. 1. 1. 1. 1.]\n",
            "  [1. 1. 1. 1. 1. 1. 1. 1.]\n",
            "  [1. 1. 1. 1. 1. 1. 1. 1.]]\n",
            "\n",
            " [[1. 1. 1. 1. 1. 1. 1. 1.]\n",
            "  [1. 1. 1. 1. 1. 1. 1. 1.]\n",
            "  [1. 1. 1. 1. 1. 1. 1. 1.]\n",
            "  [1. 1. 1. 1. 1. 1. 1. 1.]]]\n"
          ],
          "name": "stdout"
        }
      ]
    },
    {
      "cell_type": "code",
      "metadata": {
        "colab": {
          "base_uri": "https://localhost:8080/"
        },
        "id": "a6VHCOWwaIx1",
        "outputId": "89fdf481-d33d-4a3a-c123-6b2add217ea7"
      },
      "source": [
        "\n",
        "%%timeit \n",
        "for iteration in range(500):\n",
        "  hs = np.einsum('ijk,ilm,njm,nlk,abc->',a,a,a,a,a, optimize='optimal')\n",
        "print(hs)"
      ],
      "execution_count": 25,
      "outputs": [
        {
          "output_type": "stream",
          "text": [
            "262144.0\n",
            "262144.0\n",
            "262144.0\n",
            "262144.0\n",
            "1 loop, best of 3: 491 ms per loop\n"
          ],
          "name": "stdout"
        }
      ]
    },
    {
      "cell_type": "code",
      "metadata": {
        "colab": {
          "base_uri": "https://localhost:8080/"
        },
        "id": "xTXarrgOaPHt",
        "outputId": "1a230387-f601-4803-b434-1469c4d89014"
      },
      "source": [
        "%%timeit \n",
        "for iteration in range(500):\n",
        "    _ = np.einsum('ijk,ilm,njm,nlk,abc->',a,a,a,a,a, optimize='greedy')"
      ],
      "execution_count": 26,
      "outputs": [
        {
          "output_type": "stream",
          "text": [
            "1 loop, best of 3: 179 ms per loop\n"
          ],
          "name": "stdout"
        }
      ]
    },
    {
      "cell_type": "code",
      "metadata": {
        "colab": {
          "base_uri": "https://localhost:8080/"
        },
        "id": "T4zQR0zwaT7Q",
        "outputId": "23e50daa-9950-48fe-cc44-11799966a255"
      },
      "source": [
        "%%timeit \n",
        "path = np.einsum_path('ijk,ilm,njm,nlk,abc->',a,a,a,a,a, optimize='optimal')[0]\n",
        "for iteration in range(500):\n",
        "    _ = np.einsum('ijk,ilm,njm,nlk,abc->',a,a,a,a,a, optimize=path)"
      ],
      "execution_count": 27,
      "outputs": [
        {
          "output_type": "stream",
          "text": [
            "10 loops, best of 3: 129 ms per loop\n"
          ],
          "name": "stdout"
        }
      ]
    },
    {
      "cell_type": "markdown",
      "metadata": {
        "id": "RgFS1eZOdws_"
      },
      "source": [
        "## Matrix Multiplication"
      ]
    },
    {
      "cell_type": "code",
      "metadata": {
        "id": "E0TdsagndySr",
        "colab": {
          "base_uri": "https://localhost:8080/",
          "height": 85
        },
        "outputId": "535c541c-da43-4154-dae9-7198ba1e9ed0"
      },
      "source": [
        "# Define matrix A\n",
        "A = np.array(\n",
        "  [[1.0, 3.0],\n",
        "   [2.0, 1.0],\n",
        "   [4.0, 2.0]]\n",
        ")\n",
        "\n",
        "# Define matrix B\n",
        "B = np.array(\n",
        "  [[6.0, 2.0, 1.0],\n",
        "   [3.0, 4.0, 5.0]]\n",
        ")\n",
        "\n",
        "# Define vector x\n",
        "x = np.array([3.0, 2.0])\n",
        "\n",
        "print('A.shape is:', A.shape, 'B.shape is:', B.shape, 'x.shape is:', x.shape)\n",
        "A"
      ],
      "execution_count": null,
      "outputs": [
        {
          "output_type": "stream",
          "text": [
            "A.shape is: (3, 2) B.shape is: (2, 3) x.shape is: (2,)\n"
          ],
          "name": "stdout"
        },
        {
          "output_type": "execute_result",
          "data": {
            "text/plain": [
              "array([[1., 3.],\n",
              "       [2., 1.],\n",
              "       [4., 2.]])"
            ]
          },
          "metadata": {
            "tags": []
          },
          "execution_count": 56
        }
      ]
    },
    {
      "cell_type": "markdown",
      "metadata": {
        "id": "4xVzrzTskHqK"
      },
      "source": [
        "### Matrix-vector multiplication"
      ]
    },
    {
      "cell_type": "code",
      "metadata": {
        "id": "ySFMEkRrkJ51",
        "colab": {
          "base_uri": "https://localhost:8080/",
          "height": 85
        },
        "outputId": "f52ddad3-c34a-4a07-8ec4-8682e1abcc4e"
      },
      "source": [
        "# Using numpy dot\n",
        "y = A.dot(x)\n",
        "\n",
        "print('Using dot:\\t y =', y, '\\t y.shape =', y.shape)\n",
        "\n",
        "# Using einsum\n",
        "y = np.einsum('ij, j', A, x)\n",
        "\n",
        "print('Using einsum:\\t y =', y, '\\t y.shape =', y.shape)\n",
        "\n",
        "# Manual version 1\n",
        "y = np.array([\n",
        "    A[0,0] * x[0] + A[0,1] * x[1],\n",
        "    A[1,0] * x[0] + A[1,1] * x[1],\n",
        "    A[2,0] * x[0] + A[2,1] * x[1],\n",
        "    ])\n",
        "print('Manual 1:\\t y =', y, '\\t y.shape =', y.shape)\n",
        "\n",
        "# Manual version 2: \n",
        "# Matrix-vector multiplication can be thought of as a linear combination of the columns of of the matrix\n",
        "y = x[0] * A[:,0]  +  x[1] * A[:, 1]\n",
        "\n",
        "print('Manual 2:\\t y =', y, '\\t y.shape =', y.shape)"
      ],
      "execution_count": null,
      "outputs": [
        {
          "output_type": "stream",
          "text": [
            "Using dot:\t y = [ 9.  8. 16.] \t y.shape = (3,)\n",
            "Using einsum:\t y = [ 9.  8. 16.] \t y.shape = (3,)\n",
            "Manual 1:\t y = [ 9.  8. 16.] \t y.shape = (3,)\n",
            "Manual 2:\t y = [ 9.  8. 16.] \t y.shape = (3,)\n"
          ],
          "name": "stdout"
        }
      ]
    },
    {
      "cell_type": "markdown",
      "metadata": {
        "id": "IXfRCQfglg7Y"
      },
      "source": [
        "### Matrix-matrix multiplication"
      ]
    },
    {
      "cell_type": "code",
      "metadata": {
        "id": "CCw3o6GMeD1o",
        "colab": {
          "base_uri": "https://localhost:8080/",
          "height": 459
        },
        "outputId": "8f963951-8502-4b13-b858-fce70e4c6538"
      },
      "source": [
        "# Using numpy dot\n",
        "C = A.dot(B)\n",
        "\n",
        "print('Using DOT: C= \\n\\n', C, '\\n\\nC.shape =', C.shape)\n",
        "\n",
        "# Using einsum\n",
        "C = np.einsum('ik, kj', A, B)\n",
        "print('\\n\\nUsing einsum: C= \\n\\n', C, '\\n\\nC.shape =', C.shape)\n",
        "\n",
        "# Note, the above einsum notation is equivalent to the following\n",
        "C = np.einsum('ik, kj -> ij', A, B)\n",
        "\n",
        "# And in Tensorflow\n",
        "C = tf.matmul(A, B)\n",
        "print('\\n\\nUsing Tensorflow: C= \\n\\n', C, '\\n\\nC.shape =', C.shape)"
      ],
      "execution_count": null,
      "outputs": [
        {
          "output_type": "stream",
          "text": [
            "Using DOT: C= \n",
            "\n",
            " [[15. 14. 16.]\n",
            " [15.  8.  7.]\n",
            " [30. 16. 14.]] \n",
            "\n",
            "C.shape = (3, 3)\n",
            "\n",
            "\n",
            "Using einsum: C= \n",
            "\n",
            " [[15. 14. 16.]\n",
            " [15.  8.  7.]\n",
            " [30. 16. 14.]] \n",
            "\n",
            "C.shape = (3, 3)\n",
            "\n",
            "\n",
            "Using Tensorflow: C= \n",
            "\n",
            " tf.Tensor(\n",
            "[[15. 14. 16.]\n",
            " [15.  8.  7.]\n",
            " [30. 16. 14.]], shape=(3, 3), dtype=float64) \n",
            "\n",
            "C.shape = (3, 3)\n"
          ],
          "name": "stdout"
        }
      ]
    },
    {
      "cell_type": "markdown",
      "metadata": {
        "id": "o3U0Fc7mlxSd"
      },
      "source": [
        "Matrix multiplication is not commutative"
      ]
    },
    {
      "cell_type": "code",
      "metadata": {
        "id": "iiI6J7ZDj9Fl",
        "colab": {
          "base_uri": "https://localhost:8080/",
          "height": 102
        },
        "outputId": "1c0e575f-1b2c-4da6-aab1-7f1e5ed60f19"
      },
      "source": [
        "# Matrix multiplication is not commutative:\n",
        "C = B.dot(A)\n",
        "print('C: \\n', C)\n",
        "print()\n",
        "print('C.shape:', C.shape)"
      ],
      "execution_count": null,
      "outputs": [
        {
          "output_type": "stream",
          "text": [
            "C: \n",
            " [[14. 22.]\n",
            " [31. 23.]]\n",
            "\n",
            "C.shape: (2, 2)\n"
          ],
          "name": "stdout"
        }
      ]
    },
    {
      "cell_type": "markdown",
      "metadata": {
        "id": "WxJ0muOj34SB"
      },
      "source": [
        "## Computing gradients with TensorFlow\n",
        "$y = Ax$\n",
        "\n",
        "In the code below, we use Tensorflow to calculate the following derivatives:\n",
        "\n",
        "$\\frac{dy}{dx}$ \n",
        "\n",
        "and \n",
        "\n",
        "$\\frac{\\partial y}{\\partial A}$ "
      ]
    },
    {
      "cell_type": "code",
      "metadata": {
        "id": "5wCGTn1s3zlV",
        "colab": {
          "base_uri": "https://localhost:8080/",
          "height": 119
        },
        "outputId": "2b250cbe-4c07-481d-ecf9-ed8d449cf921"
      },
      "source": [
        "A_tensor = tfe.Variable(A)\n",
        "x_tensor = tfe.Variable(x)\n",
        "\n",
        "with tf.GradientTape() as tape:\n",
        "  y = tf.einsum('ij,j', A_tensor, x_tensor)\n",
        "\n",
        "dydx, dydA = tape.gradient(y, [x_tensor, A_tensor])\n",
        "\n",
        "print('dy/dx =', dydx)\n",
        "print()\n",
        "print('dy/dA =', dydA)"
      ],
      "execution_count": null,
      "outputs": [
        {
          "output_type": "stream",
          "text": [
            "dy/dx = tf.Tensor([7. 6.], shape=(2,), dtype=float64)\n",
            "\n",
            "dy/dA = tf.Tensor(\n",
            "[[3. 2.]\n",
            " [3. 2.]\n",
            " [3. 2.]], shape=(3, 2), dtype=float64)\n"
          ],
          "name": "stdout"
        }
      ]
    },
    {
      "cell_type": "markdown",
      "metadata": {
        "id": "btAykJ_oEZ-i"
      },
      "source": [
        "# Neural Network Gradient Example\n",
        "In the following example, we compute the output of a 1 layer neural network and the gradients with respect to its parameters. We define an example input vector and parameters, but keep the computation generic. You can change the values and shapes of x, A and b below and run the rest of the code to compute the output and gradients for your own example."
      ]
    },
    {
      "cell_type": "code",
      "metadata": {
        "id": "WRnif1ZP4kYQ"
      },
      "source": [
        "x = np.array([[-1.], [0.1], [2.1]])  # X has shape (3, 1)\n",
        "A = np.array([              # A has shape (2, 3)\n",
        "    [ 1.1, -2.5,  0.3],\n",
        "    [-2.1,  0.2, -1.1]\n",
        "])  \n",
        "b = np.array([[-1.0], [2.0]])      # b has shape (2)"
      ],
      "execution_count": null,
      "outputs": []
    },
    {
      "cell_type": "markdown",
      "metadata": {
        "id": "XaTm7-r9FBxl"
      },
      "source": [
        "Compute the neural network output\n",
        "$\\mathbf{f} = \\operatorname{tanh}(A\\mathbf{x} + \\mathbf{b})$"
      ]
    },
    {
      "cell_type": "code",
      "metadata": {
        "id": "1HR6uCTjFAvV",
        "colab": {
          "base_uri": "https://localhost:8080/",
          "height": 51
        },
        "outputId": "ff5beb67-d370-4a70-a8ee-b6c4b64a585e"
      },
      "source": [
        "M, N = A.shape\n",
        "z = A.dot(x) + b\n",
        "f = np.tanh(z)\n",
        "\n",
        "print('f =', f)"
      ],
      "execution_count": null,
      "outputs": [
        {
          "output_type": "stream",
          "text": [
            "f = [[-0.93786303]\n",
            " [ 0.94783185]]\n"
          ],
          "name": "stdout"
        }
      ]
    },
    {
      "cell_type": "markdown",
      "metadata": {
        "id": "wQKVQ13jGkIH"
      },
      "source": [
        "Compute the partial derivatives:\n",
        "\n",
        "\\begin{align}\n",
        "\\frac{d\\mathbf{f}}{d\\mathbf{z}} ; \\frac{\\partial\\mathbf{z}}{\\partial\\mathbf{x}} ; \\frac{\\partial\\mathbf{z}}{\\partial\\mathbf{b}} ; \\frac{\\partial\\mathbf{z}}{\\partial\\mathbf{A}}\n",
        "\\end{align}"
      ]
    },
    {
      "cell_type": "code",
      "metadata": {
        "id": "sJF9p5lHE4Z_",
        "colab": {
          "base_uri": "https://localhost:8080/",
          "height": 425
        },
        "outputId": "3900b59e-ab3d-4f9d-caa4-dd79c7fd49c6"
      },
      "source": [
        "# partial derivatives\n",
        "dfdz = 1-f**2       # (derivative of tanh is 1-tanh^2)\n",
        "print('df/dz =', dfdz, '\\nshape:', dfdz.shape)\n",
        "print()\n",
        "\n",
        "dzdx = A\n",
        "print('dz/dx =\\n', dzdx, '\\n\\nshape:', dzdx.shape)\n",
        "print()\n",
        "\n",
        "dzdb = np.eye(M)\n",
        "print('dz/db =\\n', dzdb, '\\n\\nshape:', dzdb.shape)\n",
        "print()\n",
        "\n",
        "dzdA = np.zeros((M, M, N))  # Start with a tensor of zeros of the correct shape\n",
        "for i in range(M):          # Then set the diagonal elements of dzdA\n",
        "  dzdA[i,i,:] = x.T  \n",
        "\n",
        "print('dz/dA =\\n', dzdA, '\\n\\nshape:', dzdA.shape)\n",
        "\n"
      ],
      "execution_count": null,
      "outputs": [
        {
          "output_type": "stream",
          "text": [
            "df/dz = [[0.12041293]\n",
            " [0.10161478]] \n",
            "shape: (2, 1)\n",
            "\n",
            "dz/dx =\n",
            " [[ 1.1 -2.5  0.3]\n",
            " [-2.1  0.2 -1.1]] \n",
            "\n",
            "shape: (2, 3)\n",
            "\n",
            "dz/db =\n",
            " [[1. 0.]\n",
            " [0. 1.]] \n",
            "\n",
            "shape: (2, 2)\n",
            "\n",
            "dz/dA =\n",
            " [[[-1.   0.1  2.1]\n",
            "  [ 0.   0.   0. ]]\n",
            "\n",
            " [[ 0.   0.   0. ]\n",
            "  [-1.   0.1  2.1]]] \n",
            "\n",
            "shape: (2, 2, 3)\n"
          ],
          "name": "stdout"
        }
      ]
    },
    {
      "cell_type": "markdown",
      "metadata": {
        "id": "Gcw6bNirweZl"
      },
      "source": [
        "Finally, we compute the gradients of the neural network output $f$ with respect to the parameters $A$ and $\\mathbf{b}$ and the input $\\mathbf{x}$ using the chain rule:\n",
        "\n",
        "\\begin{align}\n",
        "\\frac{\\partial \\mathbf{f}}{\\partial \\mathbf{x}} &= \\frac{d \\mathbf{f}}{d \\mathbf{z}} \\frac{\\partial \\mathbf{z}}{\\partial \\mathbf{x}} \\ ; \\ \n",
        "\\frac{\\partial \\mathbf{f}}{\\partial \\mathbf{b}} = \\frac{d \\mathbf{f}}{d \\mathbf{z}} \\frac{\\partial \\mathbf{z}}{\\partial \\mathbf{b}} \\ ; \\ \n",
        "\\frac{\\partial \\mathbf{f}}{\\partial A} = \\frac{d \\mathbf{f}}{d \\mathbf{z}} \\frac{\\partial \\mathbf{z}}{\\partial A} \n",
        "\\end{align}"
      ]
    },
    {
      "cell_type": "code",
      "metadata": {
        "id": "o22q4uljzbpR",
        "colab": {
          "base_uri": "https://localhost:8080/",
          "height": 357
        },
        "outputId": "c07b47af-c680-4e0a-ef47-f9bf921a8346"
      },
      "source": [
        "dfdx = np.einsum('il, lj', dfdz, dzdx)\n",
        "print('df/dx =\\n', dfdx, '\\n\\nshape:', dfdx.shape)\n",
        "print()\n",
        "\n",
        "dfdb = np.einsum('il, lj', dfdz, dzdb)\n",
        "print('df/db =\\n', dfdb, '\\n\\nshape:', dfdb.shape)\n",
        "print()\n",
        "\n",
        "dfdA = np.einsum('il, ljk', dfdz, dzdA)\n",
        "print('df/dA =\\n', dfdA, '\\n\\nshape:', dfdA.shape)"
      ],
      "execution_count": null,
      "outputs": [
        {
          "output_type": "stream",
          "text": [
            "df/dx =\n",
            " [[-0.12041293 -0.27694975 -0.09633035]\n",
            " [-0.10161478 -0.233714   -0.08129183]] \n",
            "\n",
            "shape: (2, 3)\n",
            "\n",
            "df/db =\n",
            " [[0.12041293 0.12041293]\n",
            " [0.10161478 0.10161478]] \n",
            "\n",
            "shape: (2, 2)\n",
            "\n",
            "df/dA =\n",
            " [[[-0.12041293  0.01204129  0.25286716]\n",
            "  [-0.12041293  0.01204129  0.25286716]]\n",
            "\n",
            " [[-0.10161478  0.01016148  0.21339105]\n",
            "  [-0.10161478  0.01016148  0.21339105]]] \n",
            "\n",
            "shape: (2, 2, 3)\n"
          ],
          "name": "stdout"
        }
      ]
    }
  ]
}