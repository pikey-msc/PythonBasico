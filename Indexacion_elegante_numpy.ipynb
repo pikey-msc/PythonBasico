{
  "nbformat": 4,
  "nbformat_minor": 0,
  "metadata": {
    "anaconda-cloud": {},
    "kernelspec": {
      "display_name": "Python 3",
      "language": "python",
      "name": "python3"
    },
    "language_info": {
      "codemirror_mode": {
        "name": "ipython",
        "version": 3
      },
      "file_extension": ".py",
      "mimetype": "text/x-python",
      "name": "python",
      "nbconvert_exporter": "python",
      "pygments_lexer": "ipython3",
      "version": "3.5.1"
    },
    "colab": {
      "name": "Indexacion_elegante.ipynb",
      "provenance": [],
      "collapsed_sections": [],
      "include_colab_link": true
    }
  },
  "cells": [
    {
      "cell_type": "markdown",
      "metadata": {
        "id": "view-in-github",
        "colab_type": "text"
      },
      "source": [
        "<a href=\"https://colab.research.google.com/github/pikey-msc/PythonBasico/blob/master/Indexacion_elegante_numpy.ipynb\" target=\"_parent\"><img src=\"https://colab.research.google.com/assets/colab-badge.svg\" alt=\"Open In Colab\"/></a>"
      ]
    },
    {
      "cell_type": "markdown",
      "metadata": {
        "id": "v8SDax7KiJqN"
      },
      "source": [
        "# Indexación"
      ]
    },
    {
      "cell_type": "markdown",
      "metadata": {
        "id": "qMp4H1hliJqN"
      },
      "source": [
        "En los modulos anteriores vimos cómo acceder y modificar porciones de matrices o índices simples (``arr[0]``), slices (ej. ``arr[:5]``), y mascaras booleanas (ej. ``arr[arr > 0]``).\n",
        "En est módulo veremos otro estilo de indexarlos conocido como Fancy Indexing (indexación elegante) es similar a la indexación simple, pero pasamos matrices de índices en lugar de escalares, permitiendonos acceder y modificar muy rápidamente subconjuntos complicados de los valores de una matriz."
      ]
    },
    {
      "cell_type": "markdown",
      "metadata": {
        "id": "EG-Pjtf4iJqN"
      },
      "source": [
        "## Explorando la indexación elegante\n",
        "\n",
        "Significa pasar una matriz de índices para acceder a varios elementos de la matriz a la vez. Por ejemplo, consideremos la siguiente matriz."
      ]
    },
    {
      "cell_type": "code",
      "metadata": {
        "id": "Lh_zDAZ4iJqN",
        "colab": {
          "base_uri": "https://localhost:8080/"
        },
        "outputId": "089b2a12-ba73-4f59-c21d-8cbdfd532afd"
      },
      "source": [
        "import numpy as np\n",
        "rand = np.random.RandomState(42)\n",
        "x = rand.randint(100, size=10)\n",
        "print(x)"
      ],
      "execution_count": null,
      "outputs": [
        {
          "output_type": "stream",
          "text": [
            "hola RandomState(MT19937)\n",
            "[51 92 14 71 60 20 82 86 74 74]\n"
          ],
          "name": "stdout"
        }
      ]
    },
    {
      "cell_type": "markdown",
      "metadata": {
        "id": "MucK1dGNiJqS"
      },
      "source": [
        "Supongamos que queremos acceder a tres de elementos diferentes. Podríamos hacerlo así:"
      ]
    },
    {
      "cell_type": "code",
      "metadata": {
        "id": "BO-w6B4kiJqS",
        "outputId": "47b8b902-dcaa-4863-feeb-f5042362bca8"
      },
      "source": [
        "[x[3], x[7], x[2]]"
      ],
      "execution_count": null,
      "outputs": [
        {
          "output_type": "execute_result",
          "data": {
            "text/plain": [
              "[71, 86, 14]"
            ]
          },
          "metadata": {
            "tags": []
          },
          "execution_count": 2
        }
      ]
    },
    {
      "cell_type": "markdown",
      "metadata": {
        "id": "VtD4uTbJiJqT"
      },
      "source": [
        "Otra alternativa, podríamos pasar una sola lista o cadena de indices obtenidas tambien como resultado."
      ]
    },
    {
      "cell_type": "code",
      "metadata": {
        "id": "8UaPw_saiJqT",
        "outputId": "365535e2-96ae-4c46-cb93-ba3ba06dd96c"
      },
      "source": [
        "ind = [3, 7, 4]\n",
        "x[ind]"
      ],
      "execution_count": null,
      "outputs": [
        {
          "output_type": "execute_result",
          "data": {
            "text/plain": [
              "array([71, 86, 60])"
            ]
          },
          "metadata": {
            "tags": []
          },
          "execution_count": 3
        }
      ]
    },
    {
      "cell_type": "markdown",
      "metadata": {
        "id": "iVOftVXniJqU"
      },
      "source": [
        "Cuando se usa la indexación elegante, el resultado se refleja en forma de matrices de las matrices de índice en lugar de la forma de la matriz que se indexa, por ejemplo:"
      ]
    },
    {
      "cell_type": "code",
      "metadata": {
        "id": "zLaO5tnqiJqU",
        "outputId": "8c73f2a2-81cf-4fbe-e1d7-423f52e7837b"
      },
      "source": [
        "ind = np.array([[3, 7],\n",
        "                [4, 5]])\n",
        "x[ind]"
      ],
      "execution_count": null,
      "outputs": [
        {
          "output_type": "execute_result",
          "data": {
            "text/plain": [
              "array([[71, 86],\n",
              "       [60, 20]])"
            ]
          },
          "metadata": {
            "tags": []
          },
          "execution_count": 4
        }
      ]
    },
    {
      "cell_type": "markdown",
      "metadata": {
        "id": "gkR_jp_NiJqW"
      },
      "source": [
        "De igual manera funciona para múltiples dimensiones.\n",
        "Considere la siguiente matriz:"
      ]
    },
    {
      "cell_type": "code",
      "metadata": {
        "id": "S42F6bXJiJqW",
        "outputId": "da575cb7-ae5b-4f25-95b0-dc9570c7eb65"
      },
      "source": [
        "X = np.arange(12).reshape((3, 4))\n",
        "X"
      ],
      "execution_count": null,
      "outputs": [
        {
          "output_type": "execute_result",
          "data": {
            "text/plain": [
              "array([[ 0,  1,  2,  3],\n",
              "       [ 4,  5,  6,  7],\n",
              "       [ 8,  9, 10, 11]])"
            ]
          },
          "metadata": {
            "tags": []
          },
          "execution_count": 5
        }
      ]
    },
    {
      "cell_type": "markdown",
      "metadata": {
        "id": "wj04Ib7ziJqW"
      },
      "source": [
        "Al igual que con la indexación simple, el primer índice se refiere a la fila, y el segundo a la columna:"
      ]
    },
    {
      "cell_type": "code",
      "metadata": {
        "id": "c2Hh_KGCiJqW",
        "outputId": "e5ef02d6-4e78-448f-8d92-87b6af8aec96"
      },
      "source": [
        "row = np.array([0, 1, 2])\n",
        "col = np.array([2, 1, 3])\n",
        "X[row, col]"
      ],
      "execution_count": null,
      "outputs": [
        {
          "output_type": "execute_result",
          "data": {
            "text/plain": [
              "array([ 2,  5, 11])"
            ]
          },
          "metadata": {
            "tags": []
          },
          "execution_count": 6
        }
      ]
    },
    {
      "cell_type": "markdown",
      "metadata": {
        "id": "Y4sOHUrKiJqX"
      },
      "source": [
        "Observemos que el primer resultado ``X[0, 2]``, el segundo es ``X[1, 1]``, y el tercero es ``X[2, 3]``.\n",
        "\n",
        "Entonces, por ejemplo, si nosotros combinamos un vector columna y una vector de fila dentro de los índices, obtendremos un resultado bidemensional."
      ]
    },
    {
      "cell_type": "code",
      "metadata": {
        "id": "s6IvvTb_iJqX",
        "outputId": "2e9da4e1-ead3-4a93-8351-9989ab1d2418"
      },
      "source": [
        "X[row[:, np.newaxis], col]"
      ],
      "execution_count": null,
      "outputs": [
        {
          "output_type": "execute_result",
          "data": {
            "text/plain": [
              "array([[ 2,  1,  3],\n",
              "       [ 6,  5,  7],\n",
              "       [10,  9, 11]])"
            ]
          },
          "metadata": {
            "tags": []
          },
          "execution_count": 7
        }
      ]
    },
    {
      "cell_type": "markdown",
      "metadata": {
        "id": "yRdqs4MNiJqZ"
      },
      "source": [
        "Aquí, cada valor de la fila se une con cada vector columna, exactamente commo vimos en las operaciones aritméticas.\n",
        "Por ejemplo:"
      ]
    },
    {
      "cell_type": "code",
      "metadata": {
        "id": "7NxKpGJpiJqZ",
        "outputId": "7b615fb3-aae6-4373-ebe0-d13b6ef745b6"
      },
      "source": [
        "row[:, np.newaxis] * col"
      ],
      "execution_count": null,
      "outputs": [
        {
          "output_type": "execute_result",
          "data": {
            "text/plain": [
              "array([[0, 0, 0],\n",
              "       [2, 1, 3],\n",
              "       [4, 2, 6]])"
            ]
          },
          "metadata": {
            "tags": []
          },
          "execution_count": 8
        }
      ]
    },
    {
      "cell_type": "markdown",
      "metadata": {
        "id": "FSBlNOnoiJqZ"
      },
      "source": [
        "Siempre es importante recordad que la salida de indexación elegante regleja la forma transmitida de los índices, en lugar de la forma de la matriz que se indexa."
      ]
    },
    {
      "cell_type": "markdown",
      "metadata": {
        "id": "gMIe6WPWiJqZ"
      },
      "source": [
        "## Indexación combinada\n",
        "\n",
        "Para mejorar aún más las operaciones, Estos tipos de indexaciones se pueden combinar."
      ]
    },
    {
      "cell_type": "code",
      "metadata": {
        "id": "zBLpDLopiJqZ",
        "outputId": "c0c07622-34e2-434a-fb24-91583f02b447"
      },
      "source": [
        "print(X)"
      ],
      "execution_count": null,
      "outputs": [
        {
          "output_type": "stream",
          "text": [
            "[[ 0  1  2  3]\n",
            " [ 4  5  6  7]\n",
            " [ 8  9 10 11]]\n"
          ],
          "name": "stdout"
        }
      ]
    },
    {
      "cell_type": "markdown",
      "metadata": {
        "id": "1nVvKRAviJqa"
      },
      "source": [
        "Podemos combinar índices elegantes y simples."
      ]
    },
    {
      "cell_type": "code",
      "metadata": {
        "id": "pxsbMm9eiJqa",
        "outputId": "6341a4d9-7d52-4192-b88a-8352c7682235"
      },
      "source": [
        "X[2, [2, 0, 1]]"
      ],
      "execution_count": null,
      "outputs": [
        {
          "output_type": "execute_result",
          "data": {
            "text/plain": [
              "array([10,  8,  9])"
            ]
          },
          "metadata": {
            "tags": []
          },
          "execution_count": 10
        }
      ]
    },
    {
      "cell_type": "markdown",
      "metadata": {
        "id": "Dc2zaA65iJqa"
      },
      "source": [
        "También podemos combinar índice elegante con slices."
      ]
    },
    {
      "cell_type": "code",
      "metadata": {
        "id": "ytlc18C9iJqa",
        "outputId": "1c928d2b-0aa3-407b-c8a4-68b2dafb4870"
      },
      "source": [
        "X[1:, [2, 0, 1]]"
      ],
      "execution_count": null,
      "outputs": [
        {
          "output_type": "execute_result",
          "data": {
            "text/plain": [
              "array([[ 6,  4,  5],\n",
              "       [10,  8,  9]])"
            ]
          },
          "metadata": {
            "tags": []
          },
          "execution_count": 11
        }
      ]
    },
    {
      "cell_type": "markdown",
      "metadata": {
        "id": "SYkKJKneiJqa"
      },
      "source": [
        "Y podemos combinarla con masking (enmascaramiento)."
      ]
    },
    {
      "cell_type": "code",
      "metadata": {
        "id": "KswSAlRCiJqa",
        "outputId": "ac998c74-81d5-484a-9dd7-c1a139f2afd0"
      },
      "source": [
        "mask = np.array([1, 0, 1, 0], dtype=bool)\n",
        "X[row[:, np.newaxis], mask]"
      ],
      "execution_count": null,
      "outputs": [
        {
          "output_type": "execute_result",
          "data": {
            "text/plain": [
              "array([[ 0,  2],\n",
              "       [ 4,  6],\n",
              "       [ 8, 10]])"
            ]
          },
          "metadata": {
            "tags": []
          },
          "execution_count": 12
        }
      ]
    },
    {
      "cell_type": "markdown",
      "metadata": {
        "id": "KO2RxwP_iJqa"
      },
      "source": [
        "Todas estas opciones de indexación combinadas conducen a un conjunto flexible de operaciones para acceder y modificar valores de una matriz."
      ]
    },
    {
      "cell_type": "markdown",
      "metadata": {
        "id": "WN8ReMoeiJqb"
      },
      "source": [
        "## Example: Seleccionar puntos aleatorios\n",
        "\n",
        "Un uso comun de la indexación elegante es la selección de subconjuntos de filas de una matriz.\n",
        "Por ejeplo, podríamos tener un $N$ por $M$ representando una matriz de $N$ puntos en $M$ dimensiones, como los siguientes puntos extraidos de una distribución normal bidimensional"
      ]
    },
    {
      "cell_type": "code",
      "metadata": {
        "id": "EIE4pfSiiJqb",
        "outputId": "56d58453-0cb6-4276-8293-7703a909a385"
      },
      "source": [
        "mean = [0, 0]\n",
        "cov = [[1, 2],\n",
        "       [2, 5]]\n",
        "X = rand.multivariate_normal(mean, cov, 100)\n",
        "X.shape"
      ],
      "execution_count": null,
      "outputs": [
        {
          "output_type": "execute_result",
          "data": {
            "text/plain": [
              "(100, 2)"
            ]
          },
          "metadata": {
            "tags": []
          },
          "execution_count": 13
        }
      ]
    },
    {
      "cell_type": "markdown",
      "metadata": {
        "id": "feTIouxbiJqb"
      },
      "source": [
        "Usando las herramientras de matplotlib podemos visualizar estos puntos como un diagrama de dispersión:"
      ]
    },
    {
      "cell_type": "code",
      "metadata": {
        "id": "QPYowh-uiJqb",
        "outputId": "2457dc51-5972-4306-ab3a-29c336c85ed7"
      },
      "source": [
        "%matplotlib inline\n",
        "import matplotlib.pyplot as plt\n",
        "import seaborn; seaborn.set()  # Estilos de gráfico\n",
        "\n",
        "plt.scatter(X[:, 0], X[:, 1]);"
      ],
      "execution_count": null,
      "outputs": [
        {
          "output_type": "display_data",
          "data": {
            "image/png": "[encoded data removed]",
            "text/plain": [
              "<matplotlib.figure.Figure at 0x10e332048>"
            ]
          },
          "metadata": {
            "tags": []
          }
        }
      ]
    },
    {
      "cell_type": "markdown",
      "metadata": {
        "id": "I7X54DZqiJqb"
      },
      "source": [
        "Usemos una indexación elegante para seleccionar 20 puntos aleatorios Lo haremos primero seleccionando 20 índices aleatorios sin repeticiones, y usando esos indices para seleccionar na parte de la matriz original:"
      ]
    },
    {
      "cell_type": "code",
      "metadata": {
        "id": "oZ7KXPsPiJqb",
        "outputId": "299131b5-1d29-4cca-8369-beaf40c6e7e6"
      },
      "source": [
        "indices = np.random.choice(X.shape[0], 20, replace=False)\n",
        "indices"
      ],
      "execution_count": null,
      "outputs": [
        {
          "output_type": "execute_result",
          "data": {
            "text/plain": [
              "array([93, 45, 73, 81, 50, 10, 98, 94,  4, 64, 65, 89, 47, 84, 82, 80, 25,\n",
              "       90, 63, 20])"
            ]
          },
          "metadata": {
            "tags": []
          },
          "execution_count": 15
        }
      ]
    },
    {
      "cell_type": "code",
      "metadata": {
        "id": "1YrHa4zaiJqb",
        "outputId": "fb7bd868-27f5-4eea-bb8b-a94771835189"
      },
      "source": [
        "selection = X[indices]  # Indexación elegante\n",
        "selection.shape"
      ],
      "execution_count": null,
      "outputs": [
        {
          "output_type": "execute_result",
          "data": {
            "text/plain": [
              "(20, 2)"
            ]
          },
          "metadata": {
            "tags": []
          },
          "execution_count": 16
        }
      ]
    },
    {
      "cell_type": "markdown",
      "metadata": {
        "id": "2wJKtHisiJqb"
      },
      "source": [
        "Ahora, para ver que los puntos se seleccionaron, vamos a trazar circulos grandes en los puntos seleccionados:"
      ]
    },
    {
      "cell_type": "code",
      "metadata": {
        "id": "ho7wQRBziJqb",
        "outputId": "6e77d8d2-250d-428e-e9be-2882fe2bd340"
      },
      "source": [
        "plt.scatter(X[:, 0], X[:, 1], alpha=0.3)\n",
        "plt.scatter(selection[:, 0], selection[:, 1],\n",
        "            facecolor='none', s=200);"
      ],
      "execution_count": null,
      "outputs": [
        {
          "output_type": "display_data",
          "data": {
            "image/png": "[encoded data removed]",
            "text/plain": [
              "<matplotlib.figure.Figure at 0x118687240>"
            ]
          },
          "metadata": {
            "tags": []
          }
        }
      ]
    },
    {
      "cell_type": "markdown",
      "metadata": {
        "id": "Ib0SSDdRiJqc"
      },
      "source": [
        "Este tipo de estrategia se usa a menudo para dividir rápidamente conjuntos de datos, como a menudo se necesita en los conjutos de entrenamiento o prueba para la validación de modelos estadísticos y en enfoques de muestreo para responder preguntas estadísticas."
      ]
    },
    {
      "cell_type": "markdown",
      "metadata": {
        "id": "Lr732PkIiJqc"
      },
      "source": [
        "## Modificar valores con Indexación elegante\n",
        "\n",
        "ASí como la indexación elegante puede ser usada para acceder a partes de una matriz, esto también puede usarse para modificar partes de una cadena.\n",
        "\n",
        "Por ejemplo, imagina que tenemos una cadena de índices y nos gustaría establecer los elementos en una matriz de algún valor:"
      ]
    },
    {
      "cell_type": "code",
      "metadata": {
        "id": "3WteyLpliJqc",
        "outputId": "c961dc60-46a0-4f70-c4b7-2ab721aab6ae"
      },
      "source": [
        "x = np.arange(10)\n",
        "i = np.array([2, 1, 8, 4])\n",
        "x[i] = 99\n",
        "print(x)"
      ],
      "execution_count": null,
      "outputs": [
        {
          "output_type": "stream",
          "text": [
            "[ 0 99 99  3 99  5  6  7 99  9]\n"
          ],
          "name": "stdout"
        }
      ]
    },
    {
      "cell_type": "markdown",
      "metadata": {
        "id": "c4-29ylbiJqc"
      },
      "source": [
        "Podemos usar cualquier tipo de asignación de operador para esto. Por ejemplo:"
      ]
    },
    {
      "cell_type": "code",
      "metadata": {
        "id": "LAC4-IFuiJqc",
        "outputId": "54dcffc1-5413-4b44-b144-2e2d93ae91e8"
      },
      "source": [
        "x[i] -= 10\n",
        "print(x)"
      ],
      "execution_count": null,
      "outputs": [
        {
          "output_type": "stream",
          "text": [
            "[ 0 89 89  3 89  5  6  7 89  9]\n"
          ],
          "name": "stdout"
        }
      ]
    },
    {
      "cell_type": "markdown",
      "metadata": {
        "id": "VU0GDTREiJqc"
      },
      "source": [
        "Sin embargo, tengamos en cuenta que los índices repetidos con estas operaciones pueden provocar algunos resultados inesperados, consideremos lo siguiente:"
      ]
    },
    {
      "cell_type": "code",
      "metadata": {
        "id": "xu1Dn_lriJqc",
        "outputId": "d611944b-40f0-476d-c2d4-09255b2dcf36"
      },
      "source": [
        "x = np.zeros(10)\n",
        "x[[0, 0]] = [4, 6]\n",
        "print(x)"
      ],
      "execution_count": null,
      "outputs": [
        {
          "output_type": "stream",
          "text": [
            "[ 6.  0.  0.  0.  0.  0.  0.  0.  0.  0.]\n"
          ],
          "name": "stdout"
        }
      ]
    },
    {
      "cell_type": "markdown",
      "metadata": {
        "id": "6EsxlLjYiJqc"
      },
      "source": [
        "¿A donde se fue el 4? El resulado de esta operación es primero asignar``x[0] = 4``, seguido por ``x[0] = 6``.\n",
        "El resulatdo, es dado que ``x[0]`` contiene el valor 6.\n",
        "\n",
        "Consideremos esta operación:"
      ]
    },
    {
      "cell_type": "code",
      "metadata": {
        "id": "ULPguU1iiJqc",
        "outputId": "de18bfde-2589-4f78-d12d-9e46e2d76ef0"
      },
      "source": [
        "i = [2, 3, 3, 4, 4, 4]\n",
        "x[i] += 1\n",
        "x"
      ],
      "execution_count": null,
      "outputs": [
        {
          "output_type": "execute_result",
          "data": {
            "text/plain": [
              "array([ 6.,  0.,  1.,  1.,  1.,  0.,  0.,  0.,  0.,  0.])"
            ]
          },
          "metadata": {
            "tags": []
          },
          "execution_count": 21
        }
      ]
    },
    {
      "cell_type": "markdown",
      "metadata": {
        "id": "Pek8hIe0iJqd"
      },
      "source": [
        "Podrías esperar que ``x[3]`` podría contener el valor de 2, y ``x[4]`` podría contener el valor de 3, ya que esta es la cantidad de veces que el índice se repite. ¿Por qué este no es el caso?\n",
        "Conceptualmente, esto es porque ``x[i] += 1``  se entiende como una abreviatura de ``x[i] = x[i] + 1``. ``x[i] + 1`` se evalúa, y luego el resultado se asigna a los índices de x.\n",
        "Con esto en cuenta, no es el aumento lo que ocurre varias veces, sino la asignación lo que conduce a los resultados poco intuitivos.\n",
        "\n",
        "Entonces, ¿Qué pasa si se quiere otro comportamiento donde se repite la operación? Para esto, puedes utilizar el ``at()`` metodo de ufuncs (disponible desde NumPy 1.8), y hace lo siguiente:"
      ]
    },
    {
      "cell_type": "code",
      "metadata": {
        "id": "A3baEsZ8iJqd",
        "outputId": "d7e3108b-1a70-43d0-a511-1bc65ba37dac"
      },
      "source": [
        "x = np.zeros(10)\n",
        "np.add.at(x, i, 1)\n",
        "print(x)"
      ],
      "execution_count": null,
      "outputs": [
        {
          "output_type": "stream",
          "text": [
            "[ 0.  0.  1.  2.  3.  0.  0.  0.  0.  0.]\n"
          ],
          "name": "stdout"
        }
      ]
    },
    {
      "cell_type": "markdown",
      "metadata": {
        "id": "AbZQKKP8iJqd"
      },
      "source": [
        "El ``at()``  método realiza una aplicación que obtiene un operador especificando indices (aquí, ``i``) con valores especificados (aquí, 1).\n",
        "Otro método que es similar es el ``reduceat()`` método de ufuncs, el cual puede leer en la documentación de NumPy."
      ]
    },
    {
      "cell_type": "markdown",
      "metadata": {
        "id": "V7JyBhAEiJqd"
      },
      "source": [
        "## Ejemplo: Binning de datos\n",
        "\n",
        "Puedes usar estas ideas para agrupar datos de manera eficiente para crear un histrograma a mano. Por ejemplo, imagina que tenemos 1,000 datos y nos gustaría encontrar rápidamente onde se encuentran dentro de una matriz de contenedores. Podríamos calcularlo usando ``ufunc.at`` así:"
      ]
    },
    {
      "cell_type": "code",
      "metadata": {
        "id": "_t2zejXfiJqd"
      },
      "source": [
        "np.random.seed(42)\n",
        "x = np.random.randn(100)\n",
        "\n",
        "# Calcular un histograma a mano\n",
        "bins = np.linspace(-5, 5, 20)\n",
        "counts = np.zeros_like(bins)\n",
        "\n",
        "# Encontrar el contenedor apropiado para cada x\n",
        "i = np.searchsorted(bins, x)\n",
        "\n",
        "# Agramos 1 a cada uno de los contenedores \n",
        "np.add.at(counts, i, 1)"
      ],
      "execution_count": null,
      "outputs": []
    },
    {
      "cell_type": "markdown",
      "metadata": {
        "id": "wRaiskY0iJqd"
      },
      "source": [
        "Los recuentos ahora reflejan el número de puntos dentro de cada contenedor, en es decir, un histograma:"
      ]
    },
    {
      "cell_type": "code",
      "metadata": {
        "id": "gPYptW2eiJqd",
        "colab": {
          "base_uri": "https://localhost:8080/",
          "height": 180
        },
        "outputId": "f2160882-456a-47ac-b1e1-939ac27f4686"
      },
      "source": [
        "# Diagrama de los resultados\n",
        "plt.plot(bins, counts, linestyle='steps');"
      ],
      "execution_count": null,
      "outputs": [
        {
          "output_type": "error",
          "ename": "NameError",
          "evalue": "ignored",
          "traceback": [
            "\u001b[0;31m---------------------------------------------------------------------------\u001b[0m",
            "\u001b[0;31mNameError\u001b[0m                                 Traceback (most recent call last)",
            "\u001b[0;32m<ipython-input-3-96f9e174e9cc>\u001b[0m in \u001b[0;36m<module>\u001b[0;34m()\u001b[0m\n\u001b[1;32m      1\u001b[0m \u001b[0;31m# plot the results\u001b[0m\u001b[0;34m\u001b[0m\u001b[0;34m\u001b[0m\u001b[0;34m\u001b[0m\u001b[0m\n\u001b[0;32m----> 2\u001b[0;31m \u001b[0mplt\u001b[0m\u001b[0;34m.\u001b[0m\u001b[0mplot\u001b[0m\u001b[0;34m(\u001b[0m\u001b[0mbins\u001b[0m\u001b[0;34m,\u001b[0m \u001b[0mcounts\u001b[0m\u001b[0;34m,\u001b[0m \u001b[0mlinestyle\u001b[0m\u001b[0;34m=\u001b[0m\u001b[0;34m'steps'\u001b[0m\u001b[0;34m)\u001b[0m\u001b[0;34m;\u001b[0m\u001b[0;34m\u001b[0m\u001b[0;34m\u001b[0m\u001b[0m\n\u001b[0m",
            "\u001b[0;31mNameError\u001b[0m: name 'plt' is not defined"
          ]
        }
      ]
    },
    {
      "cell_type": "markdown",
      "metadata": {
        "id": "Fdy4ifXZiJqd"
      },
      "source": [
        "Por supuesto, sería muy burdo tener que hacer esto en cada ocación. Por lo que Matplotlib porporciona la función ``plt.hist()`` la cual hace lo mismo en una sola linea.\n",
        "\n",
        "```python\n",
        "plt.hist(x, bins, histtype='step');\n",
        "```\n",
        "\n",
        "Esta función creará un gráfico casi identico a el que se ve aquí.\n",
        "Para calcular el inicio, ``matplotlib`` usa la función ``np.histogram``, la cual hace calculos muy similares a los que hicimos anteriormente. Comparemos los 2 resultados:"
      ]
    },
    {
      "cell_type": "code",
      "metadata": {
        "id": "GIY6aTpAiJqd"
      },
      "source": [
        "print(\"Rutina NumPy:\")\n",
        "%timeit counts, edges = np.histogram(x, bins)\n",
        "\n",
        "print(\"Rutina personalizada:\")\n",
        "%timeit np.add.at(counts, np.searchsorted(bins, x), 1)"
      ],
      "execution_count": null,
      "outputs": []
    },
    {
      "cell_type": "markdown",
      "metadata": {
        "id": "oE00PGx-iJqd"
      },
      "source": [
        "Nuestro algoritmo de una linea es más rapido que el algoritmo optimizado de numpy. ¿Como puede hacer esto?\n",
        "Si se profundiza en el código fuente de ``np.histogram`` (puedes ver esto en  IPython escribiendo ``np.histogram??``), tu verás que esto es más complicado que la busqueda simple y conteo anteriormente creado; esto porque el algoritmo de NumPy es más flexible, y particularmente esta designado para un mejor rendimiento cuando la cantidad de puntos aumenta:"
      ]
    },
    {
      "cell_type": "code",
      "metadata": {
        "id": "bqXMed9HiJqe"
      },
      "source": [
        "x = np.random.randn(1000000)\n",
        "print(\"NumPy routine:\")\n",
        "%timeit counts, edges = np.histogram(x, bins)\n",
        "\n",
        "print(\"Custom routine:\")\n",
        "%timeit np.add.at(counts, np.searchsorted(bins, x), 1)"
      ],
      "execution_count": null,
      "outputs": []
    },
    {
      "cell_type": "markdown",
      "metadata": {
        "id": "WHbdhQvsiJqe"
      },
      "source": [
        "Esta compración muestra que la eficiencia del algoritmo casi nunca es una pregunta sencilla. Un algoritmo eficiente para grandes conjuntos de datos no siempre será le mejor opción para un conjunto de datos pequeño y viceversa, pero la ventaj de codificar usted mismo el algoritmo es que con una comprensión de estos métodos básicos, podría usar esto para la construcción de mejores modelos y obtener comportamientos personalizados interesantes.\n",
        "\n",
        "La clave para usar Python de manera eficiente en aplicaciones en conjuntos de datos intensivos es conocer las rutinas generales de convenviencia y cuando son apropiadas como ``np.histogram``, pero también saber como hacer uso a un nivel inferior de funcionalidad cuando se necesita un comportamiento más puntual."
      ]
    }
  ]
}