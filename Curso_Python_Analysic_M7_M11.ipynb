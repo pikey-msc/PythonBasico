{
  "nbformat": 4,
  "nbformat_minor": 0,
  "metadata": {
    "colab": {
      "name": "Curso_Python_Analysic_M7_M11.ipynb",
      "provenance": [],
      "collapsed_sections": [],
      "toc_visible": true,
      "include_colab_link": true
    },
    "kernelspec": {
      "name": "python3",
      "display_name": "Python 3"
    },
    "accelerator": "GPU"
  },
  "cells": [
    {
      "cell_type": "markdown",
      "metadata": {
        "id": "view-in-github",
        "colab_type": "text"
      },
      "source": [
        "<a href=\"https://colab.research.google.com/github/pikey-msc/PythonBasico/blob/master/Curso_Python_Analysic_M7_M11.ipynb\" target=\"_parent\"><img src=\"https://colab.research.google.com/assets/colab-badge.svg\" alt=\"Open In Colab\"/></a>"
      ]
    },
    {
      "cell_type": "markdown",
      "metadata": {
        "id": "xnMAetchEsWF",
        "colab_type": "text"
      },
      "source": [
        "#Módulo 7: Programación Orientada a Objetos (OOP u POO)\n",
        "\n",
        "\n"
      ]
    },
    {
      "cell_type": "markdown",
      "metadata": {
        "id": "FDppzW1TeDH6",
        "colab_type": "text"
      },
      "source": [
        "\n",
        "##Motivación\n",
        "Para entender en qué se basa este paradigma (modelo de solución de problemas), en lugar de empezar con teoría propongo jugar un poco con dos códigos distintos. Ambos implementan una estructura de clientes y funciones para trabajar con ellos, pero uno está creado con programación estructurada (la clásica cuyas bases hemos estudiado hasta ahora) y la otra con programación orientada a objetos.\n",
        "\n",
        "Lo único que tiene que hacer es probar ambos códigos (sin necesidad de analizarlos), luego sacan sus propias conclusiones de cual les parece más útil e intuitivo de aplicar y extender en el mundo real."
      ]
    },
    {
      "cell_type": "code",
      "metadata": {
        "id": "pgB79ZvLFdgz",
        "colab_type": "code",
        "colab": {
          "base_uri": "https://localhost:8080/",
          "height": 246
        },
        "outputId": "8b10ebc2-4b89-4143-b501-31c00361bd11"
      },
      "source": [
        "#Ejemplo Estructurado\n",
        "# Definimos unos cuantos clientes\n",
        "clientes= [\n",
        "    {'Nombre': 'Hector', 'Apellidos':'Costa Guzman', 'dni':'11111111A'},\n",
        "    {'Nombre': 'Juan', 'Apellidos':'González Márquez', 'dni':'22222222B'} \n",
        "]\n",
        "\n",
        "# Creamos una función que muestra un cliente en una lista a partir del DNI\n",
        "def mostrar_cliente(clientes, dni):\n",
        "    for c in clientes:\n",
        "        if (dni == c['dni']):\n",
        "            print('{} {}'.format(c['Nombre'],c['Apellidos']))\n",
        "            return\n",
        "    print('Cliente no encontrado')\n",
        "\n",
        "# Creamos una función que borra un cliente en una lista a partir del DNI\n",
        "def borrar_cliente(clientes, dni):\n",
        "    for i,c in enumerate(clientes):\n",
        "        if (dni == c['dni']):\n",
        "            del( clientes[i] )\n",
        "            print(str(c),\"> BORRADO\")\n",
        "            return\n",
        "\n",
        "    print('Cliente no encontrado')    \n",
        "\n",
        "### Fíjate muy bien cómo se utiliza el código estructurado\n",
        "\n",
        "print(\"==LISTADO DE CLIENTES==\")\n",
        "print(clientes)\n",
        "\n",
        "print(\"\\n==MOSTRAR CLIENTES POR DNI==\")\n",
        "mostrar_cliente(clientes, '11111111A')\n",
        "mostrar_cliente(clientes, '11111111Z')\n",
        "\n",
        "print(\"\\n==BORRAR CLIENTES POR DNI==\")\n",
        "borrar_cliente(clientes, '22222222V')\n",
        "borrar_cliente(clientes, '22222222B')\n",
        "\n",
        "print(\"\\n==LISTADO DE CLIENTES==\")\n",
        "print(clientes)"
      ],
      "execution_count": 1,
      "outputs": [
        {
          "output_type": "stream",
          "text": [
            "==LISTADO DE CLIENTES==\n",
            "[{'Nombre': 'Hector', 'Apellidos': 'Costa Guzman', 'dni': '11111111A'}, {'Nombre': 'Juan', 'Apellidos': 'González Márquez', 'dni': '22222222B'}]\n",
            "\n",
            "==MOSTRAR CLIENTES POR DNI==\n",
            "Hector Costa Guzman\n",
            "Cliente no encontrado\n",
            "\n",
            "==BORRAR CLIENTES POR DNI==\n",
            "Cliente no encontrado\n",
            "{'Nombre': 'Juan', 'Apellidos': 'González Márquez', 'dni': '22222222B'} > BORRADO\n",
            "\n",
            "==LISTADO DE CLIENTES==\n",
            "[{'Nombre': 'Hector', 'Apellidos': 'Costa Guzman', 'dni': '11111111A'}]\n"
          ],
          "name": "stdout"
        }
      ]
    },
    {
      "cell_type": "code",
      "metadata": {
        "id": "isjQ7lkGF59b",
        "colab_type": "code",
        "colab": {
          "base_uri": "https://localhost:8080/",
          "height": 246
        },
        "outputId": "43189a54-d884-4932-f0ff-58122d589d2f"
      },
      "source": [
        "#Ejemplo orientado a objetos\n",
        "### No intentes entender este código, sólo fíjate en cómo se utiliza abajo  \n",
        "\n",
        "# Creo una estructura para los clientes\n",
        "class Cliente:\n",
        "\n",
        "    def __init__(self, dni, nombre, apellidos):\n",
        "        self.dni = dni\n",
        "        self.nombre = nombre\n",
        "        self.apellidos = apellidos\n",
        "\n",
        "    def __str__(self):\n",
        "        return '{} {}'.format(self.nombre,self.apellidos)\n",
        "\n",
        "# Y otra para las empresas\n",
        "class Empresa:\n",
        "\n",
        "    def __init__(self, clientes=[]):\n",
        "        self.clientes = clientes\n",
        "\n",
        "    def mostrar_cliente(self, dni=None):\n",
        "        for c in self.clientes:\n",
        "            if c.dni == dni:\n",
        "                print(c)\n",
        "                return\n",
        "        print(\"Cliente no encontrado\")\n",
        "\n",
        "    def borrar_cliente(self, dni=None):\n",
        "        for i,c in enumerate(self.clientes):\n",
        "            if c.dni == dni:\n",
        "                del(self.clientes[i])\n",
        "                print(str(c),\"> BORRADO\")\n",
        "                return\n",
        "        print(\"Cliente no encontrado\")\n",
        "\n",
        "### Ahora utilizaré ambas estructuras \n",
        "\n",
        "# Creo un par de clientes\n",
        "hector = Cliente(nombre=\"Hector\", apellidos=\"Costa Guzman\", dni=\"11111111A\")\n",
        "juan = Cliente(\"22222222B\", \"Juan\", \"Gonzalez Marquez\")\n",
        "\n",
        "# Creo una empresa con los clientes iniciales\n",
        "empresa = Empresa(clientes=[hector, juan])\n",
        "\n",
        "# Muestro todos los clientes\n",
        "print(\"==LISTADO DE CLIENTES==\")\n",
        "print(empresa.clientes)\n",
        "\n",
        "print(\"\\n==MOSTRAR CLIENTES POR DNI==\")\n",
        "# Consulto clientes por DNI\n",
        "empresa.mostrar_cliente(\"11111111A\")\n",
        "empresa.mostrar_cliente(\"11111111Z\")\n",
        "\n",
        "print(\"\\n==BORRAR CLIENTES POR DNI==\")\n",
        "# Borro un cliente por DNI\n",
        "empresa.borrar_cliente(\"22222222V\")\n",
        "empresa.borrar_cliente(\"22222222B\")\n",
        "\n",
        "# Muestro de nuevo todos los clientes\n",
        "print(\"\\n==LISTADO DE CLIENTES==\")\n",
        "print(empresa.clientes)"
      ],
      "execution_count": 2,
      "outputs": [
        {
          "output_type": "stream",
          "text": [
            "==LISTADO DE CLIENTES==\n",
            "[<__main__.Cliente object at 0x7fa240301f28>, <__main__.Cliente object at 0x7fa240301fd0>]\n",
            "\n",
            "==MOSTRAR CLIENTES POR DNI==\n",
            "Hector Costa Guzman\n",
            "Cliente no encontrado\n",
            "\n",
            "==BORRAR CLIENTES POR DNI==\n",
            "Cliente no encontrado\n",
            "Juan Gonzalez Marquez > BORRADO\n",
            "\n",
            "==LISTADO DE CLIENTES==\n",
            "[<__main__.Cliente object at 0x7fa240301f28>]\n"
          ],
          "name": "stdout"
        }
      ]
    },
    {
      "cell_type": "markdown",
      "metadata": {
        "id": "T5ZSRW71HBeu",
        "colab_type": "text"
      },
      "source": [
        "¿Les parece que el código orientado a objetos es más autoexplicativo a la hora de utilizarlo? \n",
        " \n",
        "Además con programación estructurada tenemos que enviar la lista que queremos consultar todo el rato, mientras que con la POO tenemos esas \"estructuras\" como la empresa que contienen los clientes, todo queda como más ordenado."
      ]
    },
    {
      "cell_type": "markdown",
      "metadata": {
        "id": "zEGeQS20cU1S",
        "colab_type": "text"
      },
      "source": [
        "##Clases y objetos\n",
        "La base de la POO son los objetos.\n",
        "\n",
        "Pueden imaginar los objetos como un nuevo tipo de dato cuya definición viene dada en una estructura llamada clase.\n",
        "\n",
        "Suelo hacer una metáfora y comparar las clases con moldes de galletas y los objetos con las galletas en sí mismas. Si bien todas las galletas que se hacen con el mismo molde tienen la misma forma, cada una adquiere atributos individuales después del horneado. Cosas como el color, la textura, el sabor... pueden llegar a ser muy distintas.\n",
        "\n",
        "En otras palabras, las galletas comparten un proceso de fabricación y unos atributos, pero son independientes entre ellas y del propio molde y eso hace que cada una sea única.\n",
        "\n",
        "Extrapolando el ejemplo, una clase es sólo un guión sobre como deben ser los objetos que se crearán con ella."
      ]
    },
    {
      "cell_type": "markdown",
      "metadata": {
        "id": "Uzz_xaupca5P",
        "colab_type": "text"
      },
      "source": [
        "###```type()```\n",
        "En Python todo son clases y objetos, eso se puede comprobar fácilmente pasando a la función type() cualquier variable o literal:"
      ]
    },
    {
      "cell_type": "code",
      "metadata": {
        "id": "7UfJPR8mckkb",
        "colab_type": "code",
        "colab": {
          "base_uri": "https://localhost:8080/",
          "height": 34
        },
        "outputId": "7fe47ea9-fe95-43f2-996c-7c55663e1d14"
      },
      "source": [
        "numero = 10\n",
        "type(numero)"
      ],
      "execution_count": 3,
      "outputs": [
        {
          "output_type": "execute_result",
          "data": {
            "text/plain": [
              "int"
            ]
          },
          "metadata": {
            "tags": []
          },
          "execution_count": 3
        }
      ]
    },
    {
      "cell_type": "markdown",
      "metadata": {
        "id": "-JGY_RBTcoLg",
        "colab_type": "text"
      },
      "source": [
        "En el código anterior numero es una variable entera, pero si vamos más allá, en realidad es una instancia del tipo **int**, una clase muy básica de dato para almacenar números enteros.\n",
        "\n",
        "Como curiosidad, incluso las funciones en Python son instancias del tipo function:"
      ]
    },
    {
      "cell_type": "code",
      "metadata": {
        "id": "x9qfE0iAcpiU",
        "colab_type": "code",
        "colab": {
          "base_uri": "https://localhost:8080/",
          "height": 34
        },
        "outputId": "bed1de25-88cf-4383-9cc1-d55b0d3d6714"
      },
      "source": [
        "def hola():\n",
        "    pass\n",
        "\n",
        "type(hola)"
      ],
      "execution_count": 4,
      "outputs": [
        {
          "output_type": "execute_result",
          "data": {
            "text/plain": [
              "function"
            ]
          },
          "metadata": {
            "tags": []
          },
          "execution_count": 4
        }
      ]
    },
    {
      "cell_type": "markdown",
      "metadata": {
        "id": "tcn_5iR5c2v9",
        "colab_type": "text"
      },
      "source": [
        "###Definición de clase\n",
        "La sintaxis es muy sencilla:"
      ]
    },
    {
      "cell_type": "code",
      "metadata": {
        "id": "02wkqbj3c9N9",
        "colab_type": "code",
        "colab": {}
      },
      "source": [
        "class Galleta:\n",
        "    pass"
      ],
      "execution_count": 5,
      "outputs": []
    },
    {
      "cell_type": "markdown",
      "metadata": {
        "id": "T6g0obvBdClH",
        "colab_type": "text"
      },
      "source": [
        "Esta es una definición muy simple de lo que es una galleta, ya que con el pass la dejo vacía. Luego añadiremos más información, por ahora veamos como crear galletas con este molde."
      ]
    },
    {
      "cell_type": "markdown",
      "metadata": {
        "id": "V1qZYjy3dDI-",
        "colab_type": "text"
      },
      "source": [
        "### Instancias de clase\n",
        "Para entender bien los objetos debemos tener claras dos cuestiones fundamentales:\n",
        "\n",
        "**¿Cuándo y dónde existen los objetos?**\n",
        "\n",
        "Puede parecer trivial, pero es importante tener claro que los objetos \"existen\" sólo durante la ejecución del programa y se almacenan en la memoria del sistema operativo.\n",
        "\n",
        "Es decir, mientras las clases están ahí en el código haciendo su papel de instrucciones, los objetos no existen hasta que el programa se ejecuta y se crean en la memoria.\n",
        "\n",
        "Este proceso de \"crear\" los objetos en la memoria se denomina instanciación y para realizarlo es tan fácil como llamar a la clase como si fuera una función:"
      ]
    },
    {
      "cell_type": "code",
      "metadata": {
        "id": "uqKT80SJdNDu",
        "colab_type": "code",
        "colab": {}
      },
      "source": [
        "una_galleta = Galleta()\n",
        "otra_galleta = Galleta()"
      ],
      "execution_count": 6,
      "outputs": []
    },
    {
      "cell_type": "markdown",
      "metadata": {
        "id": "R6vAR1XUdPdF",
        "colab_type": "text"
      },
      "source": [
        "Demostrar que las galletas existen como \"entes independientes\" dentro de la memoria, es tan sencillo como imprimirlas por pantalla. \\\n",
        "Cada instancia tiene su propia referencia, demostrando que están en lugares distintos de la memoria. En cambio la clase no tiene una referencia porque es sólo un guión de instrucciones:"
      ]
    },
    {
      "cell_type": "code",
      "metadata": {
        "id": "TGaUNZYqdR4O",
        "colab_type": "code",
        "colab": {
          "base_uri": "https://localhost:8080/",
          "height": 70
        },
        "outputId": "7b674719-79a5-4fed-8b15-8b43b5c823c5"
      },
      "source": [
        "print(una_galleta)\n",
        "print(otra_galleta)\n",
        "\n",
        "print(Galleta)"
      ],
      "execution_count": 7,
      "outputs": [
        {
          "output_type": "stream",
          "text": [
            "<__main__.Galleta object at 0x7fa240b72f60>\n",
            "<__main__.Galleta object at 0x7fa240b72ef0>\n",
            "<class '__main__.Galleta'>\n"
          ],
          "name": "stdout"
        }
      ]
    },
    {
      "cell_type": "markdown",
      "metadata": {
        "id": "xbk4m7k1dlpp",
        "colab_type": "text"
      },
      "source": [
        "Es posible consultar la clase de un objeto con la función type(), pero también se puede consultar a través de su atributo especial class:"
      ]
    },
    {
      "cell_type": "code",
      "metadata": {
        "id": "x26eCv7IdmH0",
        "colab_type": "code",
        "colab": {
          "base_uri": "https://localhost:8080/",
          "height": 70
        },
        "outputId": "ad3433c4-61c8-4536-c0e4-3080512679b5"
      },
      "source": [
        "print(Galleta)\n",
        "print(type(una_galleta))\n",
        "print(una_galleta.__class__)\n"
      ],
      "execution_count": 8,
      "outputs": [
        {
          "output_type": "stream",
          "text": [
            "<class '__main__.Galleta'>\n",
            "<class '__main__.Galleta'>\n",
            "<class '__main__.Galleta'>\n"
          ],
          "name": "stdout"
        }
      ]
    },
    {
      "cell_type": "markdown",
      "metadata": {
        "id": "JMwJR7OYdtd2",
        "colab_type": "text"
      },
      "source": [
        "A su vez las clases tienen un atributo especial name que nos devuelve su nombre en forma de cadena sin adornos:"
      ]
    },
    {
      "cell_type": "code",
      "metadata": {
        "id": "78N1IFaCdwgO",
        "colab_type": "code",
        "colab": {
          "base_uri": "https://localhost:8080/",
          "height": 70
        },
        "outputId": "c40b8b61-57d1-427f-9c7c-989e5d68007e"
      },
      "source": [
        "print(Galleta.__name__)\n",
        "print(type(una_galleta).__name__)\n",
        "print(una_galleta.__class__.__name__)"
      ],
      "execution_count": 9,
      "outputs": [
        {
          "output_type": "stream",
          "text": [
            "Galleta\n",
            "Galleta\n",
            "Galleta\n"
          ],
          "name": "stdout"
        }
      ]
    },
    {
      "cell_type": "markdown",
      "metadata": {
        "id": "G1ijR2LJdw5D",
        "colab_type": "text"
      },
      "source": [
        "Resumiendo: los objetos son instancias de una clase."
      ]
    },
    {
      "cell_type": "markdown",
      "metadata": {
        "id": "ydVdihvWeGxe",
        "colab_type": "text"
      },
      "source": [
        "## Atributos y métodos\n",
        "Si hay algo que ilustre el potencial de la POO esa es la capacidad de definir variables y funciones dentro de las clases, aunque aquí se conocen como atributos y métodos respectivamente."
      ]
    },
    {
      "cell_type": "markdown",
      "metadata": {
        "id": "guanUAEqeSrG",
        "colab_type": "text"
      },
      "source": [
        "### Atributos\n",
        "A efectos prácticos los atributos no son muy distintos de las variables, la diferencia fundamental es que sólo existen dentro del objeto.\n"
      ]
    },
    {
      "cell_type": "markdown",
      "metadata": {
        "id": "Z17BZrcHelx8",
        "colab_type": "text"
      },
      "source": [
        "#### Atributos dinámicos\n",
        "Dado que Python es muy flexible los atributos pueden manejarse de distintas formas, por ejemplo se pueden crear dinámicamente (al vuelo) en los objetos"
      ]
    },
    {
      "cell_type": "code",
      "metadata": {
        "id": "AWBCPHJiebpQ",
        "colab_type": "code",
        "colab": {
          "base_uri": "https://localhost:8080/",
          "height": 34
        },
        "outputId": "1cf7cf92-c994-4e15-8b61-97abfbe6dfe7"
      },
      "source": [
        "class Galleta:\n",
        "    pass\n",
        "\n",
        "galleta = Galleta()\n",
        "galleta.sabor = \"salado\"\n",
        "galleta.color = \"marrón\"\n",
        "galleta.tamaño= \"choncho\"\n",
        "\n",
        "print(f\"El sabor de esta galleta es {galleta.sabor} \"\n",
        "      f\"y el color {galleta.color}\"\n",
        "      f\" y tamaño {galleta.tamaño}\")"
      ],
      "execution_count": 29,
      "outputs": [
        {
          "output_type": "stream",
          "text": [
            "El sabor de esta galleta es salado y el color marrón y tamaño choncho\n"
          ],
          "name": "stdout"
        }
      ]
    },
    {
      "cell_type": "markdown",
      "metadata": {
        "id": "iYKKIZfVeoQO",
        "colab_type": "text"
      },
      "source": [
        "#### Atributos de clase\n",
        "Aunque la flexibilidad de los atributos dinámicos puede llegar a ser muy útil, tener que definir los atributos de esa forma es tedioso. Es más práctico definir unos atributos básicos en la clase. De esa manera todas las galletas podrían tener unos atributos por defecto:"
      ]
    },
    {
      "cell_type": "code",
      "metadata": {
        "id": "2XZVMXrgewzr",
        "colab_type": "code",
        "colab": {
          "base_uri": "https://localhost:8080/",
          "height": 52
        },
        "outputId": "c2394c1e-a02f-4fb1-b83f-c690b33e8906"
      },
      "source": [
        "class Galleta:\n",
        "    chocolate = False\n",
        "\n",
        "galleta = Galleta() #asignación de clase a un objeto\n",
        "\n",
        "if galleta.chocolate:\n",
        "    print(\"La galleta tiene chocolate\")\n",
        "else:\n",
        "    print(\"La galleta no tiene chocolate\")\n",
        "\n",
        "#Luego podemos cambiar su valor en cualquier momento\n",
        "galleta.chocolate = True\n",
        "\n",
        "if galleta.chocolate:\n",
        "    print(\"La galleta tiene chocolate\")\n",
        "else:\n",
        "    print(\"La galleta no tiene chocolate\")    "
      ],
      "execution_count": 34,
      "outputs": [
        {
          "output_type": "stream",
          "text": [
            "La galleta no tiene chocolate\n",
            "La galleta tiene chocolate\n"
          ],
          "name": "stdout"
        }
      ]
    },
    {
      "cell_type": "code",
      "metadata": {
        "id": "0rRb9RKYfT4-",
        "colab_type": "code",
        "colab": {
          "base_uri": "https://localhost:8080/",
          "height": 34
        },
        "outputId": "7cdd07d6-1f5e-4083-a331-addf5950a144"
      },
      "source": [
        "chokys=Galleta()\n",
        "print(chokys.chocolate)"
      ],
      "execution_count": 35,
      "outputs": [
        {
          "output_type": "stream",
          "text": [
            "False\n"
          ],
          "name": "stdout"
        }
      ]
    },
    {
      "cell_type": "markdown",
      "metadata": {
        "id": "fM61x6FRe8NL",
        "colab_type": "text"
      },
      "source": [
        "Por lo menos de esta forma nos aseguraremos de que el atributo chocolate existe en todas las galletas desde el principio. Además es posible consultar el valor por defecto que deben tener las galletas haciendo referencia al atributo en la definición de la clase:"
      ]
    },
    {
      "cell_type": "code",
      "metadata": {
        "id": "oDwfkghZe_DM",
        "colab_type": "code",
        "colab": {
          "base_uri": "https://localhost:8080/",
          "height": 34
        },
        "outputId": "e6d3bd3e-2dcb-4666-e81c-fa0373d24c18"
      },
      "source": [
        "print(Galleta.chocolate)"
      ],
      "execution_count": 31,
      "outputs": [
        {
          "output_type": "stream",
          "text": [
            "False\n"
          ],
          "name": "stdout"
        }
      ]
    },
    {
      "cell_type": "markdown",
      "metadata": {
        "id": "KTfAWCN_fCJG",
        "colab_type": "text"
      },
      "source": [
        "Lo curioso es que si cambiamos ese atributo de clase (que no de objeto) a *True*, las siguientes galletas se crearán con chocolate, es decir, habremos modificado las instrucciones de creación de los objetos:"
      ]
    },
    {
      "cell_type": "code",
      "metadata": {
        "id": "xnoa-9CAfFLa",
        "colab_type": "code",
        "colab": {
          "base_uri": "https://localhost:8080/",
          "height": 34
        },
        "outputId": "e6c2af1e-8842-4bdc-bfff-cefc463455b4"
      },
      "source": [
        "class Galleta:\n",
        "    chocolate = False\n",
        "\n",
        "Galleta.chocolate = True\n",
        "\n",
        "galleta = Galleta()\n",
        "\n",
        "if galleta.chocolate:\n",
        "    print(\"La galleta tiene chocolate\")\n",
        "else:\n",
        "    print(\"La galleta no tiene chocolate\")"
      ],
      "execution_count": 32,
      "outputs": [
        {
          "output_type": "stream",
          "text": [
            "La galleta tiene chocolate\n"
          ],
          "name": "stdout"
        }
      ]
    },
    {
      "cell_type": "code",
      "metadata": {
        "id": "jxASN8wAfGz4",
        "colab_type": "code",
        "colab": {
          "base_uri": "https://localhost:8080/",
          "height": 34
        },
        "outputId": "90641a3c-a459-46b8-dacf-ddc3f655cf66"
      },
      "source": [
        "cookie=Galleta()\n",
        "print(cookie.chocolate)"
      ],
      "execution_count": 33,
      "outputs": [
        {
          "output_type": "stream",
          "text": [
            "True\n"
          ],
          "name": "stdout"
        }
      ]
    },
    {
      "cell_type": "markdown",
      "metadata": {
        "id": "IzP-weajfS5G",
        "colab_type": "text"
      },
      "source": [
        "###Métodos\n",
        "Si por un lado tenemos las \"variables\" de las clases, por otro tenemos sus \"funciones\", que evidentemente nos permiten definir funcionalidades para llamarlas desde las instancias.\n",
        "\n",
        "Definir un método es bastante simple, sólo tenemos que añadirlo en la clase y luego llamarlo desde el objeto con los paréntesis, como si de una función se trate:"
      ]
    },
    {
      "cell_type": "code",
      "metadata": {
        "id": "0b999akcfY52",
        "colab_type": "code",
        "colab": {
          "base_uri": "https://localhost:8080/",
          "height": 202
        },
        "outputId": "05dfd8a6-7837-4aa4-a229-6c36e0b25a38"
      },
      "source": [
        "class Galleta:\n",
        "    chocolate = False\n",
        "\n",
        "    def saludar():\n",
        "        print(\"Hola, soy una galleta muy sabrosa\")\n",
        "\n",
        "galleta = Galleta()\n",
        "galleta.saludar()"
      ],
      "execution_count": 36,
      "outputs": [
        {
          "output_type": "error",
          "ename": "TypeError",
          "evalue": "ignored",
          "traceback": [
            "\u001b[0;31m---------------------------------------------------------------------------\u001b[0m",
            "\u001b[0;31mTypeError\u001b[0m                                 Traceback (most recent call last)",
            "\u001b[0;32m<ipython-input-36-391642e0dee4>\u001b[0m in \u001b[0;36m<module>\u001b[0;34m()\u001b[0m\n\u001b[1;32m      6\u001b[0m \u001b[0;34m\u001b[0m\u001b[0m\n\u001b[1;32m      7\u001b[0m \u001b[0mgalleta\u001b[0m \u001b[0;34m=\u001b[0m \u001b[0mGalleta\u001b[0m\u001b[0;34m(\u001b[0m\u001b[0;34m)\u001b[0m\u001b[0;34m\u001b[0m\u001b[0;34m\u001b[0m\u001b[0m\n\u001b[0;32m----> 8\u001b[0;31m \u001b[0mgalleta\u001b[0m\u001b[0;34m.\u001b[0m\u001b[0msaludar\u001b[0m\u001b[0;34m(\u001b[0m\u001b[0;34m)\u001b[0m\u001b[0;34m\u001b[0m\u001b[0;34m\u001b[0m\u001b[0m\n\u001b[0m",
            "\u001b[0;31mTypeError\u001b[0m: saludar() takes 0 positional arguments but 1 was given"
          ]
        }
      ]
    },
    {
      "cell_type": "markdown",
      "metadata": {
        "id": "8FiitguBg0oH",
        "colab_type": "text"
      },
      "source": [
        "Sin embargo, al intentar ejecutar el código anterior desde una galleta verán que no funciona. Nos indica que el método saludar() requiere 0 argumentos pero se está pasando uno.\n",
        "\n",
        "¿Cómo puede ser? Si en ningún momento hemos enviado ninguna información a al galleta...\n",
        "\n",
        "Lo que tenemos aquí, justo es la diferencia fundamental entre métodos de clase y métodos de instancia.\n",
        "\n",
        "Prueben a ejecutar el método llamando a la clase en lugar del objeto:"
      ]
    },
    {
      "cell_type": "code",
      "metadata": {
        "id": "ljExR3h4hCAh",
        "colab_type": "code",
        "colab": {
          "base_uri": "https://localhost:8080/",
          "height": 34
        },
        "outputId": "97337507-7db9-4188-d18d-06e6194f8243"
      },
      "source": [
        "class Galleta:\n",
        "    chocolate = False\n",
        "\n",
        "    def saludar():\n",
        "        print(\"Hola, soy una galleta muy sabrosa\")\n",
        "\n",
        "Galleta.saludar()"
      ],
      "execution_count": 37,
      "outputs": [
        {
          "output_type": "stream",
          "text": [
            "Hola, soy una galleta muy sabrosa\n"
          ],
          "name": "stdout"
        }
      ]
    },
    {
      "cell_type": "markdown",
      "metadata": {
        "id": "Bu3UY1MShJsk",
        "colab_type": "text"
      },
      "source": [
        "¡Ahora sí ha funcionado! ¿Cómo es posible? Y más importante, ¿por qué al llamarlo desde el objeto dice que estamos enviando un argumento?\n",
        "\n",
        "#### Primer argumento self\n",
        "Los objetos tienen una característica muy importante: son conscientes de que existen. Y no, no es broma.\n",
        "\n",
        "Cuando se ejecuta un método desde un objeto (que no desde una clase), se envía un primer argumento implícito que hace referencia al propio objeto. Si lo definimos en nuestro método podremos capturarlo y ver qué es:"
      ]
    },
    {
      "cell_type": "code",
      "metadata": {
        "id": "L396xUzUhVyF",
        "colab_type": "code",
        "colab": {
          "base_uri": "https://localhost:8080/",
          "height": 70
        },
        "outputId": "3a9e3584-2d10-4d75-b0c7-aa534d11eb8b"
      },
      "source": [
        "class Galleta:\n",
        "    chocolate = False\n",
        "\n",
        "    def saludar(b):\n",
        "        print(\"Hola, soy una galleta muy sabrosa\")\n",
        "        print(b)\n",
        "\n",
        "\n",
        "galleta = Galleta()\n",
        "print(galleta.saludar())\n",
        "\n",
        "\n"
      ],
      "execution_count": 46,
      "outputs": [
        {
          "output_type": "stream",
          "text": [
            "Hola, soy una galleta muy sabrosa\n",
            "<__main__.Galleta object at 0x7f3a704d9780>\n",
            "None\n"
          ],
          "name": "stdout"
        }
      ]
    },
    {
      "cell_type": "markdown",
      "metadata": {
        "id": "CZsEiuuQhY6d",
        "colab_type": "text"
      },
      "source": [
        "¿Curioso que haya funcionado verdad? Además ¿no les suena de algo ese resultado que muestra el parámetro que hemos definido? Se trata de la propia representación del objeto"
      ]
    },
    {
      "cell_type": "code",
      "metadata": {
        "id": "gWawnVw2hl1Y",
        "colab_type": "code",
        "colab": {
          "base_uri": "https://localhost:8080/",
          "height": 70
        },
        "outputId": "27c4a5f8-071e-4ebf-bbdb-ea228a767394"
      },
      "source": [
        "class Galleta:\n",
        "    chocolate = False\n",
        "\n",
        "    def saludar(soy_el_propio_objeto):\n",
        "        print(\"Hola, soy una galleta muy sabrosa\")\n",
        "        print(soy_el_propio_objeto)\n",
        "\n",
        "galleta = Galleta()\n",
        "galleta.saludar()\n",
        "print(galleta)"
      ],
      "execution_count": 47,
      "outputs": [
        {
          "output_type": "stream",
          "text": [
            "Hola, soy una galleta muy sabrosa\n",
            "<__main__.Galleta object at 0x7f3a704d9fd0>\n",
            "<__main__.Galleta object at 0x7f3a704d9fd0>\n"
          ],
          "name": "stdout"
        }
      ]
    },
    {
      "cell_type": "markdown",
      "metadata": {
        "id": "C8z0ZIeghpdK",
        "colab_type": "text"
      },
      "source": [
        "Pues sí, podemos acceder al propio objeto desde el interior de sus métodos. Lo único que como este argumento hace referencia al objeto en sí mismo por convención se le llama self.\n",
        "\n",
        "Poder acceder al propio objeto desde un método es muy útil, ya que nos permite acceder a sus atributos. Fíjense, el siguiente código no funcionaría como esperamos:"
      ]
    },
    {
      "cell_type": "code",
      "metadata": {
        "id": "Ba1D_wAahsAZ",
        "colab_type": "code",
        "colab": {
          "base_uri": "https://localhost:8080/",
          "height": 52
        },
        "outputId": "56a88ca8-406e-4862-9c13-a5d8c91b0216"
      },
      "source": [
        "class Galleta:\n",
        "    chocolate = False\n",
        "    bread=False\n",
        "    def chocolatear(a):\n",
        "        chocolate = True\n",
        "    def breading(b):\n",
        "        bread=True\n",
        "\n",
        "galleta = Galleta()\n",
        "galleta.chocolatear()\n",
        "print(galleta.chocolate)\n",
        "galleta.breading()\n",
        "print(galleta.bread)"
      ],
      "execution_count": 51,
      "outputs": [
        {
          "output_type": "stream",
          "text": [
            "False\n",
            "False\n"
          ],
          "name": "stdout"
        }
      ]
    },
    {
      "cell_type": "markdown",
      "metadata": {
        "id": "-xLi8pDMhvIK",
        "colab_type": "text"
      },
      "source": [
        "En cambio, si hacemos ver que self es el propio objeto..."
      ]
    },
    {
      "cell_type": "code",
      "metadata": {
        "id": "rfamgjFWhvmS",
        "colab_type": "code",
        "colab": {
          "base_uri": "https://localhost:8080/",
          "height": 52
        },
        "outputId": "daad3802-890a-4725-ecd9-a9f75a199dcd"
      },
      "source": [
        "class Galleta:\n",
        "    chocolate = False\n",
        "    bread=False\n",
        "\n",
        "    def chocolatear(self):\n",
        "        self.chocolate = True\n",
        "    def breading(self):\n",
        "        self.bread=True\n",
        "\n",
        "\n",
        "galleta = Galleta()\n",
        "galleta.chocolatear()\n",
        "print(galleta.chocolate)\n",
        "galleta.breading()\n",
        "print(galleta.bread)"
      ],
      "execution_count": 54,
      "outputs": [
        {
          "output_type": "stream",
          "text": [
            "True\n",
            "True\n"
          ],
          "name": "stdout"
        }
      ]
    },
    {
      "cell_type": "markdown",
      "metadata": {
        "id": "898ooSXAhxSR",
        "colab_type": "text"
      },
      "source": [
        "¿No es interesante? Da la sensación como les decía antes de que las instancias tienen que saber quienes son porque sino no pueden acceder sus atributos internos y por eso tienen que enviarse asimismas a los métodos.\n",
        "\n",
        "Sea como sea con este ejemplo podemos entender que por defecto el valor de un atributo se busca en la clase, pero para modificarlo en la instancia es necesario hacer referencia al objeto.\n",
        "\n",
        "###Métodos especiales\n",
        "Ahora que sabemos crear métodos y hemos aprendido para qué sirve el argumento self, es momento de introducir algunos métodos especiales de las clases.\n",
        "\n",
        "Se llaman especiales porque la mayoría ya existen de forma oculta y sirven para tareas específicas."
      ]
    },
    {
      "cell_type": "markdown",
      "metadata": {
        "id": "6d-pUu7NiBcs",
        "colab_type": "text"
      },
      "source": [
        "####Constructor\n",
        "El constructor es un método que se llama automáticamente al crear un objeto, se define con el nombre init:"
      ]
    },
    {
      "cell_type": "code",
      "metadata": {
        "id": "Yy5zGHSriCws",
        "colab_type": "code",
        "colab": {
          "base_uri": "https://localhost:8080/",
          "height": 34
        },
        "outputId": "d9a96681-20b0-4863-ca2d-f7284b53aa11"
      },
      "source": [
        "class Galleta:\n",
        "\n",
        "    def __init__(self):\n",
        "        print(\"Soy una galleta acabada de hornear!\")\n",
        "\n",
        "galleta = Galleta()"
      ],
      "execution_count": 55,
      "outputs": [
        {
          "output_type": "stream",
          "text": [
            "Soy una galleta acabada de hornear!\n"
          ],
          "name": "stdout"
        }
      ]
    },
    {
      "cell_type": "markdown",
      "metadata": {
        "id": "H-c70wAziFAc",
        "colab_type": "text"
      },
      "source": [
        "La finalidad del constructor es, como su nombre indica, construir los objetos. Por esa razón permite sobreescribir el método que crea los objetos, permitiéndonos enviar datos desde el principio para construirlo:"
      ]
    },
    {
      "cell_type": "code",
      "metadata": {
        "id": "_ZKfkF-WiJ8n",
        "colab_type": "code",
        "colab": {
          "base_uri": "https://localhost:8080/",
          "height": 52
        },
        "outputId": "79ace0f5-a92d-4939-e071-c44261c3d4f5"
      },
      "source": [
        "class Galleta:\n",
        "    chocolate = False\n",
        "\n",
        "    def __init__(self, sabor, color):\n",
        "        self.sabor = sabor\n",
        "        self.color = color\n",
        "        print(f\"Se acaba de crear una galleta {self.color} y {self.sabor}.\")\n",
        "\n",
        "galleta_1 = Galleta(\"marrón\", \"amarga\")\n",
        "galleta_2 = Galleta(\"blanca\", \"dulce\")\n"
      ],
      "execution_count": 62,
      "outputs": [
        {
          "output_type": "stream",
          "text": [
            "Se acaba de crear una galleta amarga y marrón.\n",
            "Se acaba de crear una galleta dulce y blanca.\n"
          ],
          "name": "stdout"
        }
      ]
    },
    {
      "cell_type": "markdown",
      "metadata": {
        "id": "z_c4J2_kiMF-",
        "colab_type": "text"
      },
      "source": [
        "Como los métodos se comportan como funciones tienen sus mismas características, permitiéndonos definir valores nulos, valores por posición y nombre, argumentos indeterminadas, etc.\n",
        "####Destructor\n",
        "Si existe un constructor también debe existir un destructor que se llame al eliminar el objeto para que encargue de las tareas de limpieza como vaciar la memoria. Ese es el papel del método especial del. Es muy raro sobreescribir este método porque se maneja automáticamente, pero es interesante saber que existe.\n",
        "\n",
        "Todos los objetos se borran automáticamente de la memoria al finalizar el programa, aunque también podemos eliminarlos automáticamente pasándolos a la función del():"
      ]
    },
    {
      "cell_type": "code",
      "metadata": {
        "id": "v_1FnCdJiRYI",
        "colab_type": "code",
        "colab": {
          "base_uri": "https://localhost:8080/",
          "height": 34
        },
        "outputId": "8b2b50ec-105b-4565-8e1d-288356c4a5d5"
      },
      "source": [
        "class Galleta:\n",
        "\n",
        "    def __del__(self):\n",
        "        print(\"La galleta se está borrando de la memoria\")\n",
        "\n",
        "galleta = Galleta()\n",
        "\n",
        "\n",
        "del(galleta)\n"
      ],
      "execution_count": 69,
      "outputs": [
        {
          "output_type": "stream",
          "text": [
            "La galleta se está borrando de la memoria\n"
          ],
          "name": "stdout"
        }
      ]
    },
    {
      "cell_type": "markdown",
      "metadata": {
        "id": "Ipqn_rvriVdy",
        "colab_type": "text"
      },
      "source": [
        "En este punto vale comentar algo respecto a los métodos especiales como éste, y es que pese a que tienen accesores en forma de función para facilitar su llamada, es totalmente posible ejecutarlos directamente como si fueran métodos normales:"
      ]
    },
    {
      "cell_type": "code",
      "metadata": {
        "id": "IVWIqMf-iXpP",
        "colab_type": "code",
        "colab": {
          "base_uri": "https://localhost:8080/",
          "height": 52
        },
        "outputId": "974588a4-1249-47a3-e124-a97a89180e4c"
      },
      "source": [
        "class Galleta:\n",
        "\n",
        "    def __del__(self):\n",
        "        print(\"La galleta se está borrando de la memoria\")\n",
        "\n",
        "galleta = Galleta()\n",
        "\n",
        "galleta.__del__()\n",
        "\n"
      ],
      "execution_count": 74,
      "outputs": [
        {
          "output_type": "stream",
          "text": [
            "La galleta se está borrando de la memoria\n",
            "La galleta se está borrando de la memoria\n"
          ],
          "name": "stdout"
        }
      ]
    },
    {
      "cell_type": "markdown",
      "metadata": {
        "id": "RGrEQ6tUibLr",
        "colab_type": "text"
      },
      "source": [
        "Seguro trae a la mente funciones como ```str()``` y ```len()```, y es que en efecto, esas también son accesores de los métodos especiales ```str``` y ```len``` que tienen los objetos.\n",
        "####String\n",
        "El método str es el que devuelve la representación de un objeto en forma de cadena. Un momento en que se llama automáticamente es cuando imprimirmos una variable por pantalla.\n",
        "\n",
        "Por defecto los objetos imprimen su clase y una dirección de memoria, pero eso puede cambiarse sobreescribiendo el comportamiento:"
      ]
    },
    {
      "cell_type": "code",
      "metadata": {
        "id": "rtQUxbL3izEN",
        "colab_type": "code",
        "colab": {
          "base_uri": "https://localhost:8080/",
          "height": 52
        },
        "outputId": "02d86df5-0a8f-4801-9186-df549331ac72"
      },
      "source": [
        "class Galleta:\n",
        "\n",
        "    def __init__(self, sabor, color):\n",
        "        self.sabor = sabor\n",
        "        self.color = color\n",
        "\n",
        "    def __str__(self):\n",
        "       return f\"Soy una galleta {self.color} y {self.sabor}.\"\n",
        "\n",
        "galleta = Galleta(\"dulce\", \"blanca\")\n",
        "\n",
        "print(galleta)\n",
        "print(str(galleta))\n",
        "print(galleta.__str__())"
      ],
      "execution_count": 77,
      "outputs": [
        {
          "output_type": "stream",
          "text": [
            "<__main__.Galleta object at 0x7f3a704a90b8>\n",
            "<__main__.Galleta object at 0x7f3a704a90b8>\n"
          ],
          "name": "stdout"
        }
      ]
    },
    {
      "cell_type": "markdown",
      "metadata": {
        "id": "KbcG9DnDi3iM",
        "colab_type": "text"
      },
      "source": [
        "Hay que tener en cuenta que este método debe devolver la cadena en lugar de mostrar algo por pantalla, ese es el funcionamiento que se espera de él.\n",
        "\n",
        "####Length\n",
        "Finalmente otro método especial interesante es el que devuelve la longitud. Normalmente está ligado a colecciones, pero nada impide definirlo en una clase. Y sí, digo definirlo y no redefinirlo porque por defecto no existe en los objetos aunque sea el que se ejecuta al pasarlos a la función len()."
      ]
    },
    {
      "cell_type": "code",
      "metadata": {
        "id": "Kdizi0xsi722",
        "colab_type": "code",
        "colab": {
          "base_uri": "https://localhost:8080/",
          "height": 52
        },
        "outputId": "d2161416-2beb-4453-c6ab-e79b3e44be88"
      },
      "source": [
        "class Cancion:\n",
        "\n",
        "    def __init__(self, autor, titulo, duracion):  # en segundos\n",
        "        self.duracion = duracion\n",
        "\n",
        "    def __len__(self):\n",
        "       return self.duracion\n",
        "\n",
        "cancion = Cancion(\"Death\", \"Leprosy\", 210)\n",
        "\n",
        "print(len(cancion))\n",
        "print(cancion.__len__())"
      ],
      "execution_count": 80,
      "outputs": [
        {
          "output_type": "stream",
          "text": [
            "210\n",
            "210\n"
          ],
          "name": "stdout"
        }
      ]
    },
    {
      "cell_type": "markdown",
      "metadata": {
        "id": "Z8ZiLxzri9ks",
        "colab_type": "text"
      },
      "source": [
        "Mientras devolvamos un número, este método no debería dar problemas."
      ]
    },
    {
      "cell_type": "markdown",
      "metadata": {
        "id": "GvflBYxqkEB1",
        "colab_type": "text"
      },
      "source": [
        "### Objetos dentro de objetos\n",
        "Hasta ahora no lo hemos comentado, pero al ser las clases un nuevo tipo de dato resulta más que obvio que se pueden poner en colecciones e incluso utilizarlos dentro de otras clases.\n",
        "\n",
        "Este es un pequeño código de ejemplo sobre un catálogo de películas para que lo estudien detenidamente:"
      ]
    },
    {
      "cell_type": "code",
      "metadata": {
        "id": "XKPFgRN3kPII",
        "colab_type": "code",
        "colab": {
          "base_uri": "https://localhost:8080/",
          "height": 175
        },
        "outputId": "17f3f778-4ee5-417e-b668-6b7aab070c32"
      },
      "source": [
        "class Pelicula:\n",
        "\n",
        "    # Constructor de clase\n",
        "    def __init__(self, titulo, duracion, lanzamiento):\n",
        "        self.titulo = titulo\n",
        "        self.duracion = duracion\n",
        "        self.lanzamiento = lanzamiento\n",
        "        print('Se ha creado la película:', self.titulo)\n",
        "\n",
        "    def __str__(self):\n",
        "        return '{} ({})'.format(self.titulo, self.lanzamiento)\n",
        "\n",
        "\n",
        "class Catalogo:\n",
        "\n",
        "    peliculas = []  # Esta lista contendrá objetos de la clase Pelicula\n",
        "\n",
        "    def __init__(self, peliculas=[]):\n",
        "        self.peliculas = peliculas\n",
        "\n",
        "    def agregar(self, p):  # p será un objeto Pelicula\n",
        "        self.peliculas.append(p)\n",
        "\n",
        "    def mostrar(self):\n",
        "        for p in self.peliculas:\n",
        "            print(p)  # Print toma por defecto str(p)\n",
        "\n",
        "\n",
        "p = Pelicula(\"El Padrino\", 175, 1972)\n",
        "c = Catalogo([p])  # Añado una lista con una película desde el principio\n",
        "c.mostrar()\n",
        "c.agregar(Pelicula(\"El Padrino: Parte 2\", 202, 1974))  # Añadimos otra\n",
        "c.mostrar()\n",
        "c.agregar(Pelicula(\"Inception\", 190, 2010))\n",
        "c.mostrar()"
      ],
      "execution_count": 82,
      "outputs": [
        {
          "output_type": "stream",
          "text": [
            "Se ha creado la película: El Padrino\n",
            "El Padrino (1972)\n",
            "Se ha creado la película: El Padrino: Parte 2\n",
            "El Padrino (1972)\n",
            "El Padrino: Parte 2 (1974)\n",
            "Se ha creado la película: Inception\n",
            "El Padrino (1972)\n",
            "El Padrino: Parte 2 (1974)\n",
            "Inception (2010)\n"
          ],
          "name": "stdout"
        }
      ]
    },
    {
      "cell_type": "markdown",
      "metadata": {
        "id": "zTrQ9b2Uk0f-",
        "colab_type": "text"
      },
      "source": [
        "## *Inheritance* Herencia en la POO\n",
        "La herencia es la capacidad que tiene una clase de heredar los atributos y métodos de otra, algo que nos permite reutilizar código y hacer programar mucho más óptimos.\n",
        "\n",
        "Para ver su utilidad, en esta lección vamos a desarrollar un ejemplo. Partiremos de una clase sin herencia con muchos atributos y la iremos descomponiendo en otras clases más simples que nos permitan trabajar mejor con sus datos."
      ]
    },
    {
      "cell_type": "markdown",
      "metadata": {
        "id": "j__izxsBlFZX",
        "colab_type": "text"
      },
      "source": [
        "\n",
        "### Ejemplo sin herencia\n",
        "Supongamos que se diseñará una estructura para una tienda que vende tres tipos de productos: adornos, alimentos y libros.\n",
        "\n",
        "Todos los productos de la tienda tenían una serie de atributos comunes, como la referencia, el nombre, el pvp (precio venta al público)... pero algunos eran específicos de cada tipo.\n",
        "\n",
        "Si partimos de una clase que contenga todos los atributos, quedaría más o menos así:"
      ]
    },
    {
      "cell_type": "code",
      "metadata": {
        "id": "7bVHiKQClPMI",
        "colab_type": "code",
        "colab": {
          "base_uri": "https://localhost:8080/",
          "height": 52
        },
        "outputId": "37ee9168-35d7-4756-ddf2-88c13200c573"
      },
      "source": [
        "class Producto:\n",
        "    def __init__(self, referencia, tipo, nombre, \n",
        "                 pvp,  descripcion, productor=None, \n",
        "                 distribuidor=None, isbn=None, autor=None):\n",
        "        self.referencia = referencia\n",
        "        self.tipo = tipo\n",
        "        self.nombre = nombre\n",
        "        self.pvp = pvp\n",
        "        self.descripcion = descripcion\n",
        "        self.productor = productor\n",
        "        self.distribuidor = distribuidor\n",
        "        self.isbn = isbn\n",
        "        self.autor = autor\n",
        "\n",
        "\n",
        "adorno = Producto('000A','ADORNO','Vaso Adornado',15,\n",
        "                  'Vaso de porcelana con dibujos') \n",
        "\n",
        "print(adorno)\n",
        "print(adorno.tipo) "
      ],
      "execution_count": 83,
      "outputs": [
        {
          "output_type": "stream",
          "text": [
            "<__main__.Producto object at 0x7f3a704a9f60>\n",
            "ADORNO\n"
          ],
          "name": "stdout"
        }
      ]
    },
    {
      "cell_type": "markdown",
      "metadata": {
        "id": "KVh1VfXKluDL",
        "colab_type": "text"
      },
      "source": [
        "Obviamente esto es un despropósito, así que veamos como aproecharnos de la herencia para mejorar el planteamento.\n",
        "\n",
        "###Superclases\n",
        "Así pues la idea de la herencia es identificar una clase base (la superclase) con los atributos comunes y luego crear las demás clases heredando de ella (las subclases) extendiendo sus campos específicos. En nuestro caso esa clase sería el Producto en sí mismo:"
      ]
    },
    {
      "cell_type": "code",
      "metadata": {
        "id": "0KGg6PIRl1Jh",
        "colab_type": "code",
        "colab": {}
      },
      "source": [
        "class Producto:\n",
        "    def __init__(self,referencia,nombre,pvp,descripcion):\n",
        "        self.referencia = referencia\n",
        "        self.nombre = nombre\n",
        "        self.pvp = pvp\n",
        "        self.descripcion = descripcion\n",
        "\n",
        "    def __str__(self):\n",
        "        return f\"REFERENCIA\\t {self.referencia}\\n\" \\\n",
        "               f\"NOMBRE\\t\\t {self.nombre}\\n\" \\\n",
        "               f\"PVP\\t\\t {self.pvp}\\n\" \\\n",
        "               f\"DESCRIPCIÓN\\t {self.descripcion}\\n\""
      ],
      "execution_count": 93,
      "outputs": []
    },
    {
      "cell_type": "markdown",
      "metadata": {
        "id": "47K-4sWOl44B",
        "colab_type": "text"
      },
      "source": [
        "###Subclases\n",
        "Para heredar los atributos y métodos de una clase en otra sólo tenemos que pasarla entre paréntesis durante la definición:"
      ]
    },
    {
      "cell_type": "code",
      "metadata": {
        "id": "zsqTGQeLl60y",
        "colab_type": "code",
        "colab": {
          "base_uri": "https://localhost:8080/",
          "height": 105
        },
        "outputId": "23527806-0e5d-43da-da27-ece0d62929ca"
      },
      "source": [
        "class Adorno(Producto):\n",
        "    pass\n",
        "\n",
        "adorno = Adorno(2034, \"Vaso adornado\", 15, \"Vaso de porcelana\")\n",
        "print(adorno)"
      ],
      "execution_count": 94,
      "outputs": [
        {
          "output_type": "stream",
          "text": [
            "REFERENCIA\t 2034\n",
            "NOMBRE\t\t Vaso adornado\n",
            "PVP\t\t 15\n",
            "DESCRIPCIÓN\t Vaso de porcelana\n",
            "\n"
          ],
          "name": "stdout"
        }
      ]
    },
    {
      "cell_type": "markdown",
      "metadata": {
        "id": "7tNSM8Iwl-HD",
        "colab_type": "text"
      },
      "source": [
        "Como se puede apreciar es posible utilizar el comportamiento de una superclase sin definir nada en la subclase.\n",
        "\n",
        "Respecto a las demás subclases como se añaden algunos atributos, podríamos definirlas de esta forma:"
      ]
    },
    {
      "cell_type": "code",
      "metadata": {
        "id": "JnI-0Dvql_Vq",
        "colab_type": "code",
        "colab": {}
      },
      "source": [
        "class Alimento(Producto):\n",
        "    productor = \"\"\n",
        "    distribuidor = \"\"\n",
        "\n",
        "    def __str__(self):\n",
        "        return f\"REFERENCIA\\t {self.referencia}\\n\" \\\n",
        "               f\"NOMBRE\\t\\t {self.nombre}\\n\" \\\n",
        "               f\"PVP\\t\\t {self.pvp}\\n\" \\\n",
        "               f\"DESCRIPCIÓN\\t {self.descripcion}\\n\" \\\n",
        "               f\"PRODUCTOR\\t\\t {self.productor}\\n\" \\\n",
        "               f\"DISTRIBUIDOR\\t\\t {self.distribuidor}\\n\"\n",
        "\n",
        "\n",
        "class Libro(Producto):\n",
        "    isbn = \"\"\n",
        "    autor = \"\"\n",
        "\n",
        "    def __str__(self):\n",
        "        return f\"REFERENCIA\\t {self.referencia}\\n\" \\\n",
        "               f\"NOMBRE\\t\\t {self.nombre}\\n\" \\\n",
        "               f\"PVP\\t\\t {self.pvp}\\n\" \\\n",
        "               f\"DESCRIPCIÓN\\t {self.descripcion}\\n\" \\\n",
        "               f\"ISBN\\t\\t {self.isbn}\\n\" \\\n",
        "               f\"AUTOR\\t\\t {self.autor}\\n\""
      ],
      "execution_count": 95,
      "outputs": []
    },
    {
      "cell_type": "markdown",
      "metadata": {
        "id": "C8tYfR3SmEas",
        "colab_type": "text"
      },
      "source": [
        "Ahora para utilizarlas simplemente tendríamos que establecer los atributos después de crear los objetos:"
      ]
    },
    {
      "cell_type": "code",
      "metadata": {
        "id": "HRH-OSc8mH2n",
        "colab_type": "code",
        "colab": {
          "base_uri": "https://localhost:8080/",
          "height": 263
        },
        "outputId": "c04f3e31-c8a3-4543-a3b6-83a93618f7ef"
      },
      "source": [
        "alimento = Alimento(2035, \"Botella de Aceite de Oliva\", 5, \"250 ML\")\n",
        "alimento.productor = \"La Aceitera\"\n",
        "alimento.distribuidor = \"Distribuciones SA\"\n",
        "print(alimento)\n",
        "\n",
        "libro = Libro(2036, \"Cocina Mediterránea\",9, \"Recetas sanas y buenas\")\n",
        "libro.isbn = \"0-123456-78-9\"\n",
        "libro.autor = \"Doña Juana\"\n",
        "print(libro)"
      ],
      "execution_count": 96,
      "outputs": [
        {
          "output_type": "stream",
          "text": [
            "REFERENCIA\t 2035\n",
            "NOMBRE\t\t Botella de Aceite de Oliva\n",
            "PVP\t\t 5\n",
            "DESCRIPCIÓN\t 250 ML\n",
            "PRODUCTOR\t\t La Aceitera\n",
            "DISTRIBUIDOR\t\t Distribuciones SA\n",
            "\n",
            "REFERENCIA\t 2036\n",
            "NOMBRE\t\t Cocina Mediterránea\n",
            "PVP\t\t 9\n",
            "DESCRIPCIÓN\t Recetas sanas y buenas\n",
            "ISBN\t\t 0-123456-78-9\n",
            "AUTOR\t\t Doña Juana\n",
            "\n"
          ],
          "name": "stdout"
        }
      ]
    },
    {
      "cell_type": "markdown",
      "metadata": {
        "id": "dsXFzngBmT4l",
        "colab_type": "text"
      },
      "source": [
        "### Trabajando en conjunto\n",
        "Gracias a la flexibilidad de Python podemos manejar objetos de distintas clases masivamente de una forma muy simple.\n",
        "\n",
        "Vamos a empezar creando una lista con nuestros tres productos de subclases distintas:"
      ]
    },
    {
      "cell_type": "code",
      "metadata": {
        "id": "vMV7JavMmXBC",
        "colab_type": "code",
        "colab": {
          "base_uri": "https://localhost:8080/",
          "height": 474
        },
        "outputId": "1679a5a2-06ea-4a2d-f1ad-d9e9b08409e2"
      },
      "source": [
        "productos = [adorno, alimento]\n",
        "productos.append(libro)\n",
        "\n",
        "print(productos)\n",
        "\n",
        "#Ahora si queremos recorrer todos los productos de la lista podemos usar un bucle for:\n",
        "for producto in productos:\n",
        "    print(producto, \"\\n\")\n",
        "\n",
        "#También podemos acceder a los atributos, siempre que sean compartidos entre todos los objetos:    \n",
        "\n",
        "for producto in productos:\n",
        "    print(producto.referencia, producto.nombre)"
      ],
      "execution_count": 97,
      "outputs": [
        {
          "output_type": "stream",
          "text": [
            "[<__main__.Adorno object at 0x7f3a704d5860>, <__main__.Alimento object at 0x7f3a7060e0f0>, <__main__.Libro object at 0x7f3a7060ee10>]\n",
            "REFERENCIA\t 2034\n",
            "NOMBRE\t\t Vaso adornado\n",
            "PVP\t\t 15\n",
            "DESCRIPCIÓN\t Vaso de porcelana\n",
            " \n",
            "\n",
            "REFERENCIA\t 2035\n",
            "NOMBRE\t\t Botella de Aceite de Oliva\n",
            "PVP\t\t 5\n",
            "DESCRIPCIÓN\t 250 ML\n",
            "PRODUCTOR\t\t La Aceitera\n",
            "DISTRIBUIDOR\t\t Distribuciones SA\n",
            " \n",
            "\n",
            "REFERENCIA\t 2036\n",
            "NOMBRE\t\t Cocina Mediterránea\n",
            "PVP\t\t 9\n",
            "DESCRIPCIÓN\t Recetas sanas y buenas\n",
            "ISBN\t\t 0-123456-78-9\n",
            "AUTOR\t\t Doña Juana\n",
            " \n",
            "\n",
            "2034 Vaso adornado\n",
            "2035 Botella de Aceite de Oliva\n",
            "2036 Cocina Mediterránea\n"
          ],
          "name": "stdout"
        }
      ]
    },
    {
      "cell_type": "markdown",
      "metadata": {
        "id": "ZLFYl9b2mrdm",
        "colab_type": "text"
      },
      "source": [
        "Si un objeto no tiene el atributo al que queremos acceder nos dará error:"
      ]
    },
    {
      "cell_type": "code",
      "metadata": {
        "id": "QfXa_EeimtDP",
        "colab_type": "code",
        "colab": {
          "base_uri": "https://localhost:8080/",
          "height": 185
        },
        "outputId": "2e3dc422-24a2-480b-da7e-be06dfa134a7"
      },
      "source": [
        "for producto in productos:\n",
        "    print(producto.autor)"
      ],
      "execution_count": 98,
      "outputs": [
        {
          "output_type": "error",
          "ename": "AttributeError",
          "evalue": "ignored",
          "traceback": [
            "\u001b[0;31m---------------------------------------------------------------------------\u001b[0m",
            "\u001b[0;31mAttributeError\u001b[0m                            Traceback (most recent call last)",
            "\u001b[0;32m<ipython-input-98-0ae432e60369>\u001b[0m in \u001b[0;36m<module>\u001b[0;34m()\u001b[0m\n\u001b[1;32m      1\u001b[0m \u001b[0;32mfor\u001b[0m \u001b[0mproducto\u001b[0m \u001b[0;32min\u001b[0m \u001b[0mproductos\u001b[0m\u001b[0;34m:\u001b[0m\u001b[0;34m\u001b[0m\u001b[0;34m\u001b[0m\u001b[0m\n\u001b[0;32m----> 2\u001b[0;31m     \u001b[0mprint\u001b[0m\u001b[0;34m(\u001b[0m\u001b[0mproducto\u001b[0m\u001b[0;34m.\u001b[0m\u001b[0mautor\u001b[0m\u001b[0;34m)\u001b[0m\u001b[0;34m\u001b[0m\u001b[0;34m\u001b[0m\u001b[0m\n\u001b[0m",
            "\u001b[0;31mAttributeError\u001b[0m: 'Adorno' object has no attribute 'autor'"
          ]
        }
      ]
    },
    {
      "cell_type": "markdown",
      "metadata": {
        "id": "zKLtyhi9mucK",
        "colab_type": "text"
      },
      "source": [
        "Por suerte podemos hacer una comprobación con la función ```isinstance()``` para determinar si una instancia es de una determinado clase y así mostrar unos atributos u otros:"
      ]
    },
    {
      "cell_type": "code",
      "metadata": {
        "id": "V71sfn0RmwYo",
        "colab_type": "code",
        "colab": {
          "base_uri": "https://localhost:8080/",
          "height": 175
        },
        "outputId": "f60ff24c-a80c-4763-bdfc-b92892aa0df6"
      },
      "source": [
        "for producto in productos:\n",
        "    if( isinstance(producto, Adorno) ):\n",
        "        print(producto.referencia, producto.nombre)\n",
        "    elif( isinstance(producto, Alimento) ):\n",
        "        print(producto.referencia, producto.nombre, producto.productor)\n",
        "    # elif( isinstance(producto, Libro) ):\n",
        "    #     print(producto.referencia, producto.nombre, p.autor) \n",
        "\n",
        "\n",
        "print(libro)"
      ],
      "execution_count": 104,
      "outputs": [
        {
          "output_type": "stream",
          "text": [
            "2034 Vaso adornado\n",
            "2035 Botella de Aceite de Oliva La Aceitera\n",
            "REFERENCIA\t 2036\n",
            "NOMBRE\t\t Cocina Mediterránea\n",
            "PVP\t\t 9\n",
            "DESCRIPCIÓN\t Recetas sanas y buenas\n",
            "ISBN\t\t 0-123456-78-9\n",
            "AUTOR\t\t Doña Juana\n",
            "\n"
          ],
          "name": "stdout"
        }
      ]
    },
    {
      "cell_type": "markdown",
      "metadata": {
        "id": "3LWhezozoXw6",
        "colab_type": "text"
      },
      "source": [
        "###Polimorfismo\n",
        "El polimorfismo es una propiedad de la herencia por la que objetos de distintas subclases pueden responder a una misma acción.\n",
        "\n",
        "La polimorfia es implícita en Python, ya que todas las clases son subclases de una superclase común llamada **Object**.\n",
        "\n",
        "Por ejemplo la siguiente función aplica una rebaja al precio de un producto:"
      ]
    },
    {
      "cell_type": "code",
      "metadata": {
        "id": "H-yE5pSEoocU",
        "colab_type": "code",
        "colab": {}
      },
      "source": [
        "def rebajar_producto(producto, rebaja):\n",
        "    producto.pvp = producto.pvp - (producto.pvp/100 * rebaja)\n",
        "    # producto.pvp=producto.pvp(1-rebaja/100)"
      ],
      "execution_count": 106,
      "outputs": []
    },
    {
      "cell_type": "markdown",
      "metadata": {
        "id": "JEhzmutoop7M",
        "colab_type": "text"
      },
      "source": [
        "Gracias al polimorfismo no tenemos que comprobar si un objeto tiene o no el atributo pvp, simplemente intentamos acceder y si existe premio:"
      ]
    },
    {
      "cell_type": "code",
      "metadata": {
        "id": "XDASb94RorQc",
        "colab_type": "code",
        "colab": {
          "base_uri": "https://localhost:8080/",
          "height": 281
        },
        "outputId": "7c893235-b3a3-498d-cf85-8788a0db834f"
      },
      "source": [
        "print(alimento, \"\\n\")\n",
        "rebajar_producto(alimento, 10)\n",
        "print(alimento)\n",
        "\n"
      ],
      "execution_count": 109,
      "outputs": [
        {
          "output_type": "stream",
          "text": [
            "REFERENCIA\t 2035\n",
            "NOMBRE\t\t Botella de Aceite de Oliva\n",
            "PVP\t\t 4.05\n",
            "DESCRIPCIÓN\t 250 ML\n",
            "PRODUCTOR\t\t La Aceitera\n",
            "DISTRIBUIDOR\t\t Distribuciones SA\n",
            " \n",
            "\n",
            "REFERENCIA\t 2035\n",
            "NOMBRE\t\t Botella de Aceite de Oliva\n",
            "PVP\t\t 3.6449999999999996\n",
            "DESCRIPCIÓN\t 250 ML\n",
            "PRODUCTOR\t\t La Aceitera\n",
            "DISTRIBUIDOR\t\t Distribuciones SA\n",
            "\n"
          ],
          "name": "stdout"
        }
      ]
    },
    {
      "cell_type": "markdown",
      "metadata": {
        "id": "KnAGY2ocotLw",
        "colab_type": "text"
      },
      "source": [
        "Por cierto, como pueden ver en el ejemplo, cuando modificamos un atributo de un objeto dentro de una función éste cambia en la instancia. "
      ]
    },
    {
      "cell_type": "markdown",
      "metadata": {
        "id": "4QEYlYaipA2i",
        "colab_type": "text"
      },
      "source": [
        "### Copia de Objetos\n",
        "De la misma forma que las colecciones, los objetos se pasan a las funciones por referencia. Si modificamos sus valores dentro, éstos se verán reflejados fuera.\n",
        "\n",
        "Esto también afecta a la hora de hacer copias, creándose en su lugar un acceso al objeto en lugar de uno nuevo con sus valores:"
      ]
    },
    {
      "cell_type": "code",
      "metadata": {
        "id": "aZL84b6apDvE",
        "colab_type": "code",
        "colab": {
          "base_uri": "https://localhost:8080/",
          "height": 70
        },
        "outputId": "f35f36c3-7294-44b7-c60a-4583346b0a5c"
      },
      "source": [
        "class Test:\n",
        "    pass\n",
        "\n",
        "test1 = Test()\n",
        "test2 = test1\n",
        "\n",
        "test2.algo = \"Prueba\"\n",
        "\n",
        "print(test2 == test1)  # ¿Son el mismo objeto?\n",
        "\n",
        "print(test1.algo)\n",
        "print(test2.algo)"
      ],
      "execution_count": 114,
      "outputs": [
        {
          "output_type": "stream",
          "text": [
            "True\n",
            "Prueba\n",
            "Prueba\n"
          ],
          "name": "stdout"
        }
      ]
    },
    {
      "cell_type": "markdown",
      "metadata": {
        "id": "9ZTWVMaspGce",
        "colab_type": "text"
      },
      "source": [
        "Para realizar una copia a partir de sus valores podemos utilizar la función copy del módulo con el mismo nombre:"
      ]
    },
    {
      "cell_type": "code",
      "metadata": {
        "id": "R_1w77_npHCM",
        "colab_type": "code",
        "colab": {
          "base_uri": "https://localhost:8080/",
          "height": 52
        },
        "outputId": "fe18f3cf-5daf-4f42-ac04-bd35b26e5560"
      },
      "source": [
        "from copy import copy\n",
        "\n",
        "class Test:\n",
        "    pass\n",
        "\n",
        "test1 = Test()\n",
        "test2 = copy(test1)\n",
        "\n",
        "test1.algo = \"Prueba\"\n",
        "\n",
        "print(test2 == test1)  # ¿Son el mismo objeto?\n",
        "\n",
        "print(test1.algo)\n"
      ],
      "execution_count": 117,
      "outputs": [
        {
          "output_type": "stream",
          "text": [
            "False\n",
            "Prueba\n"
          ],
          "name": "stdout"
        }
      ]
    },
    {
      "cell_type": "markdown",
      "metadata": {
        "id": "pJTG1DocpL7q",
        "colab_type": "text"
      },
      "source": [
        "La función copy se puede utilizar también para copiar colecciones:"
      ]
    },
    {
      "cell_type": "code",
      "metadata": {
        "id": "0HFlqWuUpNKT",
        "colab_type": "code",
        "colab": {
          "base_uri": "https://localhost:8080/",
          "height": 52
        },
        "outputId": "3fbd1ee2-7fe7-4ec4-a199-4b2a2d99485b"
      },
      "source": [
        "from copy import copy\n",
        "\n",
        "lista1 = [1,2,3]\n",
        "lista2 = copy(lista1)\n",
        "lista1 = None\n",
        "\n",
        "print(lista1)\n",
        "print(lista2)"
      ],
      "execution_count": 118,
      "outputs": [
        {
          "output_type": "stream",
          "text": [
            "None\n",
            "[1, 2, 3]\n"
          ],
          "name": "stdout"
        }
      ]
    },
    {
      "cell_type": "markdown",
      "metadata": {
        "id": "Lj9aLSerpPYL",
        "colab_type": "text"
      },
      "source": [
        "### Herencia múltiple\n",
        "Finalmente hablemos de la herencia múltiple: la capacidad de una subclase de heredar de múltiples superclases.\n",
        "\n",
        "Esto conlleva un problema, y es que si varias superclases tienen los mismos atributos o métodos, la subclase sólo podrá heredar de una de ellas.\n",
        "\n",
        "En estos casos Python dará prioridad a las clases más a la izquierda en el momento de la declaración de la subclase:"
      ]
    },
    {
      "cell_type": "code",
      "metadata": {
        "id": "nPG2EtIxpUp_",
        "colab_type": "code",
        "colab": {
          "base_uri": "https://localhost:8080/",
          "height": 87
        },
        "outputId": "b11e9918-b9c7-42d9-ed6f-697edc7d0502"
      },
      "source": [
        "class A:\n",
        "    def __init__(d):\n",
        "        print(\"Soy de clase A\")\n",
        "    def a(d):\n",
        "        print(\"Este método lo heredo de A\")\n",
        "\n",
        "class B:\n",
        "    def __init__(d):\n",
        "        print(\"Soy de clase B\")\n",
        "    def b(d):\n",
        "        print(\"Este método lo heredo de B\")\n",
        "    def a(b):\n",
        "        print(\"Este método lo heredo de BA\")\n",
        "\n",
        "class C(B,A):\n",
        "    def c(c):\n",
        "        print(\"Este método es de C\")\n",
        "\n",
        "\n",
        "c = C()\n",
        "c.a()\n",
        "c.b()\n",
        "c.c()"
      ],
      "execution_count": 122,
      "outputs": [
        {
          "output_type": "stream",
          "text": [
            "Soy de clase B\n",
            "Este método lo heredo de BA\n",
            "Este método lo heredo de B\n",
            "Este método es de C\n"
          ],
          "name": "stdout"
        }
      ]
    },
    {
      "cell_type": "markdown",
      "metadata": {
        "id": "5xUhxGIQpttD",
        "colab_type": "text"
      },
      "source": [
        "##Ejercicio 1\n",
        "\n",
        "En este ejercicio vas a trabajar el concepto de puntos, coordenadas y vectores sobre el plano cartesiano y cómo la programación Orientada a Objetos puede ser una excelente aliada para trabajar con ellos. No está pensado para que hagas ningún tipo de cálculo sino para que practiques la automatización de tareas\n",
        "\n",
        "**Repaso plano cartesiano**\n",
        "### El plano cartesiano\n",
        "Representa un espacio bidimensional (en 2 dimensiones), formado por dos rectas perpendiculares, una horizontal y otra vertical que se cortan en un punto. La recta horizontal se denomina eje de las abscisas o eje X, mientras que la vertical recibe el nombre de eje de las ordenadas o simplemente eje Y. En cuanto al punto donde se cortan, se conoce como el punto de origen O.\n",
        "Es importante remarcar que el plano se divide en 4 cuadrantes:\n",
        "\n",
        "<img width=\"300\" height=\"300\" src=\"https://www.matematica7.com/uploads/8/0/0/0/8000951/5580504.jpg?499\">\n",
        "\n",
        "### Puntos y coordenadas\n",
        "El objetivo de todo esto es describir la posición de **puntos** sobre el plano en forma de **coordenadas**, que se forman asociando el valor del eje de las X (horizontal) con el valor del eje Y (vertical).\n",
        "\n",
        "La representación de un punto es sencilla: **P(X,Y)** dónde X y la Y son la distancia horizontal (izquierda o derecha) y vertical (arriba o abajo) respectivamente, utilizando como referencia el punto de origen (0,0), justo en el centro del plano.\n",
        "\n",
        "<img width=\"300\" height=\"300\" src=\"https://www.ecured.cu/images/c/cd/Plano_Cartesiano.png\">\n",
        "\n",
        "### Vectores en el plano\n",
        "Finalmente, un vector en el plano hace referencia a un segmento orientado, generado a partir de dos puntos distintos.\n",
        "\n",
        "A efectos prácticos no deja de ser una línea formada desde un punto inicial en dirección a otro punto final, por lo que se entiende que un vector tiene longitud y dirección/sentido.\n",
        "\n",
        "<img width=\"350\" height=\"300\" src=\"https://www.aulafacil.com/uploads/cursos/2752/editor/matematicas-eso-formulas00038.es.jpg\">\n",
        "\n",
        "\n",
        "En esta figura, podemos observar dos puntos A y B que podríamos definir de la siguiente forma:\n",
        "\n",
        "* $p_1(x_1, y_1)$ => $p_1(2, 2)$\n",
        "* $p_2(x_2, y_2)$ => $p_2(7, 5)$\n",
        "Y el vector se representaría como la diferencia entre las coordendas del segundo punto respecto al primero (el segundo menos el primero):\n",
        "\n",
        "$A=p_1p_2 = (x_2-x_1, y_2-y_1) => (5-2, 5-3) => (3,2)$\n",
        "Lo que en definitiva no deja de ser: 3 a la derecha y 2 arriba.\n",
        "\n",
        "Y con esto finalizamos este mini repaso.\n",
        "\n",
        "### Ejercicio\n",
        "* Crea una clase llamada Punto con sus dos coordenadas $X$ e $Y$.\n",
        "* Añade un método constructor para crear puntos fácilmente. Si no se reciben una coordenada, su valor será cero.\n",
        "* Sobreescribe el método string, para que al imprimir por pantalla un punto aparezca en formato (X,Y)\n",
        "* Añade un método llamado cuadrante que indique a qué cuadrante pertenece el punto, teniendo en cuenta que si X == 0 e Y != 0 se sitúa sobre el eje Y, si X != 0 e Y == 0 se sitúa sobre el eje X y si X == 0 e Y == 0 está sobre el origen.\n",
        "* Añade un método llamado vector, que tome otro punto y calcule el vector resultante entre los dos puntos.\n",
        "* (Optativo) Añade un método llamado distancia, que tome otro punto y calcule la distancia entre los dos puntos y la muestre por pantalla. La fórmula es la siguiente: \\\n",
        "$d=\\sqrt{(x_2-x_1)^2+(y_2-y_1)^2 }$\n",
        "\n",
        "*Nota: La función raíz cuadrada en Python sqrt() se debe importar del módulo math y utilizarla de la siguiente forma:*\n",
        "```\n",
        "import math\n",
        "math.sqrt(9)\n",
        "```\n",
        "\n",
        "* Crea una clase llamada Rectangulo con dos puntos (inicial y final) que formarán la diagonal del rectángulo.\n",
        "* Añade un método constructor para crear ambos puntos fácilmente, si no se envían se crearán dos puntos en el origen por defecto.\n",
        "* Añade al rectángulo un método llamado base que muestre la base.\n",
        "* Añade al rectángulo un método llamado altura que muestre la altura.\n",
        "* Añade al rectángulo un método llamado area que muestre el area.\n",
        "\n",
        "*Sugerencia: Puedes identificar fácilmente estos valores si intentas dibujar el cuadrado a partir de su diagonal. Si andas perdido, prueba de dibujarlo en un papel, ¡seguro que lo verás mucho más claro! Además recuerda que puedes utilizar la función ```abs()``` para saber el valor absolute de un número.*\n",
        "\n",
        "### Experimentación\n",
        "* Crea los puntos A(2, 3), B(5,5), C(-3, -1) y D(0,0) e imprimelos por pantalla.\n",
        "* Consulta a que cuadrante pertenecen el punto A, C y D.\n",
        "* Consulta los vectores AB y BA.\n",
        "* (Optativo) Consulta la distancia entre los puntos 'A y B' y 'B y A'.\n",
        "* (Optativo) Determina cual de los 3 puntos A, B o C, se encuentra más lejos del origen, punto (0,0).\n",
        "* Crea un rectángulo utilizando los puntos A y B.\n",
        "* Consulta la base, altura y área del rectángulo.\n",
        "\n",
        "###Solución:\n",
        " <font color=\"white\">  \n",
        " ```\n",
        "```\n",
        " </font>\n",
        "\n",
        "\n"
      ]
    },
    {
      "cell_type": "code",
      "metadata": {
        "id": "5vhmq4G0uuSd",
        "colab_type": "code",
        "colab": {}
      },
      "source": [
        ""
      ],
      "execution_count": null,
      "outputs": []
    },
    {
      "cell_type": "markdown",
      "metadata": {
        "id": "NbJln5I0v60M",
        "colab_type": "text"
      },
      "source": [
        "## Ejercicio 2\n",
        "\n",
        "Teoría previa \\\n",
        "En este ejercicio vas a trabajar el concepto de herencia un poco más en profundidad, aprovechando para introducir un nuevo concepto muy importante que te facilitará la vida.\n",
        "\n",
        "Hasta ahora sabemos que una clase heredada puede fácilmente extender algunas funcionalidades, simplemente añadiendo nuevos atributos y métodos, o sobreescribiendo los ya existentes. Como en el siguiente ejemplo: \\\n",
        "\n",
        "![image.png](data:image/png;base64,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)"
      ]
    },
    {
      "cell_type": "code",
      "metadata": {
        "id": "0jGh6ZxEwoeJ",
        "colab_type": "code",
        "colab": {}
      },
      "source": [
        "class Vehiculo():\n",
        "\n",
        "    def __init__(self, color, ruedas):\n",
        "        self.color = color\n",
        "        self.ruedas = ruedas\n",
        "\n",
        "    def __str__(self):\n",
        "        return \"Color {}, {} ruedas\".format( self.color, self.ruedas )\n",
        "\n",
        "class Coche(Vehiculo):\n",
        "\n",
        "    def __init__(self, color, ruedas, velocidad, cilindrada):\n",
        "        self.color = color\n",
        "        self.ruedas = ruedas\n",
        "        self.velocidad = velocidad\n",
        "        self.cilindrada = cilindrada\n",
        "\n",
        "    def __str__(self):\n",
        "        return \"color {}, {} km/h, {} ruedas, {} cc\".format( self.color, self.velocidad, self.ruedas, self.cilindrada )\n",
        "\n",
        "\n",
        "coche = Coche(\"azul\", 150, 4, 1200)\n",
        "print(coche)"
      ],
      "execution_count": null,
      "outputs": []
    },
    {
      "cell_type": "markdown",
      "metadata": {
        "id": "vOQS6wXxwpJD",
        "colab_type": "text"
      },
      "source": [
        "El inconveniente más evidente de ir sobreescribiendo es que tenemos que volver a escribir el código de la superclase y luego el específico de la subclase.\n",
        "\n",
        "Para evitarnos escribir código innecesario, podemos utilizar un truco que consiste en llamar el método de la superclase y luego simplemente escribir el código de la clase:"
      ]
    },
    {
      "cell_type": "code",
      "metadata": {
        "id": "_zpr28yGwrZ1",
        "colab_type": "code",
        "colab": {}
      },
      "source": [
        "class Vehiculo():\n",
        "\n",
        "    def __init__(self, color, ruedas):\n",
        "        self.color = color\n",
        "        self.ruedas = ruedas\n",
        "\n",
        "    def __str__(self):\n",
        "        return \"Color {}, {} ruedas\".format( self.color, self.ruedas )\n",
        "\n",
        "\n",
        "class Coche(Vehiculo):\n",
        "\n",
        "    def __init__(self, color, ruedas, velocidad, cilindrada):\n",
        "        Vehiculo.__init__(self, color, ruedas)\n",
        "        self.velocidad = velocidad\n",
        "        self.cilindrada = cilindrada\n",
        "\n",
        "    def __str__(self):\n",
        "        return Vehiculo.__str__(self) + \", {} km/h, {} cc\".format(self.velocidad, self.cilindrada)\n",
        "\n",
        "\n",
        "c = Coche(\"azul\", 4, 150, 1200)\n",
        "print(c)"
      ],
      "execution_count": null,
      "outputs": []
    },
    {
      "cell_type": "markdown",
      "metadata": {
        "id": "-zaM8RVTwtlq",
        "colab_type": "text"
      },
      "source": [
        "Como tener que determinar constantemente la superclase puede ser fastidioso, Python nos permite utilizar un acceso directo mucho más cómodo llamado ```super()```.\n",
        "\n",
        "Hacerlo de esta forma además nos permite llamar cómodamente los métodos o atributos de la superclase sin necesidad de especificar el self, pero ojo, **sólo se aconseja utilizarlo cuando tenemos una única superclase**:"
      ]
    },
    {
      "cell_type": "code",
      "metadata": {
        "id": "zc0O711Cw21b",
        "colab_type": "code",
        "colab": {}
      },
      "source": [
        "class Vehiculo():\n",
        "\n",
        "    def __init__(self, color, ruedas):\n",
        "        self.color = color\n",
        "        self.ruedas = ruedas\n",
        "\n",
        "    def __str__(self):\n",
        "        return \"color {}, {} ruedas\".format( self.color, self.ruedas )\n",
        "\n",
        "\n",
        "class Coche(Vehiculo):\n",
        "\n",
        "    def __init__(self, color, ruedas, velocidad, cilindrada):\n",
        "        Vehiculo.__init__(self, color, ruedas)\n",
        "        self.velocidad = velocidad\n",
        "        self.cilindrada = cilindrada\n",
        "\n",
        "    def __str__(self):\n",
        "        return Vehiculo.__str__(self) + \", {} km/h, {} cc\".format(self.velocidad, self.cilindrada)\n",
        "\n",
        "\n",
        "c = Coche(\"azul\", 4, 150, 1200)\n",
        "print(c)"
      ],
      "execution_count": null,
      "outputs": []
    },
    {
      "cell_type": "markdown",
      "metadata": {
        "id": "7b-KVAuVw_J6",
        "colab_type": "text"
      },
      "source": [
        "Utilizando esta nueva técnica extiende la clase Vehiculo y realiza la siguiente implementación:\n",
        "![image.png](data:image/png;base64,iVBORw0KGgoAAAANSUhEUgAAAkYAAAHJCAYAAABg0/b8AAAgAElEQVR4Ae2dDfAV1Xn/bdKIiaIJeSUkJTYllihDHaclQ8aJ/nUKaqqQigmtWCEaIwYnQowVQxI1WNFoZZzxpdVEQWOJMQaHOqJi8S0oYnxX8AWQICoiQSKggpz/fI886/6We/d333bv2d3PmYHdu7vn7fPs8/y+9+w5e3dxJAhAAAIQgAAEIAABT2AXOEAAAhCAAAQgAAEIvEcAYcSdAAEIQAACEIAABHYQQBhxK0AAAhCAAAQgAIEdBBBG3AoQgAAEIAABCEBgBwGEEbcCBCAAAQhAAAIQ2EEAYcStAAEIQAACEIAABHYQQBhxK0AAAhCAAAQgAIEdBBBG3AoQgAAEIAABCEBgBwGEEbdC6Qk8+OCD7uyzz3aHHXaY23vvvd1uu+3mdtllF/7BoJL3gO5/+YH8QX4h/yBBAALvE0AYvc+CvZIRuPLKK93+++9fyT9+CD+EbzP3gPxE/kKCAAScQxhxF5SOwPz583sIogEDBrhTTjnF3XjjjW7ZsmVu8+bNpeszHYJAowR0/8sP5A/yC/mHiSgJJPkPCQJVJoAwqrL1S9h3PRqwIL/ffvu5WbNmlbCXdAkCnSUgP5G/mO/Ij0gQqCoBhFFVLV/Cfk+cODEK7NOmTSthD+kSBLIlIL8xcSR/IkGgigQQRlW0egn7PHny5Cig6xEBCQIQaI2A/MfEkfyKBIGqEUAYVc3iJeyvJo1aIJ83b14Je0iXIJAvAfmR+RSTsvNlT23dJ4Aw6r4NaEEbBFauXBktvyeAtwGSrBBIELAvHH369HHyMxIEqkIAYVQVS5e0nxMmTPDfbMeOHVvSHtItCHSPgPxKI0djxozpXiOoGQI5E0AY5Qyc6jpHYOnSpdFwv5YfkyAAgc4SkF/ZI7V77723s4VTGgQCJYAwCtQwNKt3AlOnTvVBW6NGJAhAIBsCNio7btw4t2XLlmwqoVQIBEQAYRSQMWhKcwQGDx7shdFdd93VXEauhgAEGiYg/9Ko0cCBA51GaUkQKDsBhFHZLVzS/mkyqIJ1v379StpDugWBcAjIz+Rvc+bMcZs2bQqnYbQEAhkQQBhlAJUisycwd+5cH6hHjBiRfWXUAIGKE5CfSRhNnz7dLV++vOI06H7ZCSCMym7hkvZv5syZPlDrt55IEIBAtgTkZxJGkyZNcosXL862MkqHQJcJIIy6bACqb42A/SYaP/3RGj9yQaAZAvZTIePHj3cLFy5kEnYz8Li2cAQQRoUzGQ0WgZ/+9Kf+G6y2JAhAIFsC5m/HH3+8F0br1q3LtkJKh0AXCSCMugifqlsnYIEaYdQ6Q3JCoFEC5m8mjFavXt1oVq6DQOEIIIwKZzIaLAIWqBFG3A8QyJ6A+ZsJI34iJHvm1NA9Agij7rGn5jYIWKBGGLUBkawQaJCA+RvCqEFgXFZoAgijQpuvuo23QI0wqu49QM/zI2D+hjDKjzk1dY8Awqh77Km5DQIWqBFGbUAkKwQaJGD+hjBqEBiXFZoAwqjQ5qtu4y1QI4yqew/Q8/wImL8hjPJjTk3dI4Aw6h57am6DgAVqhFHvEDdv3uxOOukk/3oDbfU5mW666SZ/ftiwYQ292Vi/mTV06FD/r5Hfz3rooYf8b20dccQRrtMTd5ttS7LvfO6dgPkbwqh3VlxRfAIIo+LbsJI9sECNMGrM/CZ8JGaSQuatt95yp556qhdGp512mnv77bd7LbQZMfLGG2+44447zp144onu9ddf77XsZi9opi3Nls317xEwf0MYcUdUgQDCqApWLmEfLVAjjBozrn7fSqNB+lmH6667rkem+Lnbb7+9x7l6H0ISIyG1pR6voh83f0MYFd2StL8RAgijRihxTXAELFAjjBozTXxUKPk4zUaTDj30ULdmzRpf4Nq1a91ZZ53lH3/17dvXjRkzxj388MNu+/bt/nxcjDz++OPuiiuucPvss4/Tr7BrZGjVqlVRw8455xwvyLS1pHL00xKjRo1yKl/59HMTzz77rF3iBZyEXLK9Enbx4/G2aN+S+vyb3/zGHXLIIf76gQMHOo2Ixdtm17JNJ2D+hjBK58TZchBAGJXDjpXrhQVqhFHjpp87d64XCPHHafH5R+eee64XPq+88oo76qij/LUSIPZPwkJiRsnEyKBBg9w3vvGN6Bq7Vn9A33zzTX9tLWH0u9/9zgsiu962GtUycZQUQNbT5HFrS7Jf3//+93dql+pRHU8//bQVx7YBAuZvCKMGYHFJ4QkgjApvwmp2wAI1wqhx+2vS8/Dhw71YsMdpJir69+/vHnzwQV/YxRdf7K/RD/VKOL377rtu/vz5TteY4LF8EhoaIdIIk6675pprfN64SEkKo/Xr17vRo0f768477zynkZ2NGze6E044wR+76KKLvEBLCiDrafK4tSVe55133umFl8TcvHnzfNs0Gqa2qs3JUSgrm21tAuZvCKPafDhaLgIIo3LZszK9sUCNMGrc5Nu2bXNnnnlmD2FgIuPoo492GzZs8EJIosFGcJLbAw44wD333HPRiJEeg913331RI2qJlKQweuyxx5xGmqysKHNix9qWFDHJ48k64/1Uf/XZ0pIlS7zA661uu57tewTM3xBG3BFVIIAwqoKVS9hHC9QIo+aMq8nVEjsaXXnkkUeiZfyaI6SkX00fMWJEXWE0ZMgQ98wzz0TCKD5Ko/xJkaJjSWEkIaU2qJ60X2lPCiDfQOd2mnuUrDP+eFBlxFPy2vg59usTMH9DGNVnxJnyEEAYlceWleqJBWqEUXNm1+MkTbKWMDn99NO9QBo8eLB78sknfUGbNm2KHmlde+21dQuvJzBqHU8KIxsxMpFVrxITRjaaZdfZoz4bSUrWyYiRkerc1vwNYdQ5ppQULgGEUbi2oWUpBCxQI4xSINU4JdEwbdq0HiNCJjB0uVaLaY6PhJNexvjCCy/4OUCXXHKJP6Y/jJpUnRQjVlWt40lhFJ9jNH36dP/4TqM82le9VodNFpdwu/fee/08ocWLF0evHbB216pT84r0mK/eHCO9t0lzm0iNETB/Qxg1xourik0AYVRs+1W29RaoEUbN3wI2MVkiRP+0XD+eVqxY4b761a/6c3aNtrVWpbXyKE113XLLLX6Jfrz8ZB0axZIoSl6jSeA6liaMJN4mTpy4U17lY1Va3NqN7Zu/IYwa48VVxSaAMCq2/SrbegvUCKPmb4HXXnvNjRw50osGiQS94DGZ9K4fvfNHYkhi4utf/7pfql/rPUYasbFUa/QmOWKka1XOokWLerzHaOzYsT3elaRrFixYEL2HSG29+uqr/b/ehJHqqPUeI72bSSvoSM0RMH9DGDXHjauLSQBhVEy7Vb7VFqgRRpW/FQCQAwHzN4RRDrCpousEEEZdNwENaIWABWqEUSv0yAOB5giYvyGMmuPG1cUkgDAqpt0q32oL1Aijyt8KAMiBgPkbwigH2FTRdQIIo66bgAa0QsACNcKoFXrkgUBzBMzfEEbNcePqYhJAGBXTbpVvtQVqhFHlbwUA5EDA/A1hlANsqug6AYRR101AA1ohYIEaYdQKPfJAoDkC5m8Io+a4cXUxCSCMimm3yrfaAjXCqPK3AgByIGD+hjDKATZVdJ0AwqjrJqABrRCwQI0waoUeeSDQHAHzN4RRc9y4upgEEEbFtFvlW22BGmFU+VsBADkQMH9DGOUAmyq6TgBh1HUT0IBWCFigRhi1Qo88EGiOgPkbwqg5blxdTAIIo2LarfKttkCNMKr8rQCAHAiYvyGMcoBNFV0ngDDqugloQCsELFAjjFqhRx4INEfA/A1h1Bw3ri4mAYRRMe1WiVZfcskldftpgRphVBcRJyDQMQLmb2nCKM1fO9YQCoJADgQQRjlApormCbz++uvuL/7iL9wnPvEJN3PmzJ0KsECNMNoJDQcg0HEC5m+1hJH8U376gQ98wMlvSRAoOgGEUdEtWOL2n3766W733Xd3/fr1cx//+MfdBRdc4LZt2+Z7bIEaYVTiG4CuBUPA/M2E0QsvvOD9UX4p/5Sfyl9JECgDAYRRGaxY0j68+eab7sMf/rDbZZdd/L+99trL7bnnnu7HP/6xO+uss/wxhFFJjU+3giJgwujYY491//Zv/+b22GMPJ38035Sfyl9JECgDAYRRGayYcx9WrVrl5syZ484++2x38sknu/Hjx7vjjjvO/cu//Iv75je/6Y4++mg3evRo90//9E/u8MMPdyNGjHCHHnqoO+igg9yBBx7ohg8f7oYNG+YOOOAA93d/93duyJAh7stf/rL70pe+5L74xS+6L3zhC+7zn/+869+/v9t1113dBz/4wSgAKxDr2F/+5V8ijHK2O9VVl4AJI/nihz70oR7+qGN9+vTx/iq/lf/Kj+XP8mv5t/xc/i6/l/8rDigeKC4oPihOKF4obih+KI4oniiuKL4ozijeKO4o/pAgkCUBhFGWdEtW9i233OL+8R//0X30ox91o0aNcj/60Y/cZZdd5k444QR37bXXuuuvv979z//8j7vxxhvdb3/7W6fr//d//9fddttt7o477nB33XWXu+eee9z999/vHnjgAffQQw+5Rx55xD3++OPuqaeeckuXLnXPP/+8W7FihQ9+L730kg+29q1U9Woew/e//3337//+7wijkt1fdCdcAiaMJFYkXOSH8kfzTX2Jkb9KtMh/5cfyZ/m1/Ft+Ln+X38v/FQcUDxQXFB8UJxQvFDcUPxRHFE8UVxRfFGcUbxR3VK/ikK4nQSALAgijLKiWsMwTTzzR7bvvvu66667LrXdXXXWVH7L/yEc+4gPxt7/9bffyyy/7+i1Qa0uCAASyJWD+ZnOMJHLkjxJI8k894pa/5pUUhxSPFJdIEOg0AYRRp4mWsDwNa2tIO+/0sY99zD8yGzt2rP8WGq/fAjXCKE6FfQhkQ8D8zYTRypUrfUUaHZJ/6nGa/DXvpPlOik8kCHSSAMKokzRLWNbPf/5zN3LkyK707Gtf+5ofjq9VuQVqhFEtOhyDQGcJmL8lhZHVosdm8tdupMMOO8xdeOGF3aiaOktKAGFUUsN2oltvvfWWX4qrOQKhJQvUCKPQLJPeHv0BHTp0aK6PZNNbxNlGCJi/1RNGjZSR1TVPPPGEn3e0efPmrKqg3IoRQBhVzODNdPeXv/ylXyXSTJ68rrVAjTDKi3hn6kEYdYZj3qWYv4UojMTin//5n93VV1+dNxbqKykBhFFJDduJbumdJXlOqGymzRaoEUbNUOvstVpppOXVWpmk5deLFi2KKtDqJC2z7tu3rz83b948t337dv9oND5i1Nt1kydP9ku8zzzzTPfOO+9E5bOTLwHzt1CFkb7EacUcCQKdIIAw6gTFkpah94+E+BhNuC1QI4y6c/OtXr3aHXzwwe6KK65wW7dudTNmzPDvpFmzZo1bu3atF0znnHOO0+NYLcnWCqL77ruvhzBq5DpN+t+wYQOiqDtmjmo1fwtVGOm1AHpnEgkCnSCAMOoExZKWofeF/PnPfw6ydxaoEUbdMc/tt9/uBg0a5B577LGdGqBzeq/NkiVL/LmNGze6cePGudNOO81pPoiNGDVynYQXqfsEzN9CFUYS4PpZEhIEOkEAYdQJiiUsQ48t9I6SUJMFaoRRdyyk98hI4GjOUDIlz2lS7EknneT/Pfroo5EwavS6ZPl8zp+A+VuowkhE9MoAJmDnf2+UsUaEURmt2qE+ae5IqMkCNcKoOxZKjvbEW5E8186IkcQTqfsEzN9CFkb6qRLmoXX/XilDC8L9y1cGugXvA8Ko4AbMsPk2x+j88893b7/9trvmmmvc4MGD3ZNPPuleffVVd+SRR7re5hg1el2G3aDoBgkUQRjpNxR1L5Ig0C4BhFG7BEucH2FUYuN2oGvJVWkLFizwK89UtN6IHF+VZueSy/Ubva4DzaWINgggjNqAR9bCEUAYFc5k+TUYYZQfa2qCQMgEiiKMNAmbBIF2CSCM2iVY4vwIoxIbl65BoAkCRRBGffr08a+HaKJbXAqBmgQQRjWxcFAEEEbcBxCAgAggjLgPqkQAYVQlazfZV4RRk8C4HAIlJVAEYbTbbru5LVu2lNQCdCtPAgijPGkXrC6EUcEMRnMhkBEBhFFGYCk2SAIIoyDNEkajEEZh2KHMrdDPhOg+05YULoEiCKMPf/jDvOAx3FuoUC1DGBXKXPk2FmGUL+8q1oYwKobVEUbFsBOt7AwBhFFnOJayFIRRKc3adKfs3UPxX7rXixztN89UYFzgbN++3d1///3uwAMPdP369XPf/e53/Q/L6jqdu/nmm51+oFjnp0+fHo0Yxc/p3hs5cqR7+OGHfXvj5/r27evGjh3rVq5c2XRfyNAaAYRRa9zIVUwCCKNi2i2XViOMcsEcfCUmjOK/dG/H7Cc74sLIzs2ePdtt2LDBnXDCCW7KlCl+KfXy5cvdsGHDnN6Y/eabb7ozzzwzEkYSW6NGjXIvvviiW7dund+fOHGin1D73HPPuQMOOMBde+210blp06a5bdu2Bc+vDA0sgjD6yEc+4jZt2lQG3PShywQQRl02QMjVI4xCtk5+bTOhE/+leztWSxhJvMR/YFafDzroIPfSSy+5uXPnukGDBrnHHnvMd0C/q6b7zOYY6WdCbrjhBj8ipJEh/fisfhjU6ttnn33cL37xC/fGG2/kB4CaCrFcH2HEjdopAgijTpEsYTkIoxIatYUumSgxEaQiksfiI0b6jTTdO/F/JpRUhu2rnHi+hx56yA0cONCddtppTj83cuKJJ0bCaOvWre6iiy7yj+ZUrh7RzZo1ixGjFuzZSpYijBjtvvvufhSylf6RBwJxAgijOA32exBAGPXAUdkPSREkEMlj8ZEfjRANHz685hwgjRj179/fLVmyxPOM57v44oujkaWNGze6cePGRcLI4K9fv96POmkEql4ddi3bzhFAGHWOJSWFTwBhFL6NutZChFHX0AdVcVIEqXF6LCZxMnXqVP8t3UaJNAKkuUKaXH399dc7CRyN/Bx//PH+urQ5RldddZV/zPaHP/zBLVy40I8e2aO0Bx980H++9dZb/SjRjBkz/OTs1157LShWZW0MwqislqVftQggjGpR4ZgngDDiRhCBWsJIq8TmzJnjxUqt1WULFizwq840T2j8+PFu1apVHqby3XbbbTVXpa1du9ZNmDDBKY8memvS9qGHHurWrFnj9ChNc480cVv35SGHHOIWLVqEgXIiUARhtMcee7g///nPORGhmjITQBiV2bpt9g1h1CZAskOgJAQQRiUxJN1oiADCqCFM1bwIYVRNu9NrCCQJFEEYaaRRj25JEGiXAMKoXYIlzo8wKrFx6RoEmiCAMGoCFpcWngDCqPAmzK4DCKPs2FIyBIpEoCjCiPdbFemuCretCKNwbdP1liGMum4CGgCBIAgUQRjtueeevPgziLul+I1AGBXfhpn1AGGUGVoKhkChCCCMCmUuGtsmAYRRmwDLnB1hVGbr0jcINE6gCMJor7328r/N13ivuBICtQkgjGpz4ahz/n0xoYI4++yzffv0Q6IkCEAgWwLyM31R0jup9PLNlStXZlthC6UjjFqARpaaBBBGNbFwUARCHjGaOXOmb98pp5yCsSAAgYwJyM8UDyZNmhSsMProRz/q/vSnP2VMguKrQABhVAUrt9jHkIWRfnNL7RsxYkSLvSMbBCDQKAH5mfxt+vTpCKNGoXFdYQkgjApruuwbHrIw0lC+2qdfWSdBAALZEpCfyd/0MzChPkpjxCjbe6BKpSOMqmTtJvsasjBSVwYPHuyD9V133dVkz7gcAhBolID8S7Fg4MCBXhRJGK1evbrR7Lld97GPfcytX78+t/qoqLwEEEbltW3bPQtdGOmX3dVG/fAoCQIQyIaA/Et+duyxx0bCaN26ddlU1kapCKM24JG1BwGEUQ8cfIgTCF0Y6Vff1Ub9W7ZsWbzp7EMAAh0gIL8yH5s9e3YkjLZs2dKB0jtbhB73vf76650tlNIqSQBhVEmzN9bp0IWRemHfZseOHdtYp7gKAhBomID8SnHg8MMPj0TR4sWLG86f54UIozxpl7suhFG57dtW74ogjDQJu0+fPj54X3nllW31l8wQgMD7BORPigG77rprNOla84uWL1/+/kUB7SGMAjJGwZuCMCq4AbNsfhGEkfp/6aWXRsP98+bNyxIJZUOgEgTkR/J//ZsyZUo0WiRhtGnTpiAZfPzjH3chzn0KEhaNSiWAMErFU+2TRRFGspLeyGuB/MYbb6y24eg9BNogIP8xXzrmmGN6iCLN6ws1IYxCtUzx2oUwKp7NcmtxkYSRJoOOHj06Cuj8VEhutwkVlYiA/fSHfH/UqFE9RNE999zjQpx0bfg/8YlPuNdee80+soVAywQQRi2jK3/GIgkjWWPNmjU9Ro72228/N2vWrPIbih5CoE0C8hP5i40U2W+i6dGZ/ZN/hZwQRiFbp1htQxgVy165trZowkhwnn/+eXfhhRe6QYMGRUF+wIABTr/1pEcEWn68efPmXDlSGQRCIqD7X34gf5BfyD9MEMlv5D8mhmwrvwo9IYxCt1Bx2ocwKo6tcm9pEYWRID377LM+sGvSaFwgWfBn+96kWjjAwe4B+UlykrWJIvlTEdInP/lJt3bt2iI0lTYGTgBhFLiButk8Bc2iJi3jt8B++eWX+0dsw4YNc/379/fLj+0PAlvEQdXuAS2/lx/IH/TITP5hvpLcyo+KkhBGRbFU+O0s7l++8NkWvoVFFkaCr99NWrJkSd2gn/wjwOf355PAotos5DdF+92xT33qU+7VV18tfNylA90ngDDqvg2CbUHRhZGB1aRRBFK1/9Aj9Bqzv/wk9EnW5tfJLcIoSYTPrRJAGLVKrgL5yiKMzFQbN250ejTw+OOPuwceeMBp+TF/MBv7gwmn8nHS/S8/kD/IL+QfRU4IoyJbL6y2I4zCskdQrSmbMAoKLo2BAAQ6SuDTn/60e+WVVzpaJoVVkwDCqJp2b6jXCKOGMHERBCAQAAGEUQBGKEkTEEYlMWQW3UAYZUGVMiEAgSwIfOYzn3Evv/xyFkVTZsUIIIwqZvBmuoswaoYW10IAAt0kgDDqJv1y1Y0wKpc9O9obhFFHcVIYBCCQIQG9m6moK+oyxELRLRBAGLUArSpZEEZVsTT9hEDxCSCMim/DUHqAMArFEgG2A2EUoFFoEgQgUJMAwqgmFg62QABh1AK0qmRBGFXF0vQTAsUn8NnPfta99NJLxe8IPeg6AYRR100QbgMQRuHahpZBAAI9CSCMevLgU+sEEEatsyt9ToRR6U1MByFQGgIDBgxwq1evLk1/6Ej3CCCMusc++JoRRsGbiAZCAAI7CCCMuBU6RQBh1CmSJSwHYVRCo9IlCJSUAMKopIbtQrcQRl2AXpQqEUZFsRTthAAEPve5z7k//vGPgIBA2wQQRm0jLG8BCKPy2paeQaBsBBBGZbNo9/qDMOoe++BrRhgFbyIaCAEI7CDw+c9/3q1atQoeEGibAMKobYTlLQBhVF7b0jMIlI0AwqhsFu1efxBG3WMffM0Io+BNRAMhAIEdBP7qr/6KESPuho4QQBh1BGM5C0EYldOu9AoCZSQgYfTiiy+WsWv0KWcCCKOcgRepOoRRkaxFWyFQbQIIo2rbv5O9Rxh1kmbJykIYlcygdAcCJSYwcOBAt3LlyhL3kK7lRQBhlBfpAtaDMCqg0WgyBCpKAGFUUcNn0G2EUQZQy1IkwqgslqQfECg/gS984QuMGJXfzLn0EGGUC+ZiVoIwKqbdaDUEqkhAwmjFihVV7Dp97jABhFGHgZapOIRRmaxJXyBQbgIIo3LbN8/eIYzypF2wuhBGBTMYzYVAhQnsvffebvny5RUmQNc7RQBh1CmSJSwHYVRCo9IlCJSUAMKopIbtQrcQRl2AXpQqEUZFsRTthAAE/vqv/5oRI26DjhBAGHUEYzkLQRiV0670CgJlJCBh9MILL5Sxa/QpZwIIo5yBF6k6hFGRrEVbIVBtAgijatu/k71HGHWSZsnKQhiVzKB0BwIlJvDFL37RPf/88yXuIV3LiwDCKC/SBawHYVRAo9FkCFSUAMKooobPoNsIowyglqVIhFFZLEk/IFB+An/zN3/DiFH5zZxLDxFGuWAuZiUIo2LajVZDoIoEJIyee+65KnadPneYAMKow0DLVBzCqEzWpC8QKDcBhFG57Ztn7xBGedIuWF0Io4IZjOZCoMIEBg0a5J599tkKE6DrnSKAMOoUyRKWgzAqoVHpEgRKSgBhVFLDdqFbCKMuQC9KlQijoliKdkIAAl/60pfcsmXLAAGBtgkgjNpGWN4CEEbltS09g0DZCCCMymbR7vUHYdQ99sHXjDAK3kQ0EAIQ2EFgn332YcSIu6EjBBBGHcFYzkIQRuW0K72CQBkJSBgtXbq0jF2jTzkTQBjlDLxI1SGMimQt2gqBahNAGFXb/p3sPcKokzRLVhbCqGQGpTsQKDGBv/3bv3XPPPNMiXtI1/IigDDKi3QB60EYFdBoNBkCFSWAMKqo4TPoNsIoA6hlKRJhVBZL0g8IlJ/A4MGDGTEqv5lz6SHCKBfMxawEYVRMu9FqCFSRgITR008/XcWu0+cOE0AYdRhomYpDGJXJmvQFAuUmgDAqt33z7B3CKE/aBasLYVQwg9FcCFSYwJe//GX31FNPVZgAXe8UAYRRp0iWsByEUQmNSpcgUFICCKOSGrYL3UIYdQF6UapEGBXFUrQTAhDYd999GTHiNugIAYRRRzCWsxCEUTntSq8gUEYCEkZPPvlkGbtGn3ImgDDKGXiRqkMYFclatBUC1SaAMKq2/TvZe4RRJ2mWrCyEUckMSncgUGIC++23n3viiSdK3EO6lhcBhFFepAtYD8KogEajyRCoKAGEUUUNn0G3EUYZQC1LkQijsliSfkCg/ASGDBnCiFH5zZxLDxFGuWAuZiUIo2LajfqiWMEAACAASURBVFZDoIoEJIwef/zxKnadPneYQFDC6MEHH3Rnn322O+yww9zee+/tdtttN6c/zvyDQRXvAd3/8gP5g/xC/kEKgwCxiphUxZhUr89li1VBCKMrr7zS7b///gggRCD3QC/3gPxE/kLqDgFiFYKonjjgeM97o8ixqqvCaP78+T0E0YABA9wpp5zibrzxRrds2TK3efPm7kQ/aoVAAAR0/8sP5A/yC/mHBV8FHfkPKR8CxKp8OFNLMQmULVZ1TRjp0YAFea0mmDVrVjHvCFoNgRwJyE/kL+Y78iNStgSIVdnypfRyEihyrOqKMJo4cWIU2KdNm1bOu4JeQSBDAvIbE0fyJ1I2BIhV2XCl1OoQKGKsyl0YTZ48OQroekRAggAEWiMg/zFxJL8idZYAsaqzPCmtugSKFqtyFUaauGiBfN68edW9S+g5BDpEQH5kPsWk7A5Bdc5PcDeuxKrOcaWk6hIoUqzKTRitXLkyWn5PAK+uc9DzzhOwLxx9+vRx8jNSewSIVe3xIzcE6hEoSqzKTRhNmDDBf7MdO3ZsPWYchwAEWiQgv9IIx5gxY1osgWxGgFhlJNhCoPMEihCrchFGS5cujYb7tfyYBAEIdJaA/Moe/dx7772dLbxCpRGrKmRsutoVAkWIVbkIo6lTp/qgrW9iJAhAIBsCNtIxbtw4t2XLlmwqKXmpxKqSG5juBUEg9FiVizAaPHiwF0Z33XVXEEahERAoIwH5l0aNBg4c6DTyQWqeALGqeWbkgECzBEKPVZkLI01kVLDu169fs+y4HgIQaJKA/Ez+NmfOHLdp06Ymc1f7cmJVte1P7/MlEHKsylwYzZ071wfqESNG5Eud2iBQQQLyMwmj6dOnu+XLl1eQQOtdJla1zo6cEGiWQMixKnNhNHPmTB+o9VtPJAhAIFsC8jMJo0mTJrnFixdnW1nJSidWlcygdCdoAiHHqsyFkf3OED/9EfQ9SuNKQsBevz9+/Hi3cOFCJmE3YVdiVROwuBQCbRIIOVZlLox++tOf+m+w2pIgAIFsCZi/HX/88V4YrVu3LtsKS1S6sSNWlciodCVYAuZvIcYqhFGwtw0Ng0DzBJLBZvXq1c0XUtEcxg5hVNEbgG7nSsD8zYRRSLEKYZTrrUBlEMiWQDLY8BMhjfM2dgijxplxJQRaJWD+ZsIopFiFMGrVquSDQIAEQg42AeLq0SRjhzDqgYUPEMiEgPkbwigTvBQKAQgYgZCDjbUx1K2xQxiFaiHaVSYC5m8IozJZlb5AIEACIQebAHH1aJKxQxj1wMIHCGRCwPwNYZQJXgqFAASMQMjBxtoY6tbYIYxCtRDtKhMB8zeEUZmsGkBftm/f7h599FH37W9/2/8+ll7st88++7jJkye7p59+2ul8Vumcc87xr2HQlhQOgZCDTTiUarfE2CGMavPhKAQ6ScD8DWHUSaoVL2vr1q3uqquucn379vUCRaIo/k+/Q3PDDTdkJo4QRmHegCEHmzCJvd8qY4cwep8JexDIioD5G8IoK8IVLHfBggWuf//+fqRo9uzZbvPmzV4EPfvss+6II47wIumrX/2qW7FiRSZ0EEaZYG270JCDTdudy7gAY4cwyhg0xUPAOWf+hjDidugIAYmgk046yYufiy66aKdRoUceecSf//3vf+/efffdqM4333zTXXbZZW7YsGE+rx67/cd//Id7/fXXo2u0o9Gom266yR1yyCH+uoEDB7of/OAH7uWXX46uiwujZ555xo0ZM8aPXqlsjVSpDEtr1651Z511lhdxGuHStQ8//PBO7bbr2bZOIORg03qv8slp7BBG+fCmlmoTMH9DGFX7PuhY7/UirOHDh/sRoyVLljRUrsTJN7/5TS904o/ctH/UUUe5V155xZejeUmXXHJJzetGjx7tVI6SCaORI0dGQsvKlfi58847/XUqV+XbOdtKbOm3vEidJRBysOlsTztfmrFDGHWeLSVCIEnA/A1hlCTD55YILF261A0dOtT/034jSfORJEo0oqNfXddIUvyx23nnnee2bdvmli9f7q+RuNEjOl33xz/+MXo8p5EkJRNGEjjz5s3b6TqdV7r44ot9vfqBTo10qbz58+d7USeH0CgWqXMEQg42netlNiUZO4RRNnwpFQJxAuZvCKM4FfZbJtCsMNq4caMbN26cFyhXXHFFj3rnzp3rj2te0vr1693tt9/e43OPi2MfTBjpkZ4EjyU7rm38kZ+NFMW3BxxwgHvuuecsK9sOEAg52HSge5kWYewQRplipnAIeALmbwgjboiOEJCYkKjQ5OtGHqXpF9ZHjBjhBc99993Xow36LLGi87ruuuuu85+TgqdHptiIkY0M2fm4MIrXGxdEtj9kyBCn+UmkzhEIOdh0rpfZlGTsEEaN8bXYYf4c32ok+Tvf+U6PxR/NfqGzVsTjSDJ+2TX1tvF4VO+aWsc1sv3EE0+4qVOn+pH1WtdwrD0C5m8Io/Y4knsHAT1+0s2kQFRr8rUeh40fP97P89Ek6FZGjA499NBoPlEt8PUCTvz4pk2b3AknnODbee2119YqhmMdJhBysOlwVztenLFDGDWGNk0YmUiKr4wtkjBqta2NkeMqETB/QxhxP3SMgObpaB6QvpnFl+u/8MILbuzYsV6MDB482D355JO+zksvvdQfqzfHyARWfI6RxIyElR6xnXzyyT7/tGnT/FykuACKdyp+XBO5Va6CpB7VqW1vvfVWNLlbDsEcozi99vdDDjbt9y7bEowdwqgxziaMNN9RQsKS/P6xxx6LFmUkH9/bdXls4/GomfoQRs3Qau1a8zeEUWv8yFWDgASLxI7EkX07i291/Prrr4+WxNdbHaY8yVVp9cqVqNIbtZXqBZzkcb1HSd8a423TPqvSahi1A4dCDjYd6F6mRRg7hFFjmOsJI+WOzy/UAgylemJDrwvRa0P0+hDFBsWZq6++2n+JUr56j9IUA5t5rYhvhHN+Acgdd9wRvY5E9Wolrn1Js37FY5ZNLdAXu1/96leR6NOLdPVFVK9IITVHwPwNYdQcN67uhYC+mdX6SZBTTz3VH9f5eJLjJ99jFA8Idq2er99yyy1R4Kg1XyApgCxvreOrVq1yp512mhdDCjZf//rX/VL9ZPusDLatEwg52LTeq3xyGjuEUWO8TUCkjRgpdjz00EO+wFrCSKPReq9ZXITY/gUXXOBHp2sJI8WOZl4rorikpHz6wljrC+XEiRO9OLJ+WTu0lTDS1ACNzseP2/7XvvY19+KLLzYGjqs8AfM3hBE3BAQgkCmBkINNph3vQOHGDmHUGMxaAsKEgrYSRb/+9a/9CI1KrCWMNOKjazVKpMnOEi4azdHCEh3To/1awij+yL+R14qYMLJ3wEnM6Uul6pM401xIiSV7/1qttr722mtO723TFIV7773X55XoGzRokM+7aNGixsBxlSdg/oYw4oaAAAQyJRBysMm04x0o3NghjBqD2ZswkuDR6LDel6aUFBt6b9qZZ57phZHeo1Yv1RJGzb5WxIRRb222diTbGm+bRt5VzowZM6JRdfVVx0iNEzB/Qxg1zowrIQCBFgiEHGxa6E6uWYwdwqgx7CYyko/SlFtiZsqUKV706A+fxERSbMTnIek1IfVSLWHU6mtFLJ+ETK1/P/nJT/xIULKtapvmNGkxieYV1cqLMKpnwdrHzd8QRrX5cBQCEOgQgZCDTYe6mFkxxg5h1BjiNGGkEuy8vSMtKTbiI0YmSGrVXEsY2YhRs68Vufvuu72o6S1fsq1ql94ZZz/crZV2epynSdcShowY1bJc+jHzN4RROifOQgACbRIIOdi02bXMsxs7hFFjqE341BoxeuONN/zLESUYjj76aLdhw4adRoxUS3yOkZb4a+GHLfW3OT+1hFF8jlEzrxWJ59PPJGmV2bJly9yBBx5Yc46RXkKruU/vvPOO/3Fs9UfXaq6SRpBUt03kZsSosfvGrjJ/QxgZEbYQgEAmBEIONpl0uIOFGjuEUWNQTRjVeqxkxyQabrjhBl9grVEYTXz+13/915qPpmyVWC1hpEnTrbxWRPnqrWaz+tRYm6Rt/ZC4e+CBB/zEazumrfr3qU99ihGjxm6ZHleZvyGMemDhAwQg0GkCIQebTve10+UZO4RRY2TThJEEg1ZwaYWZRoGUagkjHdeb+TWR2d5jtP/++/d4r1AtYaR8rb5WpNb7j6ZPn+70PiVLesynFXUaMVJfTjzxRD/qtWDBAj9iJFE0evRo9/DDD0c/lG0vybUy2KYTMH9DGKVz4iwEINAmgZCDTZtdyzy7sUMYZY6aCiDAT4JIXRNs8AQIZE/A/riH+C0s+963V4OxI1a1x5HcEGiEgPlbiLFql0Y60M411nmCTTsUyQuBxgiYv4UYbBrrQfeuMnbEqu7ZgJqrQ8D8LcRYhTCqzn1ITytAIORgEzp+Y4cwCt1StK8MBMzfEEZlsCZ9gEDABEIONgFj800zdgij0C1F+8pAwPwNYVQGa9IHCARMIORgEzA23zRjhzAK3VK0rwwEzN8QRmWwJn2AQMAEQg42AWPzTTN2CKPQLUX7ykDA/A1hVAZr0gcIBEwg5GATMDbfNGOHMArdUrSvDATM3xBGZbAmfYBAwARCDjYBY/NNM3YIo9AtRfvKQMD8DWFUBmvSBwgETCDkYBMwNt80Y4cwCt1StK8MBMzfEEZlsCZ9gEDABEIONgFj800zdgij0C1F+8pAwPwNYVQGa9IHCARMIORgEzA23zRjhzAK3VK0rwwEzN8QRmWwJn2AQMAEQg42AWPzTTN2CKPQLUX7ykDA/A1hVAZr0gcIBEwg5GATMDbfNGOHMArdUrSvDATM3xBGZbBmTn1YunSpGzp0qLvuuutarjGtjPvuu8/px321bSal5Vu9erUbOXKke/DBB11a3c3Up2u3bNnizjjjDHfrrbfWZaI6VbfaUOUUcrAJ3S7GDmEUuqVoXxkImL8hjMpgzZz60ElhUavJaQKn1vV2LC3fVVdd5Y4++mi3YcOGjgqjtWvXupNPPtktXry4rjBSnapbbahyCjnYhG4XY4cwCt1StK8MBMzfEEZlsGYTfdi2bZs788wzI7GgrBoB0kiQhM/27dvd/fff7w488EDXr18/993vftdJBCglhdGqVavc+PHjXd++ff318+bN8/l17SOPPOJGjx7tR4BU1qJFi3YqQ3XdfPPNbsiQIT7/9OnToxGj+DmNImnk5eGHH/ZlxM+p7Hg+f8GO/0yYXHzxxTvVrT6pfUcddZR75ZVX/CiV6vn5z3/uDjnkEN/3n/3sZ+6cc87x+zr22GOPRcUvWbLETZs2zT311FOe3aRJk3x5YnbZZZe5rVu3+mtVtwmzKHPFdkIONqGbwtghjEK3FO0rAwHzN4RRGazZZB/uvPNON3jwYP+H/q233nKnnnqqO+mkk9zmzZsj8TN79mw/ynLCCSe4KVOmOF0XF0YmLCQcdO6OO+5w++67rxcYenR08MEHuyuuuMILhBkzZrhDDz3UrVmzpkcZy5cvd8OGDXPnn3++e/PNN71gs0dpTz75pBs1apR78cUX3bp16/z+xIkT/SOstHxxFBIygwYNcrfffrs/bO2/5pprfJ2q++mnn/bnbNRJolFt+eEPf+hFmjior2rLaaed5t5++21/vcTktddeG/Vn3Lhxbv369V4UmcjUhapbbYiLKl9Ahf4LOdiEbgZjhzAK3VK0rwwEzN8QRmWwZpN9kECRUJFwWblypRs+fHg0b0h/7ON/2PX5oIMOci+99FIkAiQK9Ae/f//+TiMnShs3bnQSBxIPmndTTwyYOFEZc+fO7XGdyjRhpDJfffVVd8MNN7ixY8f6USkTb73lMxx33313j/Ks7q985Su+vFtuucUujUaMTETFOUgwqm6rX6NuGi1S361MG5UygaWtkn1WW6qaQg42odvE2CGMQrcU7SsDAfM3hFEZrNlkH+wPu4yvERGNnGgURkkjQBIn8X8mlEwESNTonx1Xvrh4+MUvftHjXLx5aWWYiND2oYcecgMHDvRCS4/lTjzxxEiYJOuO54vXpeviQsvqtr7ZSJjyJMuI1xHvm/b1iO573/veTmKxVjlWrsqrago52IRuE2OHMArdUrSvDATM3xBGZbBmC33Q4zSb26NHaXocpqSREo0gaSQpmUxY6I98byNG8dGkeDnxMjTyE78uPmKkERgbqbLRKBuxScsXr8tEibZKVve5557rfv3rX/vRKgkwpeS1acLomWee8SvStDLNyjThkywn+dlXVrH/Qg42oZvC2CGMQrcU7SsDAfM3hFEZrNlCH1577TU/oVmjJzfddFNUgub2SDBdf/31/vGYRmp0k2jeTVwE6DHXkUce6UeY6s0x0twhzcnRnB7NaVLZ8TLS5gppJZcex/3hD39wCxcu9KNHJozS8kUdcc5JwKgvElJK8bo1H2jMmDHR/KmkgEkTRirPHp3Fy1QdyXIk9tQGtaWqKeRgE7pNjF0RhJEWRWiBxNVXX+2xJn2jE6zjr99otrws2tNMG+wVH2mxIBk/mim/1WuzsFtRX1Vi/oYwavVuKng+OYNGTuKP0dQlHV+wYIFfJabVZlp1ptVnSsnAsmLFih6r0pRP+ZWSq9LsXLwMXXvbbbdFI1fx1WWa8DxhwgQ/F+i4445zmgRuE7jT8vnKd/yXtipNl8yfPz8aNUoGpDRhdN555zmbMxTvj8pMlsOqNOdCDjbx+yXEfWNXBGGkRRIjRozwX5ayYhl//UazdSR9tdn87V6vmKZXfOhLWb2UjB/1ruvk8SzsZrG3aK8qMX9DGHXyDqOs4AjIMTUpXI/j8k72CLBowaHTnEIONp3ua6fLM3ahCyObh2fz9zS6++ijj/q5hvqSYaJEL0XVazL0Wgt9wVA+pbRXfxhT+2PbyGit1Td58mT/5U+rTTVirXmR8Tb85Cc/8aPh+rJlrw5RH+KvB7GyNP9SX9LU9osuusivuE3LZ+22rb3iQ3M8LcXzJ189onO9vTol3pdGeFpfjMvpp5/u52/WstusWbN6fbVLPWbqXxG/FJq/IYzsDmVbSgLtDL23C6Sow8nt9juZP+Rgk2xraJ+NXejCSNySIw/2RzgujL71rW/511/Y43GdS3v1R9we9V6/oTKU4qMtVreEjATVO++8E4kzfVH605/+FD2i1xeXtNeDWFnxV3LYqtu0fPG2a1/t1BzOeEqbFmD1pr06pVmeVmacS5rd0l7t0lvfNY3AOMX7HPK++RvCKGQr0TYIlIBAyMEmdLzGrizCyISBjabq3WR6MWx8EYadi783THaq9/qNNGGkV5JYMlFQqw2a/1Pv9SCWTyMySnEBps/18lm92tpKYHu9iZ3TfMW4eIgvQFE74yt/9dkWpFibavUljecTTzzhy4xzSRNGaa926a3vxsmmHVifQ96avyGMQrYSbYNACQiEHGxCx2vsyiKMTMTYozc9cku+3iN+zh61yU7Kq0c++oOrZOLAyrQ/xNomz9W6Pl6P8tR7PUiyrHg9aa8V8Y3c8Z9GrewVH/Hjantc/MTLbvTVKSov3pc0nvHHm9aONGFkgk5CIflql976bn0x+1h9IW/N3xBGIVuJtkGgBARCDjah4zV2ZRFGzY5w2JvmZSf7Q6utUlKwxEdbkufi19dqwwUXXBCNxtiIla2CTZYVb4fm0dgoTjKfb+SO/+Kv+IgfT3v1iNrZ26tTavWlkRGjuFhJE0Zqa71Xu/TW9zineJ9D3jd/QxiFbKXA2hYPEPX2m2lyJx2n1bI6MQeJuUTpVg852KS3vPtnjV0RhJFWWx1xxBFOE5o10iAxoNEQ/RG2eKHfJpTP2RwjvSok7dUfcQuovPjrN/Q2fomSqVOn+gnUNsKiWGD1xQWAHavVBs0zqvd6EMtnZcVjTVq+eNvjr/iIH0+bY6Q5PL29OqVWX9J4JvuitqTZTefrvdqlt74X8VUl5m8Io/hdyn7DBGo5WMOZd1wYDzDN5k1e32pZcu52f+TVVsuoLNLOBEIONju3Nqwjxq4IwkirqPQYR6u2vvGNb/i31yeF0Y9//GN3zDHH+Gs04mCPytJe/WEWMT9TPiXVN2fOHP8ILLmiq1Z8smO1VnKlvR7E8tUSRmn5rN3axl/xET+uPtR7ZYnO9fbqlGZ5JvtiHOvZzc7XerVLb32XndqNrXFWeeybvyGM8qBdsDqS7yBatGiR70HcqXrb721pa71AZstItbxWw+j1loMqaNi5ZFnxc8mlt3FTJAOtztXre2/nihgE4iyy3A852GTZ706UbeyKIIzS+huPF2nX9XZOXz669fqN3tqW5/lO8cyqzfZYsWhfFs3fEEZZ3RkFLVfD3AcffLD/gdmtW7e6GTNmRC9WjDtjb/u1lramDRtbefFlpGnLQdPKSssXN0ty+W9a39POqcwiLk2Ns8hyP+Rgk2W/O1G2sUMYvUdTfqh3DOnxdZWTxUsbxQqNRVGnF5i/IYxCu6O63J60P/BxZ+xtv9bS1rSlqVZefBmpUNRbCptWVlq+ON7k8t+0vqedU5n2KK9IS1PjLLLcDznYZNnvTpRt7IoujDrBgjIgkDUB8zeEUdakC1a+voHEl4/Gm2/iRdc0sq+8Jhi0TZYdPxcvz+pMWw6aVlZaPitbW5URX/6bLDN5bT0uus76ojJIPQmEHGx6tjS8T8YOYRSebWhR+QiYvyGMymfbtnqkkZH4y9bihcXFSyP7ymuCQdu0panx8qxOzduptxQ2ray0fFZ2sm36nNb3tHO1yorXU/X9kINN6LYxdgij0C1F+8pAwPwNYVQGa3awDzaX5vzzz/eTn6+55ho3ePBg/8r8uHhpZF/NigujtHlB8fKsO5q4V28JbVpZafmsbG2Ty3/T+p52TmVJOGlprcok9SQQcrDp2dLwPhk7hFF4tqFF5SNg/oYwKp9t2+5RcmWWloxqpVdcvDSyr4bEhZHKqLc0NV6edSBtOWhaWWn5rGxtG1mVZn3X9fW46Byr0uJke+6HHGx6tjS8T8YOYRSebWhR+QiYvyGMymdbetQEgU4s/y3q0tQmMLV1acjBpq2O5ZDZ2CGMcoBNFZUnYP6GMKr8rVBtAJ1Y/lvUpal5WT7kYJMXg1brMXYIo1YJkg8CjRMwf0MYNc6MKyEAgRYIhBxsWuhOrlmMHcIoV+xUVlEC5m8Io4reAHQbAnkRCDnY5MWg1XqMHcKoVYLkg0DjBMzfEEaNM+NKCECgBQIhB5sWupNrFmOHMMoVO5VVlID5G8KoojcA3YZAXgRCDjZ5MWi1HmOHMGqVIPkg0DgB8zeEUePMuBICEGiBQMjBpoXu5JrF2CGMcsVOZRUlYP5WSWF09tln+5+CmDZtWkXNT7chkB8B+Zl+emX8+PFu4cKFbuXKlflVXvCaiFUFNyDNLxSBkGPVLlmTnDlzpg/Up5xyStZVUT4EKk9AfiZhNGnSJIRRk3cDsapJYFwOgTYIhByrMhdG+p0tBeoRI0a0gZCsEIBAIwTkZ/K36dOnI4waARa7hlgVg8EuBDImEHKsylwYaShfgbpfv34ZY6Z4CEBAfiZ/mzNnDsKoyduBWNUkMC6HQBsEQo5VmQsjcdMPoypY33XXXW1gJCsEIJBGQP4lPxs4cKAXRZpjpLeNkxonQKxqnBVXQqBVAqHHqlyE0dSpU33AnjBhQqscyQcBCPRCQP4lYXTsscdGwmjdunW95OJ0nACxKk6DfQhkQyD0WJWLMNKvuStg69+yZcuyIU2pEKgwAfmV+djs2bMjYbRly5YKU2m+68Sq5pmRAwLNEChCrMpFGAmaKcSxY8c2w5BrIQCBBgjIrySMDj/88EgULV68uIGcXJIkQKxKEuEzBDpHoAixKjdhpImNffr08cH7yiuv7BxlSoJAxQnInySKdt1112jSteYXLV++vOJkWus+sao1buSCQG8EihKrchNGAnbppZdGw/3z5s3rjSHnIQCBXgjIj+wR2pQpU6LRIgmjTZs29ZKb0/UIEKvqkeE4BFojUKRYlaswEk69kdcC+Y033tgaYXJBAAJO/mO+dMwxx/QQRZorQ2qPALGqPX7khoARKFqsyl0YaTLo6NGjo4DOT4XYrcMWAo0TsNfpSxiNGjWqhyi65557HJOuG2dZ70piVT0yHIdA4wSKGKtyF0bCuWbNmh4jR/vtt5+bNWtW46S5EgIVJSA/kb/YSJH9Jpoendk/+RepMwSIVZ3hSCnVI1DkWNUVYaRb5Pnnn3cXXnihGzRoUBTkBwwY4PT7KRp205K+zZs3V+9uoscQ2EFA97/8QP4gv5B/mCCS38h/TAzZVn5F6iwBYlVneVJa+QiULVZ1TRjp1nj22Wd9YNek0bhAsuDP9r13P8EBDnYPyE+Sk6xNFMmfSNkQIFbhg+aDbBu7F4ocq7oqjBTCtDTWAvvll1/uH7ENGzbM9e/f3y8/5iZs7CaEU/k4afm9/ED+oEdm8g/zleRWfkTKlgCxqnw+RtzsjE3LFqu6LowUytavX++WLFlSN+gn/wjw+f35JFmxuPXWW/17p7TNqg7Kbd+O8hv5DykfAsSq9u/ZrPz+gx/8oPve975HvIrNN8yKdSvlFilWBSGMLKRpoiMCKYzA861vfcsLI21bcQLyZGtH+QmTrC1y5L8lVmV7fzcbP0499VT/hEELE5rNy/XZ2rKIsSooYWThbePGjf4R2+OPP+4eeOABp+XH3LzZ3rxxvhol0tCohpm1ZdQoP/ZxO9i+7n/5gfxBj3PkH6QwCBCruusb5iMf+9jHfLzafffd3cyZM/l70aVRo7LEqiCFURghr7qtOOOMM9xee+3lA422+kyCAAQgECKBiy66yH384x+PvsgdfPDBITaTNhWIAMKoQMbKo6n6Brzbbrv5IGMTE/WZUYo86FMHBCDQLIFPfOITPeLVHnvs4e6///5mi+F6CEQEEEYRCnZEHy+ATwAAIABJREFU4PTTT3d77rmnDzQf+MAH/FafdZwEAQhAICQCepfXRz/6UR+nNPlaMUuP///f//t/ITWTthSMAMKoYAbLsrkaFVJQkRCyZ/b9+vXzn3WcUaMs6VM2BCDQLIG+ffv6+PS5z33OP/4fOnSo/6xRbs3LI0GgFQIIo1aolTTPhAkT/Eq0Cy64wPdQj9KU9LlPnz5O50kQgAAEQiDw3//93+4jH/mI+6//+i/fnL333tstX77c3Xbbbe7zn/+8+4d/+IcQmkkbCkgAYVRAo+XVZBNGedVHPRCAAARaJfCFL3zBrVixotXs5INARABhFKFgJ0kAYZQkwmcIQCBUAn/1V3/lXnzxxVCbR7sKRABhVCBj5d1UhFHexKkPAhBolYAen61atarV7OSDQEQAYRShYCdJAGGUJMJnCEAgVAIDBgxwq1evDrV5tKtABBBGBTJW3k1FGOVNnPogAIFWCXz2s591L730UqvZyQeBiADCKELBTpIAwihJhM8QgECoBD7zmc+4l19+OdTm0a4CEUAYFchYeTcVYZQ3ceqDAARaJfDpT3/avfLKK61mJx8EIgIIowgFO0kCCKMkET5DAAKhEvjkJz/p1q5dG2rzaFeBCCCMCmSsvJuKMMqbOPVBAAKtEtBvpr322mutZicfBCICCKMIBTtJAgijJBE+QwACoRLQzxe9/vrroTaPdhWIAMKoQMbKu6kIo7yJUx8EINAqAf2+4/r161vNTj4IRAQQRhEKdpIEEEZJInyGAARCJbDXXnu5DRs2hNo82lUgAgijAhkr76YijPImTn0QgECrBPbcc0/3xhtvtJqdfBCICCCMIhTsJAkgjJJE+AwBCIRKYI899nB//vOfQ20e7SoQAYRRgYyVd1MRRnkTpz4IQKBVArvvvrvbtGlTq9nJB4GIAMIoQsFOkgDCKEmEzxCAQKgEPvzhD7vNmzeH2jzaVSACCKMCGSvvpiKM8iZOfRCAQKsEdtttN/fWW2+1mp18EIgIIIwiFOwkCSCMkkT4DAEIhEpg1113dW+//XaozaNdBSKAMCqQsfJuKsIob+LUBwEItErgQx/6kNu6dWur2ckHgYgAwihCwU6SAMIoSYTPEIBAqAQ++MEPum3btoXaPNpVIAIIowIZK++mIozyJk59EIBAqwQ+8IEPuO3bt7eanXwQiAggjCIU7CQJIIySRPgMAQiESoB4FaplitcuhFHxbJZbiwk0uaGmIghAoE0CxKs2AZI9IoAwilCwkyRAoEkS4TMEIBAqAeJVqJYpXrsQRsWzWW4tJtDkhpqKIACBNgkQr9oESPaIAMIoQsFOkgCBJkmEzxCAQKgEiFehWqZ47UIYFc9mubWYQJMbaiqCAATaJEC8ahMg2SMCCKMIBTtJAgSaJBE+QwACoRIgXoVqmeK1C2FUPJvl1mICTW6oqQgCEGiTAPGqTYBkjwggjCIU7CQJEGiSRPgMAQiESoB4FaplitcuhFHxbJZbiwk0uaGmIghAoE0CxKs2AZI9IoAwilCwkyRAoEkS4TMEIBAqAeJVqJYpXrsQRsWzWW4tJtDkhpqKIACBNgkQr9oESPaIAMIoQsFOkgCBJkmEzxCAQKgEiFehWqZ47UIYFc9mubWYQJMbaiqCAATaJEC8ahMg2SMCCKMIBTtJAgSaJBE+QwACoRIgXoVqmeK1C2FUPJvl1mICTW6oqQgCEGiTAPGqTYBkjwggjCIU7CQJEGiSRPgMAQiESoB4FaplitcuhFHxbJZbiwk0uaGmIghAoE0CxKs2AZI9IoAwilCwkyRAoEkS4TMEIBAqAeJVqJYpXrsQRsWzWW4tJtDkhpqKIACBNgkQr9oESPaIAMIoQsFOkgCBJkmEzxCAQKgEiFehWqZ47UIYFc9mubWYQJMbaiqCAATaJEC8ahMg2SMCCKMIBTtJAgSaJBE+QwACoRIgXoVqmeK1C2FUPJvl1mICTW6oqQgCEGiTAPGqTYBkjwggjCIU7CQJEGiSRPgMAQiESoB4FaplitcuhFHxbJZbiwk0uaGmIghAoE0CxKs2AZI9IoAwilCwkyRAoEkS4TMEIBAqAeJVqJYpXrsQRsWzWW4tJtDkhpqKIACBNgkQr9oESPaIAMIoQsFOkgCBJkmEzxCAQKgEiFehWqZ47QpKGD344IPu7LPPdocddpjbe++93W677eZ0s/MPBlW8B3T/yw/kD/IL+QcpHALEK+JSFeNSvT6XKV4FIYyuvPJKt//++yOAEIHcA73cA/IT+QupewSIVwiieuKA4z3vjaLGq64Ko/nz5/cQRAMGDHCnnHKKu/HGG92yZcvc5s2buxf9qBkCXSag+19+IH+QX8g/LPAq4Mh/SPkRIF7lx5qaikegTPGqa8JIjwYsyO+3335u1qxZxbsTaDEEciYgP5G/mO/Ij0jZEyBeZc+YGspHoKjxqivCaOLEiVFgnzZtWvnuBnoEgYwJyG9MHMmfSNkRIF5lx5aSq0GgaPEqd2E0efLkKKDrEQEJAhBojYD8x8SR/IrUeQLEq84zpcRqEihSvMpVGGnSogXyefPmVfPuoNcQ6CAB+ZH5FJOyOwjWOT/J3dgSrzrLltKqSaAo8So3YbRy5cpo+T0BvJpOQa+zIWBfOPr06ePkZ6T2CRCv2mdICRCoRaAI8So3YTRhwgT/zXbs2LG1WHEMAhBog4D8SqMbY8aMaaMUshoB4pWRYAuBzhMIPV7lIoyWLl0aDfdr+TEJAhDoLAH5lT32uffeeztbeMVKI15VzOB0N3cCocerXITR1KlTfdDWtzASBCCQDQEb5Rg3bpzbsmVLNpVUoFTiVQWMTBe7TiDkeJWLMBo8eLAXRnfddVfXjUEDIFBWAvIvjRoNHDjQadSD1BoB4lVr3MgFgWYIhByvMhdGmsSoYN2vX79mmHEtBCDQAgH5mfxtzpw5btOmTS2UUO0sxKtq25/e50sg1HiVuTCaO3euD9QjRozIlzi1QaCCBORnEkbTp093y5cvryCB9rpMvGqPH7kh0AyBUONV5sJo5syZPlDrt55IEIBAtgTkZxJGkyZNcosXL862shKWTrwqoVHpUrAEQo1XmQsj+40hfvoj2HuThpWIgL16f/z48W7hwoVMwm7StsSrJoFxOQTaIBBqvMpcGP30pz/132C1JUEAAtkSMH87/vjjvTBat25dthWWrHTjR7wqmWHpTpAEzN9Ci1cIoyBvFxoFgdYIJAPN6tWrWyuoormMH8KoojcA3c6VgPmbCaNQ4hXCKNfbgMogkC2BZKDhJ0Ka4238EEbNceNqCLRCwPzNhFEo8Qph1Io1yQOBQAmEGmgCxbVTs4wfwmgnNByAQMcJmL8hjDqOlgIhAAEjEGqgsfaFvjV+CKPQLUX7ykDA/A1hVAZr0gcIBEog1EATKK6dmmX8EEY7oeEABDpOwPwNYdRxtBQIAQgYgVADjbUv9K3xQxiFbinaVwYC5m8IozJYkz5AIFACoQaaQHHt1CzjV2VhdM455/hXrOhFoUOHDt3pd/cee+wxN2jQoOgaXd9seuONN9z111/vLrnkkmazNny99aPZ9l133XW+byeddJLbvHlzw/Xpwjz61VSDAr/Y/A1hFLihaB4Eikwg1EBTFKbGD2G0SyR8brrpph7mM+Eg4aR/zQoPFdaqaOnRkF4+tFqH9a8VYdRqnb10pbSnzd8QRqU1MR2DQPcJhBpouk+msRYYP4TR+8LotNNOc2+//bYH+NZbb7lTTz01Ek0hC6PGLL7zVQijnZlkdcT8DWGUFWHKhQAEXKiBpiimMX4Io13ckUce6Q4++GB30EEHuZdeesmbUO+ZGT58uD+u80lhJOH0m9/8xh1yyCH+3MCBA52E1apVq3x+PZrSSIyNNtn2vvvu8+d7y2/30datW51GsuL1/OAHP3Avv/yyXVJzVGr79u3+jfCjRo1yffv2dfp1d/18zrPPPhvlqyeMVqxY4U488USfR/m0r2NKaf1SnQ8//LAbM2aMr1N9/trXvuZuuOEGp35UOZm/IYyqfBfQdwhkTCDUQJNxtztWvPFDGO3i//CfccYZXsTcfvvtnrG2+sMuPhIG2rdHaRIH3//+93cSPbpm2LBh7umnn04VEI3kVyMkNDQ3SeUm/40ePdqtXbvWt7XWY63f/e53kTiJ51X7TBzVEkZqu66J59F+I/1SXs3VSuaVMJs3b17H7t0iFmT+hjAqovVoMwQKQiDUQFMQfNGIG8JoFz+yM3fuXC8kzj33XD+6ceaZZ/rPEkg28mPC6M477/TnNEqkP/jvvvuuW7NmTSSg4nN2aomWRvMvX77cCxIJi9mzZ/t6/vjHP7ojjjjCiw+bE5WsY/369U7CSQLlvPPOcxqd2rhxozvhhBP8sYsuusiLrqQw0mNEjXop3y9/+UvPQSM92tcx/RDqtm3b/C2erFMiTux0ncSc6lQ7xo4d64+pHVVOocYr3nxd5buSvpeOQKiBpiigjR/C6D1h9Pzzz/tHaSNHjnTPPPOM01aP1nQ8LowkDCSaJAC0NaEguy9ZssT179/fHXDAAe65557zt0JSQDST30atJIQkMuqlZB22mi7ejlp5k8JIP8Q8YsQI3zf1L/kv3o5knVa+hNTSpUvdVVdd5caNG+cfx6kcXV/lZP7GiFGV74Idfde3iEcffdR9+9vfdvp2JQfZZ5993OTJk/1ws87nleSsGuattSw3rzbE62G5a5xG8/uhBprme9KdHMYPYfSeMNqwYYMfLZGw+c///E8vcDR6ouNxYRSfYyNhEU+1YkxSQDSTPylc4nXF95N1aB6TYq1EjsROvZQs39qfFET2+dBDD019fHfPPfe4IUOG7CSolB9h9FPPBWFU726syHF9c9C3Bg0Dm2PFt5rUp0l5eYkjc/pQhFEymFXktuhYN+0Pe2iBpmMdzLgg44cwek8YSbCYULA4pUdVcSEjn21mxEcmTPp5M/ltxCguSGrdFsk6bMRIIkWjX/WS9dce/WnOkupS/+++++562fzxZJ0SkEcffbTPK0Gp0TNNEE/Oz0ottMQnzd9Ci1c8Ssv5pluwYIH/1qWRIj0fV4CRCNLEP3tG/tWvfjVa7ZBz87peXTKwdL1BBWtAqIGmKBiNH8LofWFkX54kDOwLVFIYyb6aV6QvfPXmGGmZv+bYKJmf/+hHP4rm7DSaPz7H6Nprr/X59Ujt5JNP9gLE5vxYHdoqxecYTZ8+3cde9UP76pv+OL/55puREDRhpDbbKwokaCSUdJ3NO7L6avVL7PToTuXbvCsJNJvIbW3zDazgf+ZvCKMKGt+6HA8mNtHPzmn7yCOP+OHp3//+935CoY5JNPW21NMCl4LW//3f/7kpU6b4Z9j6ZnTzzTe7TZs2+Yl/Clj6N2PGDO/YKj+eV/uWFAzSlt3quviz9zvuuMNdfvnlfshYwVFLU9WfeGp1uavKiOdVkNl///3dzJkzfXCL11H1/VADTVHsYvwQRu8LI01Q1rwY+Z22+hyPZfbHXWJh4sSJ/jpdG/9nq7fsPrj44ot7nNck70bzKyZeeumlNUfd4/UkhZHqvuWWW6L5PfH2KS4uXLjQNy85YqSDDz30UDTtIZ4vXp+uS/Zrzpw5XnDF82hfjya1NXa+4gr+Z/6GMKqg8a3L9g4QOYWGVBtJjSz1NHEjQfKpT32qR8AZPHiw++Y3v9njmBxSj/OULK99E9QxBb3elt3qurgwMkePBwANP2tVilI7y1019GyjafHyta8ASXqfQKiB5v0Whr1n/BBG7wsjWcz+4GurVEsY6XitL1RnnXVWNAfHZ3bOvxdJ7w9SzNL8yttuu82fajS/VrxJ5MTfY/Sd73ynx0h7LWEkUbVo0SIXf4+RVojpy6fOKdUSRjr++OOP+3ceabqD2n3cccf5Yz7Tjv/0vqdkv/QOJzumL6u/+tWv3P333+/FkVbJpU0gj5ddxn3zN4RRGa3bYJ9qiZC0rHLURpZ6WrkSClOnTvXfvCTCDjzwQC+ItF22bJk/bs+29c1uy5YtNYVRo8tm48JIwkWPAzVXYP78+dE3Ik14bGe5q/hYoNLQtb5VKnjqZW7qr/UjjWOVzoUaaIpiA+NXZWFUFFvRzuITMH9DGBXfli33wARMfHSmkcJ6W+pp5epbjL4NKcW/0cXflaFn8hIU9vzc8lqbmpkEGRdGKtdSfLKihFH8OtWd/NfIcld9Q5TY0w9Pai6Bhr7j/bC6q74NNdAUxS7GD2FUFIvRziITMH9DGBXZim22Xe/w0ES8Zh6lNbLUMylu1My4MNKIiyUbfaknjOrlU/5kPXHBY6/013XJ45YvKYjsc3x1Sa3hb+W3IXPLY1vrh/Wv6ttQA01R7GL8EEZFsRjtLDIB8zeEUZGt2Gbb9RhIN4D+qNeafK3VFnoWrUdZGiVqdKmnCQ8b9VEz6wmc3oRRqyNGacIoPoLU7HLX+GM4zQWwEaif/OQnjBjVuB9DDTQ1mhrkIeOHMArSPDSqZATM3xBGJTNss93R/Bs98tKjoPhy/RdeeCF6TbwmTD/55JP+LbGNLPXspDBSfxpdNpscGTIWyeOaE9TqcleJKpt4rYnWeqT24osvuqOOOgphZMBj21ADTayJQe8aP4RR0GaicSUhYP6GMCqJQVvthkaC6i011UiSRJPm0WjidXyEyR4daWsrwGypZ6eFUaPLZpMCyJjUOt7qcle9bkDvCYn3P86AR2lG/b1tqIGmZyvD/WT8EEbh2oiWlYeA+RvCqDw2bbknEj21fhJEoyo6bstGVUEjSz07LYxUbyPLZmsJIOWtd7zV5a6vv/66X22nZbIaadOSYY2oDR8+3L8oTY8gSe8RCDXQFMU+xg9hVBSL0c4iEzB/QxgV2Yq0HQKBEwg10ASOLWqe8UMYRUjYgUBmBMzfEEaZIaZgCEAg1EBTFMsYP4RRUSxGO4tMwPwNYVRkK9J2CAROINRAEzi2qHnGD2EUIWEHApkRMH9DGGWGmIIhAIFQA01RLGP8EEZFsRjtLDIB8zeEUZGtSNshEDiBUANN4Nii5hk/hFGEhB0IZEbA/A1hlBliCoYABEINNEWxjPFDGBXFYrSzyATM3xBGRbYibYdA4ARCDTSBY4uaZ/wQRhESdiCQGQHzN4RRZogpGAIQCDXQFMUyxg9hVBSL0c4iEzB/QxgV2Yq0HQKBEwg10ASOLWqe8UMYRUjYgUBmBMzfEEaZIaZgCEAg1EBTFMsYP4RRUSxGO4tMwPwNYVRkK9J2CAROINRAEzi2qHnGD2EUIWEHApkRMH9DGGWGmIIhAIFQA01RLGP8EEZFsRjtLDIB8zeEUZGtSNshEDiBUANN4Nii5hk/hFGEhB0IZEbA/A1hlBliCoYABEINNEWxjPFDGBXFYrSzyATM3xBGRbYibYdA4ARCDTSBY4uaZ/wQRhGShnaWLl3qhg4d6q677rqGrq91UVoZ9913n9tll12cts2ktHyrV692I0eOdA8++KBLq7uZ+nTtli1b3BlnnOFuvfXWukxUp+pWG6qczN8QRlW+C+g7BDImEGqgybjbHSve+CGMmkPaSWFRq+Y0gVPrejuWlu+qq65yRx99tNuwYUNHhdHatWvdySef7BYvXlxXGKlO1a02VDmZvyGMqnwX0HcIZEwg1ECTcbc7Vrzxq6Iw2rZtmzvzzDMjsSCoGgHSSJCEz/bt293999/vDjzwQNevXz/33e9+10kEKCWF0apVq9z48eNd3759/fXz5s3z+XXtI4884kaPHu1HgFTWokWLdipDdd18881uyJAhPv/06dOjEaP4OY0iaeTl4Ycf9mXEz6nseD5/wY7/TJhcfPHFO9WtPql9Rx11lHvllVf8KJXq+fnPf+4OOeQQ3/ef/exn7pxzzvH7OvbYY49FxS9ZssRNmzbNPfXUU57dpEmTfHlidtlll7mtW7f6a1W3CbMoc8V2zN8QRhUzPN2FQJ4EQg00eTJopy7jV0VhJG533nmnGzx4sP9D/9Zbb7lTTz3VnXTSSW7z5s2R+Jk9e7YfZTnhhBPclClTnK6LCyMTFhIOOnfHHXe4fffd1wsMPTo6+OCD3RVXXOEFwowZM9yhhx7q1qxZ06OM5cuXu2HDhrnzzz/fvfnmm16w2aO0J5980o0aNcq9+OKLbt26dX5/4sSJ/hFWWr74fSEhM2jQIHf77bf7w9b+a665xtepup9++ml/zkadJBrVlh/+8IdepImD+qq2nHbaae7tt9/210tMXnvttVF/xo0b59avX+9FkYlMXai61Ya4qPIFVOg/8zeEUYWMTlchkDeBUANN3hxarc/4VVUYSaBIqEi4rFy50g0fPjyaN6Q/9vE/7Pp80EEHuZdeeikSARIF+oPfv39/p5ETpY0bNzqJA4kHzbupJwZMnKiMuXPn9rhOZZowUpmvvvqqu+GGG9zYsWP9qJSJt97y2X1x99139yjP6v7KV77iy7vlllvs0mjEyERUnIMEo+q2+jXqptEi9d3KtFEpE1jaKtlntaWqyfwNYVTVO4B+QyAHAqEGmhy63pEqjF9VhZH9YdcfKo2IaOREozBKGgGSOIn/M6FkIkCiRv/suPLFxcMvfvGLHufiRksrw0SEtg899JAbOHCgF1p6LHfiiSdGwiRZdzxfvC5dFxdaVrf1zUbClCdZRryOeN+0r0d03/ve93YSi7XKsXJVXlWT+RvCqKp3AP2GQA4EQg00OXS9I1UYv6oKI0HU4zSb26NHaXocpqSREo0gaSQpmUxY6I98byNG8dGkeDnxMjTyE78uPmKkERgbqbLRKBuxScsXr8tEibZKVve5557rfv3rX/vRKgkwpeS1acLomWee8SvStDLNyjThkywn+dlXVrH/zN8QRhUzfFm724mlrixZ7fzdEWqg6XxPsynR+FVZGL322mt+QrNGT2666aYItOb2SDBdf/31/vGYRmr0B03zbuIiQI+5jjzySD/CVG+OkeYOaU6O5vRoTpPKjpeRNldIK7n0OO4Pf/iDW7hwoR89MmGUli/qiHNOAkZ9kZBSitet+UBjxoyJ5k8lBUyaMFJ59ugsXqbqSJYjsac2qC1VTeZvCKOq3gEl63cnlrraypCqL1nt5K0RaqDpZB+zLMv4VVkYaWWXRk7ij9HEXMcXLFjgV4lptZlWnWn1mVJSBKxYsaLHqjTlU36l5Ko0OxcvQ9fedttt0chVfHWZJjxPmDDBzwU67rjjnCaB2wTutHy+8h3/WeypJ2Lmz58fjRolBU2aMDrvvPOczRmK90fVJstR3axK+6l/pIkwit+d7DdMIBlMbImrAoEta9U3vPjSVXPMyZMn+yCnVRX6lmbX//3f/32P5axpZcUbmhZUbEWKLXWNl5msT2USHOJk29+3P+yhBZr2e5ZPCcavysIoH9Ldr0VfyDQpXI/j8k72CLDqXwrN30KLV7tkfUNYxwk0rZNOW+KatnTVhJG+VUnMvPPOO34iZSvLYOOtb2apa29D2xpOrrdKJV4n+40RMH8LLdA01vruX2X8iFfdt0XWLYhPB8i6rmT5TCN4j4j5W2jxCmGUvGMD/NybeKi3dNWEkZbeWuptcmK9siy/ts0sde2tPhtetuHneD3sN08g1EDTfE+6k8P4IYy6w59aq0XA/A1hVC27d6S38WfayQLTlq6aMLJVEcqbLMuEibZpZcXrVRmNLnVNq09lWv3xNsbrYr85AqEGmuZ60b2rjR/CqHs2oObqEDB/QxhVx+Yd66lGjOJLV+MFa45OvaWrtYRR2ghOWlnxOk3MaKtk9dRa6ppWn/Imy4rXw37zBEINNM33pDs5jB/CqDv8qbVaBMzfEEbVsntHemtzjGotcdXkvXpLV02wxEdj4nN+/vSnPzm9St9Gf9LKinekmaWuafWpTJasxsm2vx9qoGm/Z/mUYPwQRs3xjseaevvNlNjJL0ytltWJOUjMJUq3uvkbwiidE2frEEiuSrMlrmlLV+MByorVKrHf/va3bp999tnpxxnTyrL82qatStP5+FLXtPp0LavS4mTb3w810LTfs3xKMH4Io9Z514o7zZbWqpipVU+rZemLYrvL6S1WVn31WS276Jj5G8KoHiGO50LARnv0K8/vvvuuf8trvbfZpjVIjt7IUte0+liymka4tXOhBprWepN/LuOHMKrNPvkFzV4bEhdDve3rp0W0Ula/Nn/RRRf5H5ONv9bjwAMP7PEaESuv3mtHkq8pSSsrfi6ZL95jEzT64mapXt91Pu0cX/6M4M5b8zeE0c5sOJIjga1bt/ofiNSIkQKDlu7rvUYKGM2kRoeZ0+pjmLkZ4o1dG2qgaaz13b/K+CGMdraFPdLXKlf59YwZM6IXK5p40WP73vbjvzZvr+qIP3LXm7T1zjV7xG/lxV87kvaakrSy0vLFe5x8JUla39POqczeVhXH663avvkbwqhqlqe/EMiRQKiBJkcEbVVl/BBGO2NM+wNv4qURYaS3QyvFH3FpkYaJJJ1TXUlhFH/tiK6p92qRtLLS8umcpeQrSdL6nnZO5Vk/eSWJ0X1/a/6GMHqfCXsQgECHCYQaaDrczcyKM34Io50RS/QMHTrUjwglzzYjjGwxiAkGbZNlx8/Fy7Z6014tklZWWj4rW1uVYcLMPtfre7K+eDnat77oOlJPAuZvCKOeXPgEAQh0kECogaaDXcy0KOOHMNoZs0ZG6r02JC5eGtlX6SYYtE17rUe8PGtV2qtF0spKy2dlJ9umz2l9TztXq6x4PVXfN39DGFX9TqD/EMiQQKiBJsMud7Ro44cw2hmrzaWp9dqQuHhpZF+lx4VR2rygeHnWqrRXi6SVlZbPytbWFo1IZCml9T3tnPJKOA0ZMsSX6Qvjv4iA+RvCKELCDgQg0GkCoQaaTvczq/KMH8KoNuHk6it7bUhcvDSyr9LjwkiLP2677TYvIOqtSos/ikp7tUhaWWn54j1uZFWa9V0XsiVIAAAGdElEQVT56nHROValxcn23Dd/Qxj15MInCECggwRCDTQd7GKmRRk/hFGmmAtReKOvJEnrDK8kSaPDe4z8i5zSEXEWAhBol4D9YQ/tG1i7/corv/FDGOVFPNx69Ihs5MiRTq8VaTXxSpJ0cuZvocWrXdKb3f5Z6ziBpn2WlACB3giYv4UWaHprdyjnjR/xKhSL0I4yEzB/Cy1eIYzKfNfRt8oRCDXQFMUQxg9hVBSL0c4iEzB/QxgV2Yq0HQKBEwg10ASOLWqe8UMYRUjYgUBmBMzfEEaZIaZgCEAg1EBTFMsYP4RRUSxGO4tMwPwNYVRkK9J2CAROINRAEzi2qHnGD2EUIWEHApkRMH+rnDA6++yz/avVp02blhlcCoYABN4jID/TTxmMHz/eLVy40K1cuRI0TRAgXjUBi0sh0CaBUONV5pOvZ86c6QP1Kaec0iZCskMAAr0RkJ9JGE2aNAlh1BusGueJVzWgcAgCGREINV5lLoz0SnUF6hEjRmSElmIhAAEjID+Tv02fPh1hZFCa2BKvmoDFpRBok0Co8SpzYaShfAXqfv36tYmQ7BCAQG8E5Gfytzlz5iCMeoNV4zzxqgYUDkEgIwKhxqvMhZF4Dh482Afru+66KyO8FAsBCMi/JIoGDhzoRZHmGOntvaTmCBCvmuPF1RBohUDI8SoXYTR16lQfsCdMmNAKP/JAAAINEJB/SRgde+yxkTBat25dAzm5JE6AeBWnwT4EsiEQcrzKRRjp15YVsPVv2bJl2VCmVAhUmID8ynxs9uzZkTDasmVLham01nXiVWvcyAWBRgmEHq9yEUaCZepw7NixjbLjOghAoEEC8isJo8MPPzwSRYsXL24wN5clCRCvkkT4DIHOEQg9XuUmjDSpsU+fPj54X3nllZ0jTEkQqDgB+ZNE0a677hpNutb8ouXLl1ecTOvdJ161zo6cEEgjUIR4lZswEqhLL700Gu6fN29eGjvOQQACDRCQH9kjtClTpkSjRRJGmzZtaqAELqlHgHhVjwzHIdAagaLEq1yFkVDqjbwWyG+88cbW6JILAhBw8h/zpWOOOaaHKNI8GVL7BIhX7TOkBAiIQJHiVe7CSJNBR48eHQV0fioEp4FA8wTsVfoSRqNGjeohiu655x7HpOvmmdbKQbyqRYVjEGiOQNHiVe7CSDjXrFnTY+Rov/32c7NmzWqONFdDoIIE5CfyFxspst9E06Mz+yf/InWOAPGqcywpqVoEihqvuiKMdGs8//zz7sILL3SDBg2KgvyAAQOcfjtFQ25azrd58+Zq3UX0FgIxArr/5QfyB/mF/MMEkfxG/mNiyLbyK1LnCRCvOs+UEstFoEzxqmvCSLfEs88+6wO7Jo3GBZIFf7bvvfsJDnCwe0B+kpxkbaJI/kTKjgDxCj80P2Tb2L1Q1HjVVWGkEKZlsRbYL7/8cv+IbdiwYa5///5++TE3YGM3IJzKx0nL7+UH8gc9MpN/mK8kt/IjUvYEiFfl8zNiZ2dsWqZ41XVhpFC2fv16t2TJkrpBP/lHgM/vzyeBRbVZyG/kP6T8CBCvqu1zxNzW7V+UeBWEMLKQpkmOCKTWbzoctjrs5CdMsrbI0Z0t8ao6/kZsbc/WRYtXQQkjC28bN270j9gef/xx98ADDzgtP+bGbO/GhF9x+en+lx/IH/QoR/5BCocA8aq4vkVc7LztyhCvghRG4YQ8WgIBCEAAAhCAQJUIIIyqZG36CgEIQAACEIBAKgGEUSoeTkIAAhCAAAQgUCUCCKMqWZu+QgACEIAABCCQSgBhlIqHkxCAAAQgAAEIVIkAwqhK1qavEIAABCAAAQikEkAYpeLhJAQgAAEIQAACVSKAMKqStekrBCAAAQhAAAKpBBBGqXg4CQEIQAACEIBAlQggjKpkbfoKAQhAAAIQgEAqAYRRKh5OQgACEIAABCBQJQIIoypZm75CAAIQgAAEIJBKAGGUioeTEIAABCAAAQhUiQDCqErWpq8QgAAEIAABCKQSQBil4uEkBCAAAQhAAAJVIoAwqpK16SsEIAABCEAAAqkEEEapeDgJAQhAAAIQgECVCCCMqmRt+goBCEAAAhCAQCoBhFEqHk5CAAIQgAAEIFAlAgijKlmbvkIAAhCAAAQgkEoAYZSKh5MQgAAEIAABCFSJAMKoStamrxCAAAQgAAEIpBJAGKXi4SQEIAABCEAAAlUi8P8BfFoN6uE8QQgAAAAASUVORK5CYII=)"
      ]
    },
    {
      "cell_type": "markdown",
      "metadata": {
        "id": "24SGw4X1xJ8D",
        "colab_type": "text"
      },
      "source": [
        "* Crea al menos un objeto de cada subclase y añádelos a una lista llamada vehiculos.\n",
        "* Realiza una función llamada **catalogar()** que reciba la lista de vehiculos y los recorra mostrando el nombre de su clase y sus atributos.\n",
        "* Modifica la función **catalogar()** para que reciba un argumento optativo **ruedas**, haciendo que muestre únicamente los que su número de ruedas concuerde con el valor del argumento. También debe mostrar un mensaje **\"Se han encontrado {} vehículos con {} ruedas:\"** únicamente si se envía el argumento ruedas. Ponla a prueba con 0, 2 y 4 ruedas como valor.\n",
        "\n",
        "*Recordatorio: Puedes utilizar el atributo especial de clase name para recuperar el nombre de la clase de un objeto:*\n",
        "```\n",
        "type(objeto).__name__\n",
        "```\n",
        "**Solución**"
      ]
    },
    {
      "cell_type": "code",
      "metadata": {
        "id": "xNjEp4bSxpOc",
        "colab_type": "code",
        "colab": {}
      },
      "source": [
        ""
      ],
      "execution_count": null,
      "outputs": []
    },
    {
      "cell_type": "markdown",
      "metadata": {
        "id": "9HkWKPeaav3U",
        "colab_type": "text"
      },
      "source": [
        "#Módulo 8: Programación Funcional\n",
        "\n"
      ]
    },
    {
      "cell_type": "markdown",
      "metadata": {
        "id": "YR5PWCGBb1Q6",
        "colab_type": "text"
      },
      "source": [
        "##*List comprehensions*\n",
        "El poder de Python va mucho más allá de lo que a primera vista podemos imaginar.\n",
        "\n",
        "La comprensión de listas, del inglés list comprehensions, es una funcionalidad que nos permite crear listas avanzadas en una misma línea de código. Esto se ve mucho mejor en la práctica, así que a lo largo de esta lección vamos a trabajar distintos ejemplos."
      ]
    },
    {
      "cell_type": "markdown",
      "metadata": {
        "id": "ybpFgaxYbcMc",
        "colab_type": "text"
      },
      "source": [
        "### Ejemplo 1\n",
        "Crear una lista con las letras de una palabra:"
      ]
    },
    {
      "cell_type": "code",
      "metadata": {
        "id": "okKnFRRKbhE8",
        "colab_type": "code",
        "colab": {}
      },
      "source": [
        "# Método tradicional\n",
        "lista = []\n",
        "for letra in 'casa':\n",
        "    lista.append(letra)\n",
        "print(lista)"
      ],
      "execution_count": null,
      "outputs": []
    },
    {
      "cell_type": "code",
      "metadata": {
        "id": "jU4r-yoIbhup",
        "colab_type": "code",
        "colab": {}
      },
      "source": [
        "# Con comprensión de listas\n",
        "lista = [letra for letra in 'casa']\n",
        "print(lista)"
      ],
      "execution_count": null,
      "outputs": []
    },
    {
      "cell_type": "markdown",
      "metadata": {
        "id": "H2Y6x1lJbsAO",
        "colab_type": "text"
      },
      "source": [
        "Como vemos, gracias a la comprensión de listas podemos indicar directamente cada elemento que va a formar la lista, en este caso la letra, a la vez que definimos el for:"
      ]
    },
    {
      "cell_type": "markdown",
      "metadata": {
        "id": "VONptMFlbtGR",
        "colab_type": "text"
      },
      "source": [
        "###Ejemplo 2\n",
        "Crear una lista con las potencias de 2 de los primeros 10 números:"
      ]
    },
    {
      "cell_type": "code",
      "metadata": {
        "id": "fwgkwboZb9Su",
        "colab_type": "code",
        "colab": {}
      },
      "source": [
        "# Método tradicional\n",
        "lista = []\n",
        "for numero in range(0,11):\n",
        "    lista.append(numero**2)\n",
        "print(lista)"
      ],
      "execution_count": null,
      "outputs": []
    },
    {
      "cell_type": "code",
      "metadata": {
        "id": "QF72ERl0b_Pv",
        "colab_type": "code",
        "colab": {}
      },
      "source": [
        "# Con comprensión de listas\n",
        "lista = [numero**2 for numero in  range(0,11)]\n",
        "print(lista)"
      ],
      "execution_count": null,
      "outputs": []
    },
    {
      "cell_type": "markdown",
      "metadata": {
        "id": "dxUG28ffcCiq",
        "colab_type": "text"
      },
      "source": [
        "De este ejemplo podemos aprender que es posible modificar al vuelo los elementos que van a formar la lista."
      ]
    },
    {
      "cell_type": "markdown",
      "metadata": {
        "id": "2APUOtrrcDiU",
        "colab_type": "text"
      },
      "source": [
        "###Ejemplo 3\n",
        "Crear una lista con los todos los múltiples de 2 entre 0 y 10:"
      ]
    },
    {
      "cell_type": "code",
      "metadata": {
        "id": "cXIaSaRmcGnK",
        "colab_type": "code",
        "colab": {}
      },
      "source": [
        "# Método tradicional\n",
        "lista = []\n",
        "for numero in range(0,11):\n",
        "    lista.append(numero**2)\n",
        "print(lista)"
      ],
      "execution_count": null,
      "outputs": []
    },
    {
      "cell_type": "code",
      "metadata": {
        "id": "kUda0nc8cHzu",
        "colab_type": "code",
        "colab": {}
      },
      "source": [
        "# Método tradicional\n",
        "lista = []\n",
        "for numero in range(0,11):\n",
        "    if numero % 2 == 0:\n",
        "        lista.append(numero)\n",
        "print(lista)"
      ],
      "execution_count": null,
      "outputs": []
    },
    {
      "cell_type": "code",
      "metadata": {
        "id": "e6Fbn0F9cLqR",
        "colab_type": "code",
        "colab": {}
      },
      "source": [
        "# Añadir los números del 0 al 10 cuando su módulo de 2 sea 0\n",
        "[numero for numero in range(0,11) if numero % 2 == 0 ] "
      ],
      "execution_count": null,
      "outputs": []
    },
    {
      "cell_type": "markdown",
      "metadata": {
        "id": "LTjFHKL5cOiB",
        "colab_type": "text"
      },
      "source": [
        "En este caso podemos observar que incluso podemos marcar una condición justo al final para añadir o no el elemento en la lista."
      ]
    },
    {
      "cell_type": "markdown",
      "metadata": {
        "id": "2ArtRz0dcQZZ",
        "colab_type": "text"
      },
      "source": [
        "###Ejemplo 4\n",
        "Crear una lista de pares a partir de otra lista creada con las potencias de 2 de los primeros 10 números:"
      ]
    },
    {
      "cell_type": "code",
      "metadata": {
        "id": "TudF9RfkcXa8",
        "colab_type": "code",
        "colab": {}
      },
      "source": [
        "# Método tradicional\n",
        "lista = []\n",
        "for numero in range(0,11):\n",
        "    lista.append(numero**2)\n",
        "\n",
        "pares = []   \n",
        "for numero in lista:\n",
        "    if numero % 2 == 0:\n",
        "        pares.append(numero)\n",
        "\n",
        "print(pares)"
      ],
      "execution_count": null,
      "outputs": []
    },
    {
      "cell_type": "code",
      "metadata": {
        "id": "kqQXu0_VcX0J",
        "colab_type": "code",
        "colab": {}
      },
      "source": [
        "# Con comprensión de listas\n",
        "lista = [numero for numero in \n",
        "            [numero**2 for numero in range(0,11)] \n",
        "                if numero % 2 == 0 ]\n",
        "print(lista)"
      ],
      "execution_count": null,
      "outputs": []
    },
    {
      "cell_type": "markdown",
      "metadata": {
        "id": "ruaaSTxEcZhr",
        "colab_type": "text"
      },
      "source": [
        "Crear listas a partir de listas anidadas nos permite llevar la comprensión de listas al siguiente nivel y además no hay un límite."
      ]
    },
    {
      "cell_type": "markdown",
      "metadata": {
        "id": "VrCBp2_xccld",
        "colab_type": "text"
      },
      "source": [
        "## Funciones Lambda\n",
        "Esta es una de las funcionalidades más potentes de Python a la vez que más confusas para los principiantes.\n",
        "\n",
        "Una función anónima, como su nombre indica es una función sin nombre. ¿Es posible ejecutar una función sin referenciar un nombre? Pues sí, en Python podemos ejecutar una función sin definirla con def. De hecho son similares pero con una diferencia fundamental:\n",
        "```\n",
        "El contenido de una función lambda debe ser una única expresión en lugar de un bloque de acciones.\n",
        "```\n",
        "Y es que más allá del sentido de función que tenemos, con su nombre y sus acciones internas, una función en su sentido más trivial significa realizar algo sobre algo. Por tanto podríamos decir que, mientras las funciones anónimas lambda sirven para realizar funciones simples, las funciones definidas con def sirven para manejar tareas más extensas.\n",
        "\n",
        "Si deconstruimos una función sencilla, podemos llegar a una función lambda. Por ejemplo tomar la siguiente función para doblar un valor:"
      ]
    },
    {
      "cell_type": "code",
      "metadata": {
        "id": "W3IkIW9edQa6",
        "colab_type": "code",
        "colab": {}
      },
      "source": [
        "def doblar(num):\n",
        "    resultado = num*2\n",
        "    return resultado\n",
        "\n",
        "doblar(2)"
      ],
      "execution_count": null,
      "outputs": []
    },
    {
      "cell_type": "markdown",
      "metadata": {
        "id": "x194R_63dQ7K",
        "colab_type": "text"
      },
      "source": [
        "Vamos a simplificar el código un poco:"
      ]
    },
    {
      "cell_type": "code",
      "metadata": {
        "id": "jm-3vzDfdSX2",
        "colab_type": "code",
        "colab": {}
      },
      "source": [
        "def doblar(num):\n",
        "    return num*2\n",
        "\n",
        "#Todavía más, podemos escribirlo todo en una sola línea:\n",
        "def doblar(num): return num*2"
      ],
      "execution_count": null,
      "outputs": []
    },
    {
      "cell_type": "markdown",
      "metadata": {
        "id": "r_0X-qqFdbj_",
        "colab_type": "text"
      },
      "source": [
        "Esta notación simple es la que una función lambda intenta replicar, fijaros, vamos a convertir la función en una función anónima:"
      ]
    },
    {
      "cell_type": "code",
      "metadata": {
        "id": "whHPxQSVdc0n",
        "colab_type": "code",
        "colab": {}
      },
      "source": [
        "lambda num: num*2"
      ],
      "execution_count": null,
      "outputs": []
    },
    {
      "cell_type": "markdown",
      "metadata": {
        "id": "IFeZYOTVdguD",
        "colab_type": "text"
      },
      "source": [
        "Aquí tenemos una función anónima con una entrada que recibe **num**, y una salida que devuelve **num * 2**.\n",
        "\n",
        "Lo único que necesitamos hacer para utilizarla es guardarla en una variable y utilizarla tal como haríamos con una función normal:"
      ]
    },
    {
      "cell_type": "code",
      "metadata": {
        "id": "q81pzCMVdo6i",
        "colab_type": "code",
        "colab": {}
      },
      "source": [
        "doblar = lambda num: num*2\n",
        "doblar(2)"
      ],
      "execution_count": null,
      "outputs": []
    },
    {
      "cell_type": "markdown",
      "metadata": {
        "id": "VFWjnNb_duUB",
        "colab_type": "text"
      },
      "source": [
        "Gracias a la flexibilidad de Python podemos implementar infinitas funciones simples.\n",
        "\n",
        "Por ejemplo comprobar si un número es impar:"
      ]
    },
    {
      "cell_type": "code",
      "metadata": {
        "id": "x8jnPfsNdwX7",
        "colab_type": "code",
        "colab": {}
      },
      "source": [
        "impar = lambda num: num%2 != 0\n",
        "impar(5)"
      ],
      "execution_count": null,
      "outputs": []
    },
    {
      "cell_type": "markdown",
      "metadata": {
        "id": "UvaXtO7gdzwY",
        "colab_type": "text"
      },
      "source": [
        "Darle la vuelta a una cadena utilizando slicing:"
      ]
    },
    {
      "cell_type": "code",
      "metadata": {
        "id": "TRzRCkyRd9X9",
        "colab_type": "code",
        "colab": {}
      },
      "source": [
        "revertir = lambda cadena: cadena[::-1]\n",
        "revertir(\"Hola\")"
      ],
      "execution_count": null,
      "outputs": []
    },
    {
      "cell_type": "markdown",
      "metadata": {
        "id": "3E2FXAWEd4Je",
        "colab_type": "text"
      },
      "source": [
        "Incluso podemos enviar varios valores, por ejemplo para sumar dos números:"
      ]
    },
    {
      "cell_type": "code",
      "metadata": {
        "id": "o-1duoxBeCEc",
        "colab_type": "code",
        "colab": {}
      },
      "source": [
        "sumar = lambda x,y: x+y\n",
        "sumar(5,2)"
      ],
      "execution_count": null,
      "outputs": []
    },
    {
      "cell_type": "markdown",
      "metadata": {
        "id": "gKC2srcUeFVI",
        "colab_type": "text"
      },
      "source": [
        "Como pueden ver podemos realizar cualquier cosa que se nos ocurra, siempre que lo podamos definir en una sola expresión.\n",
        "\n",
        "A continuación veremos como explotar al máximo la función lambda utilizándola en conjunto con otras funciones como filter() y map()."
      ]
    },
    {
      "cell_type": "markdown",
      "metadata": {
        "id": "NyfiosIGeUGO",
        "colab_type": "text"
      },
      "source": [
        "### Función filter()\n",
        "Tal como su nombre indica filter significa filtrar, y es una de mis funciones favoritas, ya que a partir de una lista o iterador y una función condicional, es capaz de devolver una nueva colección con los elementos filtrados que cumplan la condición.\n",
        "\n",
        "Por ejemplo, supongamos que tenemos una lista varios números y queremos filtrarla, quedándonos únicamente con los múltiples de 5..."
      ]
    },
    {
      "cell_type": "code",
      "metadata": {
        "id": "x6aQTZyieakg",
        "colab_type": "code",
        "colab": {}
      },
      "source": [
        "def multiple(numero):    # Primero declaramos una función condicional\n",
        "    if numero % 5 == 0:  # Comprobamos si un numero es múltiple de cinco\n",
        "        return True      # Sólo devolvemos True si lo es\n",
        "\n",
        "numeros = [2, 5, 10, 23, 50, 33]\n",
        "\n",
        "filter(multiple, numeros)"
      ],
      "execution_count": null,
      "outputs": []
    },
    {
      "cell_type": "markdown",
      "metadata": {
        "id": "XglwAFQIecB0",
        "colab_type": "text"
      },
      "source": [
        "Si ejecutamos el filtro obtenemos un objeto de tipo filtro, pero podemos transformarlo en una lista fácilmente haciendo un cast (conversión):"
      ]
    },
    {
      "cell_type": "code",
      "metadata": {
        "id": "YqvMy5_Ledol",
        "colab_type": "code",
        "colab": {}
      },
      "source": [
        "list( filter(multiple, numeros) )"
      ],
      "execution_count": null,
      "outputs": []
    },
    {
      "cell_type": "markdown",
      "metadata": {
        "id": "G-i7FLQgeiET",
        "colab_type": "text"
      },
      "source": [
        "Por tanto cuando utilizamos la función filter() tenemos que enviar una función condicional, pero como recordaréis, no es necesario definirla, podemos utlizar una función anónima lambda:"
      ]
    },
    {
      "cell_type": "code",
      "metadata": {
        "id": "5fVmEUVxel9Z",
        "colab_type": "code",
        "colab": {}
      },
      "source": [
        "list( filter(lambda numero: numero%5 == 0, numeros) )"
      ],
      "execution_count": null,
      "outputs": []
    },
    {
      "cell_type": "markdown",
      "metadata": {
        "id": "C3DpzsObepR5",
        "colab_type": "text"
      },
      "source": [
        "Así, en una sola línea hemos definido y ejecutado el filtro utilizando una función condicional anónima y una lista de numeros.\n",
        "#### Filtrando objetos\n",
        "Sin embargo, más allá de filtrar listas con valores simples, el verdadero potencial de filter() sale a relucir cuando necesitamos filtrar varios objetos de una lista.\n",
        "\n",
        "Por ejemplo, dada una lista con varias personas, nos gustaría filtrar únicamente las que son menores de edad:"
      ]
    },
    {
      "cell_type": "code",
      "metadata": {
        "id": "5oycX-ISe2Y0",
        "colab_type": "code",
        "colab": {}
      },
      "source": [
        "class Persona:\n",
        "\n",
        "    def __init__(self, nombre, edad):\n",
        "        self.nombre = nombre\n",
        "        self.edad = edad\n",
        "\n",
        "    def __str__(self):\n",
        "        return \"{} de {} años\".format(self.nombre, self.edad)\n",
        "\n",
        "\n",
        "personas = [\n",
        "    Persona(\"Juan\", 35),\n",
        "    Persona(\"Marta\", 16),\n",
        "    Persona(\"Manuel\", 78),\n",
        "    Persona(\"Eduardo\", 12)\n",
        "]"
      ],
      "execution_count": null,
      "outputs": []
    },
    {
      "cell_type": "markdown",
      "metadata": {
        "id": "zWYWDC9Ue4bd",
        "colab_type": "text"
      },
      "source": [
        "Para hacerlo nos vamos a servir de una función lambda, comprobando el campo edad para cada persona:"
      ]
    },
    {
      "cell_type": "code",
      "metadata": {
        "id": "qQBkVqefe7l5",
        "colab_type": "code",
        "colab": {}
      },
      "source": [
        "menores = filter(lambda persona: persona.edad < 18, personas)\n",
        "\n",
        "for menor in menores:\n",
        "    print(menor)"
      ],
      "execution_count": null,
      "outputs": []
    },
    {
      "cell_type": "markdown",
      "metadata": {
        "id": "tmRS35ace9E6",
        "colab_type": "text"
      },
      "source": [
        "Sé que es un ejemplo sencillo, pero estoy seguro que os puede servir como base para realizar filtrados en muchos de vuestros proyectos."
      ]
    },
    {
      "cell_type": "markdown",
      "metadata": {
        "id": "hAv9W3m4e_f6",
        "colab_type": "text"
      },
      "source": [
        "###Función ```map()```\n",
        "Esta función trabaja de una forma muy similar a filter(), con la diferencia que en lugar de aplicar una condición a un elemento de una lista o secuencia, aplica una función sobre todos los elementos y como resultado se devuelve un iterable de tipo map:"
      ]
    },
    {
      "cell_type": "code",
      "metadata": {
        "id": "zsDOdriOfM4V",
        "colab_type": "code",
        "colab": {}
      },
      "source": [
        "def doblar(numero):\n",
        "    return numero*2\n",
        "\n",
        "numeros = [2, 5, 10, 23, 50, 33]\n",
        "\n",
        "map(doblar, numeros)"
      ],
      "execution_count": null,
      "outputs": []
    },
    {
      "cell_type": "markdown",
      "metadata": {
        "id": "wP0XrRFEfPQ7",
        "colab_type": "text"
      },
      "source": [
        "Fácilmente podemos transformar este iterable en una lista:"
      ]
    },
    {
      "cell_type": "code",
      "metadata": {
        "id": "bt7L6xAkfXJo",
        "colab_type": "code",
        "colab": {}
      },
      "source": [
        "list(map(doblar, numeros))"
      ],
      "execution_count": null,
      "outputs": []
    },
    {
      "cell_type": "markdown",
      "metadata": {
        "id": "9vCNhVrmfbrT",
        "colab_type": "text"
      },
      "source": [
        "Y podemos simplificarlo con una función lambda para substituir la llamada de una función definida:"
      ]
    },
    {
      "cell_type": "code",
      "metadata": {
        "id": "Ag7g_o68fdI0",
        "colab_type": "code",
        "colab": {}
      },
      "source": [
        "list( map(lambda x: x*2, numeros) )"
      ],
      "execution_count": null,
      "outputs": []
    },
    {
      "cell_type": "markdown",
      "metadata": {
        "id": "qe8Vqcnzfgve",
        "colab_type": "text"
      },
      "source": [
        "La función ```map()``` se utiliza mucho junto a expresiones lambda ya que permite ahorrarnos el esfuerzo de crear bucles for.\n",
        "\n",
        "Además se puede utilizar sobre más de un iterable con la condición que tengan la misma longitud.\n",
        "\n",
        "Por ejemplo si queremos multiplicar los números de dos listas:"
      ]
    },
    {
      "cell_type": "code",
      "metadata": {
        "id": "M7QMle3XflB9",
        "colab_type": "code",
        "colab": {}
      },
      "source": [
        "a = [1, 2, 3, 4, 5]\n",
        "b = [6, 7, 8, 9, 10]\n",
        "\n",
        "list( map(lambda x,y : x*y, a,b) )\n",
        "\n",
        "#E incluso podemos extender la funcionalidad a tres listas o más:\n",
        "\n",
        "c = [11, 12, 13, 14, 15]\n",
        "\n",
        "list( map(lambda x,y,z : x*y*z, a,b,c) )"
      ],
      "execution_count": null,
      "outputs": []
    },
    {
      "cell_type": "markdown",
      "metadata": {
        "id": "b5n_T6xdfscx",
        "colab_type": "text"
      },
      "source": [
        "#### Mapeando objetos\n",
        "Evidentemente, siempre que la utilicemos correctamente podemos mapear una serie de objetos sin ningún problema:"
      ]
    },
    {
      "cell_type": "code",
      "metadata": {
        "id": "Np6x6EH_fx9U",
        "colab_type": "code",
        "colab": {}
      },
      "source": [
        "def incrementar(p):\n",
        "    p.edad += 1\n",
        "    return p\n",
        "\n",
        "personas = map(incrementar, personas)\n",
        "\n",
        "for persona in personas:\n",
        "    print(persona)"
      ],
      "execution_count": null,
      "outputs": []
    },
    {
      "cell_type": "markdown",
      "metadata": {
        "id": "YQ7H5I7-fzdu",
        "colab_type": "text"
      },
      "source": [
        "Claro que en este caso tenemos que utilizar una función definida porque no necesitamos actuar sobre la instancia, a no ser que nos tomemos la molestia de rehacer todo el objeto:"
      ]
    },
    {
      "cell_type": "code",
      "metadata": {
        "id": "i7bNGK9Rf4Gq",
        "colab_type": "code",
        "colab": {}
      },
      "source": [
        "personas = [\n",
        "    Persona(\"Juan\", 35),\n",
        "    Persona(\"Marta\", 16),\n",
        "    Persona(\"Manuel\", 78),\n",
        "    Persona(\"Eduardo\", 12)\n",
        "]\n",
        "\n",
        "personas = map(lambda p: Persona(p.nombre, p.edad+1), personas)\n",
        "\n",
        "for persona in personas:\n",
        "    print(persona)"
      ],
      "execution_count": null,
      "outputs": []
    },
    {
      "cell_type": "markdown",
      "metadata": {
        "id": "dvvxZ2gsgNU8",
        "colab_type": "text"
      },
      "source": [
        "## Análisis de predicados (expresiones regulares)\n",
        "\n",
        "Una de las tareas más utilizadas en la programación es la búsqueda de subcadenas o patrones dentro de otras cadenas de texto.\n",
        "\n",
        "Las expresiones regulares, también conocidas como ```regex``` o ```regexp```, son patrones de búsqueda definidos con una sintaxis formal. Siempre que sigamos sus reglas, podremos realizar búsquedas simples y avanzadas, que utilizadas en conjunto con otras funcionalidades, las vuelven una de las opciones más útiles e importantes de cualquier lenguaje.\n",
        "\n",
        "Sin embargo antes de utilizarlas hay que estar seguros de lo que hacemos, de ahí aquella famosa frase de Jamie Zawinski, programador y hacker:\n",
        "\n",
        "*Some people, when confronted with a problem, think \"I know, I'll use regular expressions.\" Now they have two problems.*\n",
        "\n",
        "Que significa que:\n",
        "\n",
        "*Hay gente que, cuando se enfrenta a un problema, piensa \"Ya sé, usaré expresiones regulares\". Ahora tienen dos problemas.*"
      ]
    },
    {
      "cell_type": "markdown",
      "metadata": {
        "id": "IjHCGULig12q",
        "colab_type": "text"
      },
      "source": [
        "###Métodos básicos\n",
        "```re.search```: busca un patrón en otra cadena:"
      ]
    },
    {
      "cell_type": "code",
      "metadata": {
        "id": "_En84HZgg_Tw",
        "colab_type": "code",
        "colab": {}
      },
      "source": [
        "import re\n",
        "\n",
        "texto = \"En esta cadena se encuentra una palabra mágica\"\n",
        "\n",
        "re.search('mágica', texto)"
      ],
      "execution_count": null,
      "outputs": []
    },
    {
      "cell_type": "markdown",
      "metadata": {
        "id": "VJKwTvMyhAjs",
        "colab_type": "text"
      },
      "source": [
        "Como vemos, al realizar la búsqueda lo que nos encontramos es un objeto de tipo *Match* (encontrado), en lugar un simple *True* o *False*.\n",
        "\n",
        "En cambio, si no se encontrase la palabra, no se devolvería nada (*None*):"
      ]
    },
    {
      "cell_type": "code",
      "metadata": {
        "id": "N-h3Z1-uhLuO",
        "colab_type": "code",
        "colab": {}
      },
      "source": [
        "import re\n",
        "re.search('hola', texto)"
      ],
      "execution_count": null,
      "outputs": []
    },
    {
      "cell_type": "markdown",
      "metadata": {
        "id": "cTj7kIgqhSMe",
        "colab_type": "text"
      },
      "source": [
        "Por tanto, podemos utilizar la propia funcionalidad junto a un condicional sin ningún problema:"
      ]
    },
    {
      "cell_type": "code",
      "metadata": {
        "id": "O6gbld6ghT8T",
        "colab_type": "code",
        "colab": {}
      },
      "source": [
        "palabra = \"mágica\"\n",
        "\n",
        "encontrado = re.search(palabra,  texto)\n",
        "\n",
        "if encontrado:\n",
        "    print(\"Se ha encontrado la palabra:\", palabra)\n",
        "else:\n",
        "    print(\"No se ha encontrado la palabra:\", palabra)"
      ],
      "execution_count": null,
      "outputs": []
    },
    {
      "cell_type": "markdown",
      "metadata": {
        "id": "eqMaISeQhVaC",
        "colab_type": "text"
      },
      "source": [
        "Sin embargo, volviendo al objeto devuelto de tipo *Match*, éste nos ofrece algunas opciones interesantes."
      ]
    },
    {
      "cell_type": "code",
      "metadata": {
        "id": "oCTwE-zWhauo",
        "colab_type": "code",
        "colab": {}
      },
      "source": [
        "# Posición donde empieza la coincidencia\n",
        "print( encontrado.start() ) \n",
        "# Posición donde termina la coincidencia\n",
        "print( encontrado.end() )  \n",
        "# Tupla con posiciones donde empieza y termina la coincidencia\n",
        "print( encontrado.span() )   \n",
        "# Cadena sobre la que se ha realizado la búsqueda\n",
        "print( encontrado.string )   "
      ],
      "execution_count": null,
      "outputs": []
    },
    {
      "cell_type": "markdown",
      "metadata": {
        "id": "zEDY8Bgwhd2C",
        "colab_type": "text"
      },
      "source": [
        "Como vemos, en este objeto se esconde mucha más información de la que parece a simple vista, luego seguiremos hablando de ellos.\n",
        "\n",
        "```re.match``` busca un patrón al principio de otra cadena:"
      ]
    },
    {
      "cell_type": "code",
      "metadata": {
        "id": "yfe0pY0mhrj_",
        "colab_type": "code",
        "colab": {}
      },
      "source": [
        "texto = \"Hola mundo\"\n",
        "\n",
        "re.match('Hola', texto)"
      ],
      "execution_count": null,
      "outputs": []
    },
    {
      "cell_type": "markdown",
      "metadata": {
        "id": "9T2Sc41shs7t",
        "colab_type": "text"
      },
      "source": [
        "```re.split``` divide una cadena a partir de un patrón:"
      ]
    },
    {
      "cell_type": "code",
      "metadata": {
        "id": "9403d13sh2Nv",
        "colab_type": "code",
        "colab": {}
      },
      "source": [
        "texto = \"Vamos a dividir esta cadena\"\n",
        "\n",
        "re.split(' ', texto)"
      ],
      "execution_count": null,
      "outputs": []
    },
    {
      "cell_type": "markdown",
      "metadata": {
        "id": "xjbH5m3Sh_rV",
        "colab_type": "text"
      },
      "source": [
        "```re.sub``` sustituye todas las coincidencias en una cadena:"
      ]
    },
    {
      "cell_type": "code",
      "metadata": {
        "id": "Iv2RyrkBiJ8g",
        "colab_type": "code",
        "colab": {}
      },
      "source": [
        "texto = \"Hola amigo\"\n",
        "\n",
        "re.sub('amigo', 'amiga', texto)"
      ],
      "execution_count": null,
      "outputs": []
    },
    {
      "cell_type": "markdown",
      "metadata": {
        "id": "ykRSc3nYiLUR",
        "colab_type": "text"
      },
      "source": [
        "```re.findall``` busca todas las coincidencias en una cadena:"
      ]
    },
    {
      "cell_type": "code",
      "metadata": {
        "id": "YwcLoRRPiQ7c",
        "colab_type": "code",
        "colab": {}
      },
      "source": [
        "texto = \"hola adios hola hola\"\n",
        "\n",
        "re.findall('hola', texto)"
      ],
      "execution_count": null,
      "outputs": []
    },
    {
      "cell_type": "markdown",
      "metadata": {
        "id": "oy013VEGiVlV",
        "colab_type": "text"
      },
      "source": [
        "Aquí se nos devuelve una lista, pero podríamos aplicar la función ```len()``` para saber el número:"
      ]
    },
    {
      "cell_type": "code",
      "metadata": {
        "id": "X8wVc5bZkYkT",
        "colab_type": "code",
        "colab": {}
      },
      "source": [
        "len(re.findall('hola', texto))"
      ],
      "execution_count": null,
      "outputs": []
    },
    {
      "cell_type": "markdown",
      "metadata": {
        "id": "rJGcKsEtkZCu",
        "colab_type": "text"
      },
      "source": [
        "### Patrones con varios valores\n",
        "Si queremos comprobar varias posibilidades, podemos utilizar una tubería | a modo de OR. Generalmente pondremos el listado de alternativas entre paréntesis ()"
      ]
    },
    {
      "cell_type": "code",
      "metadata": {
        "id": "TEDyLU1Ikj9y",
        "colab_type": "code",
        "colab": {}
      },
      "source": [
        "texto = \"hola adios hello bye\"\n",
        "\n",
        "re.findall('hola|hello', texto)"
      ],
      "execution_count": null,
      "outputs": []
    },
    {
      "cell_type": "markdown",
      "metadata": {
        "id": "GpYR7kMnkkfh",
        "colab_type": "text"
      },
      "source": [
        "### Patrones con sintaxis repetida\n",
        "Otra posibilidad que se nos ofrece es la de buscar patrones con letras repetidas, y aquí es donde se empieza a poner interesante. Como podemos o no saber de antemano el número de repeticiones hay varias formas de definirlos.\n",
        "\n",
        "Antes de continuar, y para aligerar todo el proceso, vamos a crear una función capaz de ejecutar varios patrones en una lista sobre un texto:"
      ]
    },
    {
      "cell_type": "code",
      "metadata": {
        "id": "mf01O8AJkuWT",
        "colab_type": "code",
        "colab": {}
      },
      "source": [
        "texto = \"hla hola hoola hooola hooooola\"\n",
        "def buscar(patrones, texto):\n",
        "    for patron in patrones:\n",
        "        print( re.findall(patron, texto) )\n",
        "\n",
        "patrones = ['hla', 'hola', 'hoola']\n",
        "buscar(patrones, texto)"
      ],
      "execution_count": null,
      "outputs": []
    },
    {
      "cell_type": "markdown",
      "metadata": {
        "id": "sNCk5wsnkzMK",
        "colab_type": "text"
      },
      "source": [
        "* **Con meta-carácter** * \n",
        "Lo utilizaremos para definir ninguna o más repeticiones de la letra a la izquierda del meta-carácter:\n"
      ]
    },
    {
      "cell_type": "code",
      "metadata": {
        "id": "rqKqvRbUlFAV",
        "colab_type": "code",
        "colab": {}
      },
      "source": [
        "patrones = ['ho','ho*','ho*la','hu*la']\n",
        "\n",
        "buscar(patrones, texto)"
      ],
      "execution_count": null,
      "outputs": []
    },
    {
      "cell_type": "markdown",
      "metadata": {
        "id": "YV9irowylJr4",
        "colab_type": "text"
      },
      "source": [
        "* **Con meta-carácter** + \n",
        "Lo utilizaremos para definir una o más repeticiones de la letra a la izquierda del meta-carácter:"
      ]
    },
    {
      "cell_type": "code",
      "metadata": {
        "id": "-s1z4bGBlPjy",
        "colab_type": "code",
        "colab": {}
      },
      "source": [
        "patrones = ['ho*', 'ho+']  \n",
        "\n",
        "buscar(patrones, texto)"
      ],
      "execution_count": null,
      "outputs": []
    },
    {
      "cell_type": "markdown",
      "metadata": {
        "id": "yMA7Qy_clXR5",
        "colab_type": "text"
      },
      "source": [
        "* **Con meta-carácter** ? \n",
        "Lo utilizaremos para definir una o más repeticiones de la letra a la izquierda del meta-carácter:"
      ]
    },
    {
      "cell_type": "code",
      "metadata": {
        "id": "srl6rDNolgK5",
        "colab_type": "code",
        "colab": {}
      },
      "source": [
        "patrones = ['ho*', 'ho+', 'ho?', 'ho?la']\n",
        "\n",
        "buscar(patrones, texto)"
      ],
      "execution_count": null,
      "outputs": []
    },
    {
      "cell_type": "markdown",
      "metadata": {
        "id": "XAOcKfiHlkHJ",
        "colab_type": "text"
      },
      "source": [
        "* **Con número de repeticiones explícito {n}** \n",
        "\n",
        "Lo utilizaremos para definir 'n' repeticiones exactas de la letra a la izquierda del meta-carácter:"
      ]
    },
    {
      "cell_type": "code",
      "metadata": {
        "id": "bO7ES1TulwzA",
        "colab_type": "code",
        "colab": {}
      },
      "source": [
        "patrones = ['ho{0}la', 'ho{1}la', 'ho{2}la']\n",
        "\n",
        "buscar(patrones, texto)"
      ],
      "execution_count": null,
      "outputs": []
    },
    {
      "cell_type": "markdown",
      "metadata": {
        "id": "2w1BJ81cl0Cg",
        "colab_type": "text"
      },
      "source": [
        "* **Con número de repeticiones en un rango {n,m}** \n",
        "\n",
        "Lo utilizaremos para definir un número de repeticiones variable entre 'n' y 'm' de la letra a la izquierda del meta-carácter:"
      ]
    },
    {
      "cell_type": "code",
      "metadata": {
        "id": "GHrAlAKGl-Ja",
        "colab_type": "code",
        "colab": {}
      },
      "source": [
        "patrones = ['ho{0,1}la', 'ho{1,2}la', 'ho{2,9}la']\n",
        "\n",
        "buscar(patrones, texto)"
      ],
      "execution_count": null,
      "outputs": []
    },
    {
      "cell_type": "markdown",
      "metadata": {
        "id": "9VBDHl6nmSZQ",
        "colab_type": "text"
      },
      "source": [
        "### Conjuntos de caracteres\n",
        "Cuando nos interese crear un patrón con distintos carácteres, podemos definir conjuntos entre paréntesis:"
      ]
    },
    {
      "cell_type": "code",
      "metadata": {
        "id": "TZsMR91wmXH4",
        "colab_type": "code",
        "colab": {}
      },
      "source": [
        "texto = \"hala hela hila hola hula\"\n",
        "\n",
        "patrones = ['h[ou]la', 'h[aio]la', 'h[aeiou]la']\n",
        "buscar(patrones, texto)"
      ],
      "execution_count": null,
      "outputs": []
    },
    {
      "cell_type": "markdown",
      "metadata": {
        "id": "_O5fOf83mXwU",
        "colab_type": "text"
      },
      "source": [
        "Evidentemente los podemos utilizar con repeticiones:"
      ]
    },
    {
      "cell_type": "code",
      "metadata": {
        "id": "dVppxzZZmenD",
        "colab_type": "code",
        "colab": {}
      },
      "source": [
        "texto = \"haala heeela hiiiila hoooooola\"\n",
        "\n",
        "patrones = ['h[ae]la', 'h[ae]*la', 'h[io]{3,9}la']\n",
        "buscar(patrones, texto)"
      ],
      "execution_count": null,
      "outputs": []
    },
    {
      "cell_type": "markdown",
      "metadata": {
        "id": "93Rxirkimh2i",
        "colab_type": "text"
      },
      "source": [
        "* **Exclusión en grupos [^ ]:**  \\\n",
        "Cuando utilizamos grupos podemos utilizar el operador de exclusión ^ para indicar una búsqueda contraria:"
      ]
    },
    {
      "cell_type": "code",
      "metadata": {
        "id": "lM23cddhmrGi",
        "colab_type": "code",
        "colab": {}
      },
      "source": [
        "texto = \"hala hela hila hola hula\"\n",
        "\n",
        "patrones = ['h[o]la', 'h[^o]la'] \n",
        "buscar(patrones, texto)"
      ],
      "execution_count": null,
      "outputs": []
    },
    {
      "cell_type": "markdown",
      "metadata": {
        "id": "YqGo5iw5mwcN",
        "colab_type": "text"
      },
      "source": [
        "* **Rangos [ - ]:**\n",
        "Otra característica que hace ultra potentes los grupos, es la capacidad de definir rangos. Ejemplos de rangos:\n",
        "\n",
        "* **[A-Z]**: Cualquier carácter alfabético en mayúscula (no especial ni número).\n",
        "* **[a-z]**: Cualquier carácter alfabético en minúscula (no especial ni número).\n",
        "* **[A-Za-z]**: Cualquier carácter alfabético en minúscula o mayúscula (no especial ni número).\n",
        "* **[A-z]**: Cualquier carácter alfabético en minúscula o mayúscula (no especial ni número).\n",
        "* **[0-9]**: Cualquier carácter numérico (no especial ni alfabético).\n",
        "* **[a-zA-Z0-9]**: Cualquier carácter alfanumérico (no especial).\n",
        "Tener en cuenta que cualquier rango puede ser excluido para conseguir el patrón contrario."
      ]
    },
    {
      "cell_type": "code",
      "metadata": {
        "id": "86sgs_MbnEfa",
        "colab_type": "code",
        "colab": {}
      },
      "source": [
        "texto = \"hola h0la Hola mola m0la M0la\"\n",
        "\n",
        "patrones = ['h[a-z]la', 'h[0-9]la', '[A-z]{4}', '[A-Z][A-z0-9]{3}'] \n",
        "buscar(patrones, texto)"
      ],
      "execution_count": null,
      "outputs": []
    },
    {
      "cell_type": "markdown",
      "metadata": {
        "id": "1Odar_pdnI5V",
        "colab_type": "text"
      },
      "source": [
        "### Códigos escapados \n",
        "Si cada vez que quisiéramos definir un patrón variable tuviéramos que crear rangos, al final tendríamos expresiones regulares gigantes. Por suerte su sintaxis también acepta una serie de caracteres escapados que tienen un significo único. Algunos de los más importantes son:\n",
        "\n",
        "![image.png](data:image/png;base64,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)"
      ]
    },
    {
      "cell_type": "markdown",
      "metadata": {
        "id": "Hgrch9emnWCM",
        "colab_type": "text"
      },
      "source": [
        "El problema que encontraremos en Python a la hora de definir código escapado, es que las cadenas no tienen en cuenta el \\ a no ser que especifiquemos que son cadenas en crudo (raw), **por lo que tendremos que precedir las expresiones regulares con una 'r'**."
      ]
    },
    {
      "cell_type": "code",
      "metadata": {
        "id": "hIaY1gNMncP5",
        "colab_type": "code",
        "colab": {}
      },
      "source": [
        "texto = \"Este curso de Python se publicó en el año 2016\"\n",
        "\n",
        "patrones = [r'\\d+', r'\\D+', r'\\s', r'\\S+', r'\\w+', r'\\W+'] \n",
        "buscar(patrones, texto"
      ],
      "execution_count": null,
      "outputs": []
    },
    {
      "cell_type": "markdown",
      "metadata": {
        "id": "0uWAgC0_neGp",
        "colab_type": "text"
      },
      "source": [
        "Por mi parte lo vamos a dejar aquí, pero el mundo de las expresiones regulares es gigantesco y daría para un curso entero. Les dejaré unas ligas de documentación para mayor información.\n",
        "\n",
        "###Documentación\n",
        "\n",
        "Hay docenas y docenas de códigos especiales, si queréis echar un vistazo a todos ellos podéis consultar la documentación oficial:\n",
        "\n",
        "* https://docs.python.org/3.5/library/re.html#regular-expression-syntax\n",
        "\n",
        "Un resumen por parte de Google Eduactión:\n",
        "\n",
        "* https://developers.google.com/edu/python/regular-expressions\n",
        "\n",
        "Otro resumen muy interesante sobre el tema:\n",
        "\n",
        "* https://www.tutorialspoint.com/python/python_reg_expressions.htm\n",
        "\n",
        "Un par de documentos muy trabajados con ejemplos básicos y avanzados:\n",
        "\n",
        "* http://www.python-course.eu/python3_re.php\n",
        "* http://www.python-course.eu/python3_re_advanced.php"
      ]
    },
    {
      "cell_type": "markdown",
      "metadata": {
        "id": "TX0Xdgci_X2d",
        "colab_type": "text"
      },
      "source": [
        "#Módulo 9: Excepciones"
      ]
    },
    {
      "cell_type": "markdown",
      "metadata": {
        "id": "ccz44NYrCMZA",
        "colab_type": "text"
      },
      "source": [
        "##Errores\n",
        "Los errores detienen la ejecución del programa y tienen varias causas. Para poder estudiarlos mejor vamos a provocar algunos intencionadamente.\n",
        "\n"
      ]
    },
    {
      "cell_type": "markdown",
      "metadata": {
        "id": "oq28cBNLCQP3",
        "colab_type": "text"
      },
      "source": [
        "### Errores de sintaxis\n",
        "Identificados con el código **SyntaxError**, son los que podemos apreciar repasando el código, por ejemplo al dejarnos de cerrar un paréntesis:"
      ]
    },
    {
      "cell_type": "code",
      "metadata": {
        "id": "stjG3s2ZCSCc",
        "colab_type": "code",
        "colab": {}
      },
      "source": [
        "print(\"Hola\""
      ],
      "execution_count": null,
      "outputs": []
    },
    {
      "cell_type": "markdown",
      "metadata": {
        "id": "pmA6m379CTy2",
        "colab_type": "text"
      },
      "source": [
        "###Errores de nombre\n",
        "Se producen cuando el sistema interpreta que debe ejecutar alguna función, método... pero no lo encuentra definido. Devuelven el código **NameError**:"
      ]
    },
    {
      "cell_type": "code",
      "metadata": {
        "id": "G0JGfDuvDDhx",
        "colab_type": "code",
        "colab": {}
      },
      "source": [
        "pint(\"Hola\")"
      ],
      "execution_count": null,
      "outputs": []
    },
    {
      "cell_type": "markdown",
      "metadata": {
        "id": "HmTzmKcWDIO6",
        "colab_type": "text"
      },
      "source": [
        "La mayoría de errores sintácticos y de nombre los identifican los editores de código antes de la ejecución, pero existen otros tipos que pasan más desapercibidos.\n",
        "\n",
        "###Errores semánticos\n",
        "Estos errores son muy difíciles de identificar porque van ligados al sentido del funcionamiento y dependen de la situación. Algunas veces pueden ocurrir y otras no.\n",
        "\n",
        "La mejor forma de prevenirlos es programando mucho y aprendiendo de tus propios fallos, la experiencia es la clave. Veamos un par de ejemplos:\n",
        "\n",
        "**Ejemplo ```pop()``` con lista vacía**\n",
        "\n",
        "Si intentamos sacar un elemento de una lista vacía, algo que no tiene mucho sentido, el programa dará fallo de tipo **IndexError**. Esta situación ocurre sólo durante la ejecución del programa, por lo que los editores no lo detectarán:"
      ]
    },
    {
      "cell_type": "code",
      "metadata": {
        "id": "NXvCCVKyDfBc",
        "colab_type": "code",
        "colab": {}
      },
      "source": [
        "l = []\n",
        "l.pop()"
      ],
      "execution_count": null,
      "outputs": []
    },
    {
      "cell_type": "markdown",
      "metadata": {
        "id": "JmxvHyQQDpbk",
        "colab_type": "text"
      },
      "source": [
        "Para prevenir el error deberíamos comprobar que una lista tenga como mínimo un elemento antes de intentar sacarlo, algo factible utilizando la función ```len()```:"
      ]
    },
    {
      "cell_type": "code",
      "metadata": {
        "id": "2lQooks-DsmA",
        "colab_type": "code",
        "colab": {}
      },
      "source": [
        "l = []\n",
        "\n",
        "if len(l) > 0:\n",
        "    l.pop()"
      ],
      "execution_count": null,
      "outputs": []
    },
    {
      "cell_type": "markdown",
      "metadata": {
        "id": "wml8hoYDDv3S",
        "colab_type": "text"
      },
      "source": [
        "**Ejemplo lectura de cadena y operación sin conversión a número**\n",
        "\n",
        "Cuando leemos un valor con la función ```input()```, éste siempre se obtendrá como una cadena de caracteres. Si intentamos operarlo directamente con otros números tendremos un fallo **TypeError** que tampoco detectan los editores de código:"
      ]
    },
    {
      "cell_type": "code",
      "metadata": {
        "id": "fkTN7DriD6VI",
        "colab_type": "code",
        "colab": {}
      },
      "source": [
        "n = input(\"Introduce un número: \")\n",
        "\n",
        "print(\"{}/{} = {}\".format(n,m,n/m))"
      ],
      "execution_count": null,
      "outputs": []
    },
    {
      "cell_type": "markdown",
      "metadata": {
        "id": "kRxwpDZpD683",
        "colab_type": "text"
      },
      "source": [
        "Como ya sabemos este error se puede prevenir transformando la cadena a entero o flotante:"
      ]
    },
    {
      "cell_type": "code",
      "metadata": {
        "id": "aoSsNjNTD8lH",
        "colab_type": "code",
        "colab": {}
      },
      "source": [
        "n = float(input(\"Introduce un número: \"))\n",
        "m = 4\n",
        "print(\"{}/{} = {}\".format(n,m,n/m))"
      ],
      "execution_count": null,
      "outputs": []
    },
    {
      "cell_type": "markdown",
      "metadata": {
        "id": "Ilcncy3pD_6Z",
        "colab_type": "text"
      },
      "source": [
        "Sin embargo no siempre se puede prevenir, como cuando se introduce una cadena que no es un número:"
      ]
    },
    {
      "cell_type": "code",
      "metadata": {
        "id": "kLB1ZHq6EAaB",
        "colab_type": "code",
        "colab": {}
      },
      "source": [
        "n = float(input(\"Introduce un número: \"))\n",
        "m = 4\n",
        "print(\"{}/{} = {}\".format(n,m,n/m))"
      ],
      "execution_count": null,
      "outputs": []
    },
    {
      "cell_type": "markdown",
      "metadata": {
        "id": "TgwD6FP3EJ00",
        "colab_type": "text"
      },
      "source": [
        "Es difícil prevenir fallos que ni siquiera nos habíamos planteado que podían existir. Por suerte para esas situaciones existen las excepciones."
      ]
    },
    {
      "cell_type": "markdown",
      "metadata": {
        "id": "0ZfWdEJSERtm",
        "colab_type": "text"
      },
      "source": [
        "##Tipos de Excepciones\n",
        "Las excepciones son bloques de código que nos permiten continuar con la ejecución de un programa pese a que ocurra un error.\n",
        "\n",
        "Siguiendo con el ejemplo de la lección anterior, teníamos el caso en que leíamos un número por teclado, pero el usuario no introducía un número."
      ]
    },
    {
      "cell_type": "markdown",
      "metadata": {
        "id": "wB2hWT98Eiyp",
        "colab_type": "text"
      },
      "source": [
        "### Bloques try - except\n",
        "Para prevenir el fallo debemos poner el código propenso a errores en un bloque try y luego encadenar un bloque except para tratar la situación excepcional mostrando que ha ocurrido un fallo:"
      ]
    },
    {
      "cell_type": "code",
      "metadata": {
        "id": "In5GTxWeEokC",
        "colab_type": "code",
        "colab": {}
      },
      "source": [
        "try:\n",
        "    n = float(input(\"Introduce un número: \"))\n",
        "    m = 4\n",
        "    print(\"{}/{} = {}\".format(n,m,n/m))\n",
        "except:\n",
        "    print(\"Ha ocurrido un error, introduce bien el número\")"
      ],
      "execution_count": null,
      "outputs": []
    },
    {
      "cell_type": "markdown",
      "metadata": {
        "id": "fZFHhb_OEwJD",
        "colab_type": "text"
      },
      "source": [
        "Como vemos esta forma nos permite controlar situaciones excepcionales que generalmente darían error y en su lugar mostrar un mensaje o ejecutar una pieza de código alternativo.\n",
        "\n",
        "Podemos aprovechar las excepciones para forzar al usuario a introducir un número haciendo uso de un bucle ```while```, repitiendo la lectura por teclado hasta que lo haga bien y entonces romper el bucle con un ```break```:"
      ]
    },
    {
      "cell_type": "code",
      "metadata": {
        "id": "9MnL2f5oE21u",
        "colab_type": "code",
        "colab": {}
      },
      "source": [
        "while(True):\n",
        "    try:\n",
        "        n = float(input(\"Introduce un número: \"))\n",
        "        m = 4\n",
        "        print(\"{}/{} = {}\".format(n,m,n/m))\n",
        "        break  # Importante romper la iteración si todo ha salido bien\n",
        "    except:\n",
        "        print(\"Ha ocurrido un error, introduce bien el número\")"
      ],
      "execution_count": null,
      "outputs": []
    },
    {
      "cell_type": "markdown",
      "metadata": {
        "id": "jOIIpJw4E4Lj",
        "colab_type": "text"
      },
      "source": [
        "###Bloque else\n",
        "Es posible encadenar un bloque ```else``` después del ```except``` para comprobar el caso en que **todo funcione correctamente** (no se ejecuta la excepción).\n",
        "\n",
        "El bloque ```else``` es un buen momento para romper la iteración con ```break``` si todo funciona correctamente:"
      ]
    },
    {
      "cell_type": "code",
      "metadata": {
        "id": "71-2BqsrFJg1",
        "colab_type": "code",
        "colab": {}
      },
      "source": [
        "while(True):\n",
        "    try:\n",
        "        n = float(input(\"Introduce un número: \"))\n",
        "        m = 4\n",
        "        print(\"{}/{} = {}\".format(n,m,n/m))\n",
        "    except:\n",
        "        print(\"Ha ocurrido un error, introduce bien el número\")\n",
        "    else:\n",
        "        print(\"Todo ha funcionado correctamente\")\n",
        "        break  # Importante romper la iteración si todo ha salido bien"
      ],
      "execution_count": null,
      "outputs": []
    },
    {
      "cell_type": "markdown",
      "metadata": {
        "id": "Zbxe3MsEFKGf",
        "colab_type": "text"
      },
      "source": [
        "###Bloque finally\n",
        "Por último es posible utilizar un bloque ```finally``` que se ejecute al final del código, **ocurra o no ocurra un error**:"
      ]
    },
    {
      "cell_type": "code",
      "metadata": {
        "id": "VKn__XK7FSqV",
        "colab_type": "code",
        "colab": {}
      },
      "source": [
        "while(True):\n",
        "    try:\n",
        "        n = float(input(\"Introduce un número: \"))\n",
        "        m = 4\n",
        "        print(\"{}/{} = {}\".format(n,m,n/m))\n",
        "    except:\n",
        "        print(\"Ha ocurrido un error, introduce bien el número\")\n",
        "    else:\n",
        "        print(\"Todo ha funcionado correctamente\")\n",
        "        break  # Importante romper la iteración si todo ha salido bien\n",
        "    finally:\n",
        "        print(\"Fin de la iteración\") # Siempre se ejecuta"
      ],
      "execution_count": null,
      "outputs": []
    },
    {
      "cell_type": "markdown",
      "metadata": {
        "id": "2AuHQqfIFejL",
        "colab_type": "text"
      },
      "source": [
        "## Excepciones múltiples\n",
        "En una misma pieza de código pueden ocurrir muchos errores distintos y quizá nos interese actuar de forma diferente en cada caso.\n",
        "\n",
        "Para esas situaciones algo que podemos hacer es asignar una excepción a una variable.\n",
        "\n",
        "De esta forma es posible analizar el tipo de error que sucede gracias a su identificador:"
      ]
    },
    {
      "cell_type": "code",
      "metadata": {
        "id": "UNHRwo-TFmfG",
        "colab_type": "code",
        "colab": {}
      },
      "source": [
        "try:\n",
        "    n = input(\"Introduce un número: \")  # no transformamos a número\n",
        "    5/n\n",
        "except Exception as e:  # guardamos la excepción como una variable e\n",
        "    print(\"Ha ocurrido un error =>\", type(e).__name__)"
      ],
      "execution_count": null,
      "outputs": []
    },
    {
      "cell_type": "markdown",
      "metadata": {
        "id": "rbjzayjOFrRM",
        "colab_type": "text"
      },
      "source": [
        "Cada error tiene un identificador único que curiosamente se corresponde con su tipo de dato. Aprovechándonos de eso podemos mostrar la clase del error utilizando la sintaxis:"
      ]
    },
    {
      "cell_type": "code",
      "metadata": {
        "id": "3MIddvimFrx-",
        "colab_type": "code",
        "colab": {}
      },
      "source": [
        "print( type(e) )"
      ],
      "execution_count": null,
      "outputs": []
    },
    {
      "cell_type": "markdown",
      "metadata": {
        "id": "FtgfNBnjFukw",
        "colab_type": "text"
      },
      "source": [
        "Es similar a conseguir el tipo (o clase) de cualquier otra variable o valor literal:"
      ]
    },
    {
      "cell_type": "code",
      "metadata": {
        "id": "ntCAtrGMFwxm",
        "colab_type": "code",
        "colab": {}
      },
      "source": [
        "print(type(1))\n",
        "print(type(3.14))\n",
        "print(type([]))\n",
        "print(type(()))\n",
        "print(type({}))"
      ],
      "execution_count": null,
      "outputs": []
    },
    {
      "cell_type": "markdown",
      "metadata": {
        "id": "_yVmRPDAFyw7",
        "colab_type": "text"
      },
      "source": [
        "Como vemos siempre nos indica eso de \"class\" delante. Eso es porque en Python todo son clases, pero hablaremos de este concepto más adelante. Lo importante ahora es que podemos mostrar solo el nombre del tipo de dato (la clase) consultando su propiedas especial name de la siguiente forma:"
      ]
    },
    {
      "cell_type": "code",
      "metadata": {
        "id": "nNiCCPkIF35C",
        "colab_type": "code",
        "colab": {}
      },
      "source": [
        "print( type(e).__name__)\n",
        "print(type(1).__name__)\n",
        "print(type(3.14).__name__)\n",
        "print(type([]).__name__)\n",
        "print(type(()).__name__)\n",
        "print(type({}).__name__)"
      ],
      "execution_count": null,
      "outputs": []
    },
    {
      "cell_type": "markdown",
      "metadata": {
        "id": "GsxyakJ4F5x_",
        "colab_type": "text"
      },
      "source": [
        "Gracias a los identificadores de errores podemos crear múltiples comprobaciones, siempre que dejemos en último lugar la excepción por defecto *Excepcion* que engloba cualquier tipo de error (si la pusiéramos al principio las demas excepciones nunca se ejecutarían):"
      ]
    },
    {
      "cell_type": "code",
      "metadata": {
        "id": "GTVVRDScGEYz",
        "colab_type": "code",
        "colab": {}
      },
      "source": [
        "try:\n",
        "    n = float(input(\"Introduce un número divisor: \"))\n",
        "    5/n\n",
        "except TypeError:\n",
        "    print(\"No se puede dividir el número entre una cadena\")\n",
        "except ValueError:\n",
        "    print(\"Debes introducir una cadena que sea un número\")\n",
        "except ZeroDivisionError:\n",
        "    print(\"No se puede dividir por cero, prueba otro número\")\n",
        "except Exception as e:\n",
        "    print(\"Ha ocurrido un error no previsto\", type(e).__name__ )"
      ],
      "execution_count": null,
      "outputs": []
    },
    {
      "cell_type": "markdown",
      "metadata": {
        "id": "G_ySRls0GPqq",
        "colab_type": "text"
      },
      "source": [
        "## Invocación de Excepciones\n",
        "En algunas ocasiones quizá nos interesa llamar un error manualmente, ya que un print común no es muy elegante:"
      ]
    },
    {
      "cell_type": "code",
      "metadata": {
        "id": "fu1StfmpGZ_X",
        "colab_type": "code",
        "colab": {}
      },
      "source": [
        "def mi_funcion(algo=None):\n",
        "    if algo is None:\n",
        "        print(\"Error! No se permite un valor nulo (con un print)\")\n",
        "\n",
        "mi_funcion()"
      ],
      "execution_count": null,
      "outputs": []
    },
    {
      "cell_type": "markdown",
      "metadata": {
        "id": "Z2Ou5ygLGdZi",
        "colab_type": "text"
      },
      "source": [
        "### Instrucciones raise\n",
        "Gracias a *raise* podemos lanzar un error manual pasándole el identificador. Luego simplemente podemos añadir un except para tratar esta *excepción* que hemos lanzado:"
      ]
    },
    {
      "cell_type": "code",
      "metadata": {
        "id": "JjKZShbMHL_S",
        "colab_type": "code",
        "colab": {}
      },
      "source": [
        "def mi_funcion(algo=None):\n",
        "    try:\n",
        "        if algo is None:\n",
        "            raise ValueError(\"Error! No se permite un valor nulo\")\n",
        "    except ValueError:\n",
        "        print(\"Error! No se permite un valor nulo (desde la excepción)\")\n",
        "\n",
        "mi_funcion()"
      ],
      "execution_count": null,
      "outputs": []
    },
    {
      "cell_type": "markdown",
      "metadata": {
        "id": "mUjzmEy0Heap",
        "colab_type": "text"
      },
      "source": [
        "##Ejercicio 3\n",
        "Localiza el error en el siguiente bloque de código. Crea una excepción para evitar que el programa se bloquee y además explica en un mensaje al usuario la causa y/o solución:"
      ]
    },
    {
      "cell_type": "code",
      "metadata": {
        "id": "jS58IC9uHmSZ",
        "colab_type": "code",
        "colab": {}
      },
      "source": [
        "resultado = 10/0"
      ],
      "execution_count": null,
      "outputs": []
    },
    {
      "cell_type": "markdown",
      "metadata": {
        "id": "UGFECoCdHpAH",
        "colab_type": "text"
      },
      "source": [
        "##Ejercicio 4\n",
        "Localiza el error en el siguiente bloque de código. Crea una excepción para evitar que el programa se bloquee y además explica en un mensaje al usuario la causa y/o solución:"
      ]
    },
    {
      "cell_type": "code",
      "metadata": {
        "id": "XXDLK07ZHvpC",
        "colab_type": "code",
        "colab": {}
      },
      "source": [
        "lista = [1, 2, 3, 4, 5]\n",
        "lista[10]"
      ],
      "execution_count": null,
      "outputs": []
    },
    {
      "cell_type": "markdown",
      "metadata": {
        "id": "30n5SqQPU42r",
        "colab_type": "text"
      },
      "source": [
        "##Ejercicio 5\n",
        "Localiza el error en el siguiente bloque de código. Crea una excepción para evitar que el programa se bloquee y además explica en un mensaje al usuario la causa y/o solución:"
      ]
    },
    {
      "cell_type": "code",
      "metadata": {
        "id": "l2EGJMK4U8WQ",
        "colab_type": "code",
        "colab": {}
      },
      "source": [
        "colores = { 'rojo':'red', 'verde':'green', 'negro':'black' } \n",
        "colores['blanco']"
      ],
      "execution_count": null,
      "outputs": []
    },
    {
      "cell_type": "markdown",
      "metadata": {
        "id": "FHyRMVd2U_aA",
        "colab_type": "text"
      },
      "source": [
        "##Ejercicio 6\n",
        "Localiza el error en el siguiente bloque de código. Crea una excepción para evitar que el programa se bloquee y además explica en un mensaje al usuario la causa y/o solución:"
      ]
    },
    {
      "cell_type": "code",
      "metadata": {
        "id": "x3aR_uGhVDTN",
        "colab_type": "code",
        "colab": {}
      },
      "source": [
        "resultado = 15 + \"20\""
      ],
      "execution_count": null,
      "outputs": []
    },
    {
      "cell_type": "markdown",
      "metadata": {
        "id": "7M4qUVthVE8d",
        "colab_type": "text"
      },
      "source": [
        "##Ejercicio 7\n",
        "Realiza una función llamada **agregar_una_vez(lista, el)** que reciba una lista y un elemento. La función debe añadir el elemento al final de la lista con la condición de no repetir ningún elemento. Además si este elemento ya se encuentra en la lista se debe invocar un error de tipo *ValueError* que debes capturar y mostrar este mensaje en su lugar:\n",
        "```\n",
        "Error: Imposible añadir elementos duplicados => [elemento].\n",
        "```\n",
        "Cuando tengas la función intenta añadir los siguiente valores a la lista **10, -2, \"Hola\"** y luego muestra su contenido.\n",
        "\n",
        "*Sugerencia: Puedes utilizar la sintaxis \"elemento in lista\"*"
      ]
    },
    {
      "cell_type": "code",
      "metadata": {
        "id": "Z18_sluEVmWx",
        "colab_type": "code",
        "colab": {}
      },
      "source": [
        "elementos = [1, 5, -2]\n",
        "\n",
        "# Completa el ejercicio aquí"
      ],
      "execution_count": null,
      "outputs": []
    },
    {
      "cell_type": "markdown",
      "metadata": {
        "id": "XNaC1p3zh5qT",
        "colab_type": "text"
      },
      "source": [
        "# Módulo 10: *Debugging and Profiling*\n",
        "\n"
      ]
    },
    {
      "cell_type": "markdown",
      "metadata": {
        "id": "L6sw4Cepk1Gk",
        "colab_type": "text"
      },
      "source": [
        "## IPython Magics\n",
        "\n",
        "IPython es un shell interactivo que añade funcionalidades extra al modo interactivo incluido con Python, como resaltado de líneas y errores mediante colores, una sintaxis adicional para el shell, autocompletado mediante tabulador de variables, módulos y atributos; entre otras funcionalidades.\n",
        "\n",
        "Google Colaboratory es un ambiente IPython.\n",
        "\n",
        "Los ambientes IPython y Colab soportan comandos *magic* llamados **mágicos** o **magics** (ver [IPython - Magics](https://ipython.readthedocs.io/en/stable/interactive/magics.html))) \n",
        "\n",
        "En agregación al Python *normal*, estos comandos pueden ser muy útiles cuando se interactúa directamente con la máquina virtual o el *Notebook*.\n"
      ]
    },
    {
      "cell_type": "markdown",
      "metadata": {
        "id": "lX_HAS9Etetw",
        "colab_type": "text"
      },
      "source": [
        "### Celdas mágicas\n",
        "Las celdas mágicas definen un modo de ejecución para toda una celda y llevan el prefijo ``` %% ```\n",
        "\n",
        "Por ejemplo: \\\n",
        "\n",
        "*  **%%bash** or **%%sh**: La celda funciona como si fuera un **terminal**\n",
        "* **%%html**: La celda funciona con lenguaje **html**\n",
        "* **%%javascript**: La celda funciona con lenguaje **javascript**\n",
        "* **%%R**: La celda funciona con lenguaje **R**"
      ]
    },
    {
      "cell_type": "code",
      "metadata": {
        "id": "nLK_NOHeuEfm",
        "colab_type": "code",
        "colab": {}
      },
      "source": [
        "%%sh\n",
        "echo \"This is a shell script!\"\n",
        "# List all running VM processes.\n",
        "ps -ef\n",
        "echo \"Done\""
      ],
      "execution_count": null,
      "outputs": []
    },
    {
      "cell_type": "code",
      "metadata": {
        "id": "lLvLT050ua_9",
        "colab_type": "code",
        "colab": {}
      },
      "source": [
        "# Embed custom HTML directly into a cell's output.\n",
        "%%html\n",
        "<marquee>HTML rocks</marquee>"
      ],
      "execution_count": null,
      "outputs": []
    },
    {
      "cell_type": "markdown",
      "metadata": {
        "id": "yVErdG2OvFxU",
        "colab_type": "text"
      },
      "source": [
        "###Líneas Mágicas\n",
        "\n",
        "También se pueden usar lineas mágicas las cuales pueden ser insertadas en cualquier parte de la celda y llevan el prefijo ```%```.\n",
        "\n",
        "Ejemplos:\n",
        "\n",
        "*   **%timeit** - Muestra el tiempo requerido de ejecución de una línea de código\n",
        "*   **%time** - Muestra el tiempo requerido de ejecución de una línea de código\n",
        "*   **%cd** - cambia el directorio de trabajo actual\n",
        "*   **%pdb** - invoca el *debugger* interactivo de Python o el modo de depuración interactivo\n",
        "* **%lsmagic** - lista todas las líneas mágicas y funciones de celdas mágicas disponibles\n",
        "\n",
        "Por ejemplo, si se requiere saber cuánto tardar una línea específica en ser ejecutada se puede usar el comando ```%timeit```"
      ]
    },
    {
      "cell_type": "code",
      "metadata": {
        "id": "yo-8Zmk2n8o9",
        "colab_type": "code",
        "colab": {}
      },
      "source": [
        "%timeit sum(range(100))"
      ],
      "execution_count": null,
      "outputs": []
    },
    {
      "cell_type": "markdown",
      "metadata": {
        "id": "R5734Q2_oE_A",
        "colab_type": "text"
      },
      "source": [
        "Notar que dado que esta operación es rápida `%timeit` hace un número de grande de repeticiones. Para comandos más lentos, `%timeit` ajustará automáticamente y hará menos repeticiones:"
      ]
    },
    {
      "cell_type": "code",
      "metadata": {
        "id": "DR3dzWteofNz",
        "colab_type": "code",
        "colab": {}
      },
      "source": [
        "%%timeit\n",
        "total = 0\n",
        "for i in range(1000):\n",
        "    for j in range(1000):\n",
        "        total += i * (-1) ** j"
      ],
      "execution_count": null,
      "outputs": []
    },
    {
      "cell_type": "markdown",
      "metadata": {
        "id": "NPYUIyduYmU5",
        "colab_type": "text"
      },
      "source": [
        "Algunas veces repetir una operación no es la mejor opción. Por ejemplo, si tenemos una lista que necesitamos ordenar, se puede mal llevar con un operación repetitiva.\n",
        "Ordenar una lista pre-ordenada es más rápido que ordenar una lista no ordenada, por lo que la repetición puede sesgar el resultado:"
      ]
    },
    {
      "cell_type": "code",
      "metadata": {
        "id": "59AKP00UpKm-",
        "colab_type": "code",
        "colab": {}
      },
      "source": [
        "import random\n",
        "L = [random.random() for i in range(100000)]\n",
        "%timeit L.sort()"
      ],
      "execution_count": null,
      "outputs": []
    },
    {
      "cell_type": "markdown",
      "metadata": {
        "id": "NWRxP_jvpZSu",
        "colab_type": "text"
      },
      "source": [
        "Para lo anterior ``%time`` puede ser una mejor opción. Es mejor opción para comandos que tardan más en ejecutarse. Veamos cuanto tarda un ordenamiento de una lista no ordenada y una lista pre-ordenada:"
      ]
    },
    {
      "cell_type": "code",
      "metadata": {
        "id": "7mJMVbe1p5Wl",
        "colab_type": "code",
        "colab": {}
      },
      "source": [
        "import random\n",
        "L = [random.random() for i in range(100000)]\n",
        "print(\"sorting an unsorted list:\")\n",
        "%time L.sort()"
      ],
      "execution_count": null,
      "outputs": []
    },
    {
      "cell_type": "code",
      "metadata": {
        "id": "16Haq8U_ql0P",
        "colab_type": "code",
        "colab": {}
      },
      "source": [
        ""
      ],
      "execution_count": null,
      "outputs": []
    },
    {
      "cell_type": "code",
      "metadata": {
        "id": "S_X7TyVlqBDw",
        "colab_type": "code",
        "colab": {}
      },
      "source": [
        "print(\"sorting an already sorted list:\")\n",
        "%time L.sort()"
      ],
      "execution_count": null,
      "outputs": []
    },
    {
      "cell_type": "markdown",
      "metadata": {
        "id": "xb7BR6IBqIlB",
        "colab_type": "text"
      },
      "source": [
        "Notemos que tan rápido una lista preordenada se ordena de nuevo, pero también notemos que tanto toma cronometrar con ``%time`` versus ``%timeit``, incluso para listas preordenadas.\n",
        "\n",
        "Esto es el resultado del hecho de que ``%timeit``hace cosas más inteligentes  para prevenir llamadas de sistama que interieran con tomar el tiempo.\n",
        "\n",
        "Por ejemplo, previente de limpoiar objetos no usados de Python (conocidos como *garbage colletction*) que puede afectar el cronometraje.\n",
        "Por  esta razón, los resultados de ``%timeit``, son usualmente más rápidos que los de ``%time``.\n",
        "\n",
        "Tanto para ``%time`` como para ``%timeit``, usar el ``%%`` permite medir el timpo de scripts multilínea."
      ]
    },
    {
      "cell_type": "code",
      "metadata": {
        "id": "y1C_NrVlw73-",
        "colab_type": "code",
        "colab": {}
      },
      "source": [
        "%%time\n",
        "total = 0\n",
        "for i in range(1000):\n",
        "    for j in range(1000):\n",
        "        total += i * (-1) ** j"
      ],
      "execution_count": null,
      "outputs": []
    },
    {
      "cell_type": "markdown",
      "metadata": {
        "id": "dPbaY03BxG7z",
        "colab_type": "text"
      },
      "source": [
        "Para mayor información usar ``%time?`` o ``%timeit``."
      ]
    },
    {
      "cell_type": "code",
      "metadata": {
        "id": "H8gLdJaWxZCX",
        "colab_type": "code",
        "colab": {}
      },
      "source": [
        "%%time\n",
        "n = 1000000\n",
        "list1 = [i for i in range(n)]\n",
        "list2 = [i for i in range(int(n/2))]"
      ],
      "execution_count": null,
      "outputs": []
    },
    {
      "cell_type": "markdown",
      "metadata": {
        "id": "kOn7NDsryOZr",
        "colab_type": "text"
      },
      "source": [
        "### Líneas mágicas customizables\n",
        "Se pueden definir de la siguiente manera en la línea/celda:"
      ]
    },
    {
      "cell_type": "code",
      "metadata": {
        "id": "Ukmpake3yU0h",
        "colab_type": "code",
        "colab": {}
      },
      "source": [
        "#Esta celda imprime el contenido de la línea y de la celda\n",
        "from IPython.core.magic import register_line_cell_magic\n",
        "\n",
        "@register_line_cell_magic\n",
        "def mymagic(line_content, cell_content=None):\n",
        "  print('line_content=\"%s\" cell_content=\"%s\"' % (line_content, cell_content))"
      ],
      "execution_count": null,
      "outputs": []
    },
    {
      "cell_type": "code",
      "metadata": {
        "id": "YLIa0xVpyYrO",
        "colab_type": "code",
        "colab": {}
      },
      "source": [
        "%mymagic ¡Jose Jorge!"
      ],
      "execution_count": null,
      "outputs": []
    },
    {
      "cell_type": "code",
      "metadata": {
        "id": "ELD9TtZNyzkh",
        "colab_type": "code",
        "colab": {}
      },
      "source": [
        "%%mymagic pregunta simple\n",
        "¡Jose Jorge!\n",
        "¿Cómo estás?"
      ],
      "execution_count": null,
      "outputs": []
    },
    {
      "cell_type": "markdown",
      "metadata": {
        "id": "OU23Iox_zGv-",
        "colab_type": "text"
      },
      "source": [
        "##Fomularios\n",
        "\n",
        "Se pueden simplificar celdas ocultando su código y mostrando un formulario en su lugar\n",
        "\n",
        "\n",
        "**Nota:** Se puede mostrar el código dando doble click en el formulario que se verá del lado derecho"
      ]
    },
    {
      "cell_type": "code",
      "metadata": {
        "id": "is8tCm3wzocv",
        "colab_type": "code",
        "cellView": "form",
        "colab": {}
      },
      "source": [
        "#@title Ejecútame\n",
        "\n",
        "# Contenido oculto de celda.\n",
        "print(\"Dar doble click para ver el contenido.\")\n"
      ],
      "execution_count": null,
      "outputs": []
    },
    {
      "cell_type": "code",
      "metadata": {
        "id": "Tw0sqlmcz_P2",
        "colab_type": "code",
        "cellView": "both",
        "colab": {}
      },
      "source": [
        "# Ejemplo de formulario donde se tienne que añadir variables, o se pueden ver en agragar \"code snippets\"\n",
        "#@title Ejemplo de formulario\n",
        "#@markdown Especifique algunos datos de prueba y ejecute esta celda\n",
        "\n",
        "string_type = 'Cadena_de_valores_de_prueba' #@param {type: \"string\"}\n",
        "slider_value = 150  #@param {type: \"slider\", min: 100, max: 200}\n",
        "number = 1981  #@param {type: \"number\"}\n",
        "date = '2014-06-06'  #@param {type: \"date\"}\n",
        "pick_me = \"b\"  #@param ['a', 'b', 'c']\n",
        "#@markdown ---\n",
        "print(\"Datos ingresados:\")\n",
        "print(string_type, slider_value, number, date, pick_me)"
      ],
      "execution_count": null,
      "outputs": []
    },
    {
      "cell_type": "markdown",
      "metadata": {
        "id": "mqBhB3BQ02tE",
        "colab_type": "text"
      },
      "source": [
        "## Depuración interactiva con ```%pdb```\n",
        "\n",
        "Un ejemplo de una herramienta de IPython que se puede utilizar es la depuración interactiva dentro de un ambiente IPython como Colab.\n",
        "\n",
        "Por ejemplo, usando `%pdb`, se puede lanzar automáticamente el depurador sobre excepciones para analizar a profundidad celdas.\n",
        "\n",
        "Algunas comandos de depuración son :\n",
        "\n",
        "Descripción | Comandos\n",
        "---|---\n",
        "**h**(elp) | Muestra comandos disponibles\n",
        "**p**(rint) `x` | Muestra el contendio del objeto `x`\n",
        "**w**(here) | Muestra la posición actual del puntero \n",
        "**q**(uit) | Salir del depurador"
      ]
    },
    {
      "cell_type": "code",
      "metadata": {
        "id": "miH7PaYi5Pji",
        "colab_type": "code",
        "colab": {}
      },
      "source": [
        "# Acción requerida:\n",
        "#Ejecute la celda, imprima los contenidos de la variable a, b y salga del depurador.\n",
        "%pdb on\n",
        "a = 67069 / 47 - 0x5a\n",
        "b = a - 0x539\n",
        "c = a / b  # Lanzará una excepción."
      ],
      "execution_count": null,
      "outputs": []
    },
    {
      "cell_type": "markdown",
      "metadata": {
        "id": "60wJzuWEZEuo",
        "colab_type": "text"
      },
      "source": [
        "##Line *profiling* y optimización\n",
        "\n",
        "En el proceso de codificación y creación de flujos de procesamiento de datos, hay varias alternativas que se pueden hacer entre varias implementaciones. En las etapas de desarrollo preocuparse por eso puede ser contraproducente. Como dijo Donald Knuth \"Debemos olvidarnos de pequeñas eficiencias, digamos que el 97% del tiempo: la optimización prematura es la raíz de todo el mal.\"\n",
        "\n",
        "Pero una vez que se tiene el código funcionando, puede ser útil profundizar un poco en la eficiencia. A veces es útil revisar el tiempo de ejecución de un cierto comando o conjunto de comandos; otras veces es útil es útil profundizar en un proceso multilinea donde exista un cuello de botella donde se realicen operaciones complicadas. IPython provee acceso a un amplio catálogo de funcionalidad para ete tipo de mediciones y perfilamento (*profiling*) de código. Discutiremos los siguientes comandos mágicos:\n",
        "\n",
        "- ``%prun``: Ejecutar código con el perfilador \n",
        "- ``%lprun``: Ejecutar línea por línea con el perfilador \n",
        "- ``%memit``: Medir el uso de memoria de un sentencia\n",
        "- ``%mprun``: Ejecutar código línea por línead con el perfilador de memoria\n",
        "\n",
        "Los últimos cuatro comandos no están incluídos con IPython, se necesitarán conseguir las extensiones ``line_profiler`` y ``memory_profiler``. \n"
      ]
    },
    {
      "cell_type": "markdown",
      "metadata": {
        "id": "An0wEUNic7Tl",
        "colab_type": "text"
      },
      "source": [
        "### Perfilando códigos completos ``%prun``\n",
        "\n",
        "Un programa es hecho de varias sentencias, y algunas veces cronometrar estas sentencias en todo el contexto es mejor que cronometrarlas individualmente.\n",
        "Python contiene un perfilador de código (que se puede leer en la documentacón de Python), pero IPython ofrece una manera más conveniente  para usar este perfilador, en la forma de la función mágica ``%prun``.\n",
        "\n",
        "Como ejemplo, definiremos una función que haga algunos cálculos:"
      ]
    },
    {
      "cell_type": "code",
      "metadata": {
        "id": "cPkm2pXNeDe6",
        "colab_type": "code",
        "colab": {}
      },
      "source": [
        "def sum_of_lists(N):\n",
        "    total = 0\n",
        "    for i in range(5):\n",
        "        L = [j ^ (j >> i) for j in range(N)]\n",
        "        total += sum(L)\n",
        "    return total"
      ],
      "execution_count": null,
      "outputs": []
    },
    {
      "cell_type": "markdown",
      "metadata": {
        "id": "QpQLR86WeEOR",
        "colab_type": "text"
      },
      "source": [
        "Ahora llamaremos `%prun` para ver los resultados perfilados:"
      ]
    },
    {
      "cell_type": "code",
      "metadata": {
        "id": "Hg8OcptveOfn",
        "colab_type": "code",
        "colab": {}
      },
      "source": [
        "%prun sum_of_lists(1000000)"
      ],
      "execution_count": null,
      "outputs": []
    },
    {
      "cell_type": "markdown",
      "metadata": {
        "id": "9W_VvkLbealr",
        "colab_type": "text"
      },
      "source": [
        "En el *Notebook* la salida será impresa en una página aparte y muestra lo siguiente:\n",
        "\n",
        "```\n",
        "        14 function calls in 0.704 seconds\n",
        "\n",
        "   Ordered by: internal time\n",
        "\n",
        "   ncalls  tottime  percall  cumtime  percall filename:lineno(function)\n",
        "        5    0.635    0.127    0.635    0.127 <ipython-input-2-f105717832a2>:4(<listcomp>)\n",
        "        1    0.033    0.033    0.694    0.694 <ipython-input-2-f105717832a2>:1(sum_of_lists)\n",
        "        5    0.026    0.005    0.026    0.005 {built-in method builtins.sum}\n",
        "        1    0.010    0.010    0.704    0.704 <string>:1(<module>)\n",
        "        1    0.000    0.000    0.704    0.704 {built-in method builtins.exec}\n",
        "        1    0.000    0.000    0.000    0.000 {method 'disable' of '_lsprof.Profiler' objects}\n",
        "```\n",
        "\n",
        "El resultado es una tabla que indica, el orden del tiempo total de cada llamada de la función, donde la ejecución toma más tiempo. En este caso, el bonche de tiempo de ejecución es en la lista de comprensión dentro de ``sum_of_lists``.\n",
        "Desde este punto de vista podemos comenzar a pensar en qué cambios deberemos hacer para mejorar el rendimiento en el algoritmo.\n",
        "\n",
        "Para más información sobre ``%prun``, así como de sus opciones disponibles usar la función de ayuda de IPython (es decir, poner \n",
        "For more information on ``%prun``, as well as its available options, use the IPython help functionality (i.e., type ``%prun?`` at the IPython prompt)."
      ]
    },
    {
      "cell_type": "markdown",
      "metadata": {
        "colab_type": "text",
        "id": "US__Xlz6fn9N"
      },
      "source": [
        "En el *Notebook* la salida será impresa en una página aparte y muestra lo siguiente:\n",
        "\n",
        "```\n",
        "        14 function calls in 0.704 seconds\n",
        "\n",
        "   Ordered by: internal time\n",
        "\n",
        "   ncalls  tottime  percall  cumtime  percall filename:lineno(function)\n",
        "        5    0.635    0.127    0.635    0.127 <ipython-input-2-f105717832a2>:4(<listcomp>)\n",
        "        1    0.033    0.033    0.694    0.694 <ipython-input-2-f105717832a2>:1(sum_of_lists)\n",
        "        5    0.026    0.005    0.026    0.005 {built-in method builtins.sum}\n",
        "        1    0.010    0.010    0.704    0.704 <string>:1(<module>)\n",
        "        1    0.000    0.000    0.704    0.704 {built-in method builtins.exec}\n",
        "        1    0.000    0.000    0.000    0.000 {method 'disable' of '_lsprof.Profiler' objects}\n",
        "```\n",
        "\n",
        "El resultado es una tabla que indica, el orden del tiempo total de cada llamada de la función, donde la ejecución toma más tiempo. En este caso, el bonche de tiempo de ejecución es en la lista de comprensión dentro de ``sum_of_lists``.\n",
        "Desde este punto de vista podemos comenzar a pensar en qué cambios deberemos hacer para mejorar el rendimiento en el algoritmo.\n",
        "\n",
        "Para más información sobre ``%prun``, así como de sus opciones disponibles usar la función de ayuda de IPython (es decir, poner ``%prun?`` en la celda de IPython)."
      ]
    },
    {
      "cell_type": "code",
      "metadata": {
        "id": "k3Ezl8PIfwLz",
        "colab_type": "code",
        "colab": {}
      },
      "source": [
        "%prun?"
      ],
      "execution_count": null,
      "outputs": []
    },
    {
      "cell_type": "markdown",
      "metadata": {
        "id": "5jMc2MGof3Yt",
        "colab_type": "text"
      },
      "source": [
        "### Linea-por-Linea perfilamiento con ``%lprun``\n",
        "\n",
        "La función de perfilamiento de ``%prun`` es útil, pero algunas veces es más conveniente tener un reporte de perfilamiento por línea.\n",
        "\n",
        "Esta no está construida en Pyhton o IPyhton, pero existe un paquete de ``line_profiler`` disponible para instala que puede hacer esto.\n",
        "\n",
        "Comenzar utilizando la herramiento de paquetes de Python, ``pip``, para instalar el paquete ``line_profiler``:\n",
        "\n",
        "```\n",
        "$ pip install line_profiler\n",
        "```\n",
        "\n",
        "En consecuencia, se puede utilizar IPython para cargar la extensión IPython, que se tiene como parte de este paquete:\n"
      ]
    },
    {
      "cell_type": "code",
      "metadata": {
        "id": "0KGzRqelhEnK",
        "colab_type": "code",
        "colab": {
          "base_uri": "https://localhost:8080/",
          "height": 238
        },
        "outputId": "f64c4eea-3bf7-4318-ca49-adcb049e2956"
      },
      "source": [
        "pip install pandas"
      ],
      "execution_count": null,
      "outputs": [
        {
          "output_type": "stream",
          "text": [
            "Collecting pandasNote: you may need to restart the kernel to use updated packages.\n"
          ],
          "name": "stdout"
        },
        {
          "output_type": "stream",
          "text": [
            "WARNING: You are using pip version 19.2.3, however version 20.1.1 is available.\n",
            "You should consider upgrading via the 'python -m pip install --upgrade pip' command.\n"
          ],
          "name": "stderr"
        },
        {
          "output_type": "stream",
          "text": [
            "\n",
            "  Downloading https://files.pythonhosted.org/packages/1d/eb/b4f68f54ad287d583c9c3b3c77f865615f832f092810f20d2b44498cd06c/pandas-1.0.4-cp37-cp37m-win_amd64.whl (8.7MB)\n",
            "Collecting pytz>=2017.2 (from pandas)\n",
            "  Downloading https://files.pythonhosted.org/packages/4f/a4/879454d49688e2fad93e59d7d4efda580b783c745fd2ec2a3adf87b0808d/pytz-2020.1-py2.py3-none-any.whl (510kB)\n",
            "Requirement already satisfied: python-dateutil>=2.6.1 in c:\\users\\gr355tx\\appdata\\local\\programs\\python\\python37\\lib\\site-packages (from pandas) (2.8.1)\n",
            "Collecting numpy>=1.13.3 (from pandas)\n",
            "  Downloading https://files.pythonhosted.org/packages/fd/e0/ad1bf8bd24e210548e4a65926ae54a66cfa285a4e88aac1b09fb479c8769/numpy-1.18.4-cp37-cp37m-win_amd64.whl (12.8MB)\n",
            "Requirement already satisfied: six>=1.5 in c:\\users\\gr355tx\\appdata\\local\\programs\\python\\python37\\lib\\site-packages (from python-dateutil>=2.6.1->pandas) (1.15.0)\n",
            "Installing collected packages: pytz, numpy, pandas\n",
            "Successfully installed numpy-1.18.4 pandas-1.0.4 pytz-2020.1\n"
          ],
          "name": "stdout"
        }
      ]
    },
    {
      "cell_type": "code",
      "metadata": {
        "id": "rUhqgt_QhB9s",
        "colab_type": "code",
        "colab": {}
      },
      "source": [
        "%load_ext line_profiler"
      ],
      "execution_count": null,
      "outputs": []
    },
    {
      "cell_type": "markdown",
      "metadata": {
        "id": "-xjKAwjlhKyx",
        "colab_type": "text"
      },
      "source": [
        "Ahora el comando ``%lprun`` hará una pefilamiento línea por línea de cualquier función, en este caso, se necesitará especificar qué función estaremos interesados en perfilar:"
      ]
    },
    {
      "cell_type": "code",
      "metadata": {
        "id": "VtEGZnZMhr_r",
        "colab_type": "code",
        "colab": {}
      },
      "source": [
        "%lprun -f sum_of_lists sum_of_lists(5000)"
      ],
      "execution_count": null,
      "outputs": []
    },
    {
      "cell_type": "markdown",
      "metadata": {
        "id": "09CkT7Fshv_J",
        "colab_type": "text"
      },
      "source": [
        "La salida es la siguiente:\n",
        "```\n",
        "Timer unit: 1e-06 s\n",
        "\n",
        "Total time: 0.006336 s\n",
        "File: <ipython-input-2-f105717832a2>\n",
        "Function: sum_of_lists at line 1\n",
        "\n",
        "Line #      Hits         Time  Per Hit   % Time  Line Contents\n",
        "==============================================================\n",
        "     1                                           def sum_of_lists(N):\n",
        "     2         1          2.0      2.0      0.0      total = 0\n",
        "     3         6          7.0      1.2      0.1      for i in range(5):\n",
        "     4         5       6163.0   1232.6     97.3          L = [j ^ (j >> i) for j in range(N)]\n",
        "     5         5        163.0     32.6      2.6          total += sum(L)\n",
        "     6         1          1.0      1.0      0.0      return total\n",
        "```\n",
        "\n",
        "Se indica el resumen de los resultados, el tiempo es reporatado en microsegundos y podemos ver en qué parte del programa se está invirtiendo más tiempo.\n",
        "\n",
        "En este punto, podemos ver en qué parte del código debemos poner atención para optimizar.\n",
        "\n",
        "Si se requiere mayor información usar el comando: ``%lprun?``."
      ]
    },
    {
      "cell_type": "markdown",
      "metadata": {
        "id": "JwV4eAa2jHTb",
        "colab_type": "text"
      },
      "source": [
        "### Pefilamiento de uso de memoria: ``%memit`` and ``%mprun``\n",
        "\n",
        "Otro aspecto del perfilamiento es el monto de memoria que usa una operación.\n",
        "Este se puede valuar con otra extensión de IPython, el ``memory_profiler``.\n",
        "\n",
        "Deberemos instalar la extensión:\n",
        "```\n",
        "!pip install memory_profiler\n",
        "```\n",
        "Después hay que cargar la extensión:"
      ]
    },
    {
      "cell_type": "code",
      "metadata": {
        "id": "zb-cRSaojrfY",
        "colab_type": "code",
        "colab": {}
      },
      "source": [
        "!pip install memory_profiler"
      ],
      "execution_count": null,
      "outputs": []
    },
    {
      "cell_type": "code",
      "metadata": {
        "id": "J3ws-0-Sj197",
        "colab_type": "code",
        "colab": {}
      },
      "source": [
        "%load_ext memory_profiler"
      ],
      "execution_count": null,
      "outputs": []
    },
    {
      "cell_type": "markdown",
      "metadata": {
        "id": "2cq4KkRqkAWY",
        "colab_type": "text"
      },
      "source": [
        "La extensión de perfilador de memoria contiene dos funciones mágicas útiles: \n",
        "``%memit`` magic (que calcula una medición de memoria equivalente a``%timeit``) y la función ``%mprun`` (que contiene una medición similar a ``%lprun``).\n",
        "La función ``%memit`` se puede usar de manera sencilla como:"
      ]
    },
    {
      "cell_type": "code",
      "metadata": {
        "id": "ONPVb1c9YmVc",
        "colab_type": "code",
        "colab": {}
      },
      "source": [
        "%memit sum_of_lists(1000000)"
      ],
      "execution_count": null,
      "outputs": []
    },
    {
      "cell_type": "markdown",
      "metadata": {
        "id": "NB_7TYMgkoog",
        "colab_type": "text"
      },
      "source": [
        "Vemos que esta función usa acerca de 250 MB de memoria.\n",
        "\n",
        "Para una descripción línea por línea de memora, podemos usar `%mprun` magic. Desafortunadamente, este comando mágico funciona sólo para funciones definidos en módulos separados en lugar de en el mismo *Notebook*, por lo que usaremos el comando ``%%file`` para crear el archivo **mprum_demo.py**, que contiene la función **sum_of_lists**, con un adición que hará el perfilamiento dememoria más claro:\n"
      ]
    },
    {
      "cell_type": "code",
      "metadata": {
        "id": "JZckYUwFllrC",
        "colab_type": "code",
        "colab": {}
      },
      "source": [
        "%%file mprun_demo.py\n",
        "def sum_of_lists(N):\n",
        "    total = 0\n",
        "    for i in range(5):\n",
        "        L = [j ^ (j >> i) for j in range(N)]\n",
        "        total += sum(L)\n",
        "        del L # remove reference to L\n",
        "    return total"
      ],
      "execution_count": null,
      "outputs": []
    },
    {
      "cell_type": "markdown",
      "metadata": {
        "id": "vG0tImPCl1Q7",
        "colab_type": "text"
      },
      "source": [
        "Importaremos la nueva versión de esta función y ejecutaremos el perfilamiento de memoria por línea:"
      ]
    },
    {
      "cell_type": "code",
      "metadata": {
        "id": "2hLrKGfrmC4D",
        "colab_type": "code",
        "colab": {}
      },
      "source": [
        "from mprun_demo import sum_of_lists\n",
        "%mprun -f sum_of_lists sum_of_lists(100)"
      ],
      "execution_count": null,
      "outputs": []
    },
    {
      "cell_type": "markdown",
      "metadata": {
        "id": "x8kG-S_QmLCA",
        "colab_type": "text"
      },
      "source": [
        "El resultado impreso en la ayuda, da un resumen del uso de la función y es algo así:\n",
        "```\n",
        "Filename: ./mprun_demo.py\n",
        "\n",
        "Line #    Mem usage    Increment   Line Contents\n",
        "================================================\n",
        "     4     71.9 MiB      0.0 MiB           L = [j ^ (j >> i) for j in range(N)]\n",
        "\n",
        "\n",
        "Filename: ./mprun_demo.py\n",
        "\n",
        "Line #    Mem usage    Increment   Line Contents\n",
        "================================================\n",
        "     1     39.0 MiB      0.0 MiB   def sum_of_lists(N):\n",
        "     2     39.0 MiB      0.0 MiB       total = 0\n",
        "     3     46.5 MiB      7.5 MiB       for i in range(5):\n",
        "     4     71.9 MiB     25.4 MiB           L = [j ^ (j >> i) for j in range(N)]\n",
        "     5     71.9 MiB      0.0 MiB           total += sum(L)\n",
        "     6     46.5 MiB    -25.4 MiB           del L # remove reference to L\n",
        "     7     39.1 MiB     -7.4 MiB       return total\n",
        "```\n",
        "\n",
        "Aquíe la columna ``Increment``muetra cuanto afecta cada línea en el total de memoria, observar que cuando se crean y borra la lista ``L`` se añaden otros 25 MB de usao de memria.\n",
        "\n",
        "Para mayor información hacer referencia a `%memit?`"
      ]
    },
    {
      "cell_type": "markdown",
      "metadata": {
        "id": "CtlG1xU2-7fV",
        "colab_type": "text"
      },
      "source": [
        "# Módulo 11: Packages and Virtual Environments"
      ]
    },
    {
      "cell_type": "markdown",
      "metadata": {
        "id": "MqtTMptE_DVn",
        "colab_type": "text"
      },
      "source": [
        "##Conectar Google Colab a *Local Runtime* (sin Anaconda)\n",
        "\n",
        "\n",
        "\n",
        "\n",
        "\n",
        "\n"
      ]
    },
    {
      "cell_type": "markdown",
      "metadata": {
        "id": "GH0rSSujFDl1",
        "colab_type": "text"
      },
      "source": [
        "### Instalar Python en ambiente Local vía Pip\n",
        "\n",
        "1. Entrar a https://www.python.org/downloads/windows/\n",
        "2. Bajar la versión que se requiera (3.7.6) : *Windows x86-64 executable installer* ó *Windows x86 executable installer* \n",
        "![Pantalla de inicio](https://phoenixnap.com/kb/wp-content/uploads/2019/04/python-setup.png)\n",
        "Las opciones recomendadas son IDLE y PIP. Es probable que para versiones previas no tengan esas opciones.\n",
        "3. En el siguiente cuadro de diálogo se decidirá si **Disable path length limit.** Escoger esta opción permitirá pasar el límite de 260 caracteres. Esto habilitará los nombres de ruta largos: ![alt text](https://phoenixnap.com/kb/wp-content/uploads/2019/04/python-setup-completed.png)  \n",
        " Aplicar esta opción no afectará ninguna configuración de otros sistemas, al contrario resolverá algunos temas de longitud de nombre que se puedan haber desarrollado en el Python de Linux.\n",
        "\n"
      ]
    },
    {
      "cell_type": "markdown",
      "metadata": {
        "id": "Xh9G7wCXFAU5",
        "colab_type": "text"
      },
      "source": [
        "### Verificar instalación de Python en Windows\n",
        "1. Navegar al directorio de instalación **C:\\Users\\<<Username>>\\AppData\\Local\\Programs\\Python\\Python37**\n",
        "2. Dar click en **python.exe**\n",
        "3. Al ejecutarse tiene que mostrar lo siguiente:\n",
        "![](https://phoenixnap.com/kb/wp-content/uploads/2019/04/verify-python-install-1.png)\n",
        "\n"
      ]
    },
    {
      "cell_type": "markdown",
      "metadata": {
        "id": "ssYYlJh_E8Dq",
        "colab_type": "text"
      },
      "source": [
        "### Verificación de instalación de *pip*\n",
        "\n",
        "1. Abrir el **cmd**, en menú de windows **inicio** o **start** y escribir **cmd**\n",
        "2. Abrir el programa **Command Prompt**\n",
        "3. Ingresar el comando ``pip -V``. Si pip está instalado correctamente se verá lo siguiente: \n",
        "![](https://phoenixnap.com/kb/wp-content/uploads/2019/04/verify-pip.png)\n",
        "Si no se ha instalado se mostrará lo siguiente:\n",
        "````\n",
        "’pip’ is not recognized as an internal or external command,\n",
        "Operable program or batch file.\n",
        "````\n",
        "\n",
        "Si esto pasa ver el artículo: [Instalar pip](https://phoenixnap.com/kb/install-pip-windows)"
      ]
    },
    {
      "cell_type": "markdown",
      "metadata": {
        "id": "rF6A6dkPHY_z",
        "colab_type": "text"
      },
      "source": [
        "###Instalar ambientes virtuales: **virtualenv** *Opcional*\n",
        "\n",
        "Hasta ahora ya tienen Python local, y tienen Pip para gestionar paquetería. Ahora, necesitan un último software *virtualnv*.\n",
        "Virtualnv ayuda a crear ambientes virtuales aislados para los proyectos de Python.\n",
        "\n",
        "¿Por qué usar ambientes virtuales?\n",
        "\n",
        "La paquetería de Python está instalada de manera *ancha* por default. En consecuencia, cuando un proyecto tiene una paquetería modificada, cambia **TODOS** los proyectos de Python. Si se quiere evitar esto, y tener ambientes virtuales separados para cada proyecto esta es la solución más sencilla.\n",
        "\n",
        "Para instalar virtualnv:\n",
        "\n",
        "1. Abrir el **cmd**, en menú de windows **inicio** o **start** y escribir **cmd**\n",
        "2. Abrir el programa **Command Prompt**\n",
        "3. Ingresar el comando ``pip install virtualenv``.\n",
        "\n",
        "En cuanto se complete, **virtualnv** está instalado en el sistema.\n",
        "\n",
        "#### Cómo crear un ambiente virtual en Python\n",
        "Para crear un entorno virtual con Python 3, simplemente ejecutamos el comando ``virtualenv`` de la siguiente manera:\n",
        "```\n",
        "virtualenv env --python=python3\n",
        "```\n",
        "La ejecución de comandos anteriormente explicados crean el directorio env/ con la siguiente estructura:\n",
        "```\n",
        "env/\n",
        "  bin/\n",
        "  include/\n",
        "  lib/\n",
        "    site-packages/\n",
        "```\n",
        "En el directorio ``bin/`` se encuentran los ejecutables necesarios para interactuar con el entorno virtual. En el directorio ``include/`` se encuentran algunos archivos de cabecera de C (cuya extensión es *.h) necesarios para compilar algunas librerías de Python.\n",
        "\n",
        "Finalmente, en el directorio ``lib/`` se encuentra una copia de la instalación de Python así como un directorio llamado ``site-packages/`` en donde se almacenan los paquetes Python instalados en el entorno virtual.\n",
        "\n",
        "#### Cómo activar un entorno virtual de Python con *virtualenv*\n",
        "Para activar un entorno virtual de Python, se ejecuta el script activate de virtualenv instalado en el directorio ``bin/``:\n",
        "```\n",
        "$ cd env\n",
        "$ source bin/activate\n",
        "(env)$\n",
        "```\n",
        "El prompt de la terminal indica que el entorno virtual ``mi_proyecto`` está activado. Ya es posible utilizar los paquetes Python instalados en el entorno virtual así como instalar paquetes adicionales.\n",
        "\n",
        "#### Cómo desactivar un entorno virtual de Python con *virtualenv*\n",
        "Para desactivar un entorno virtual, porque se necesita trabajar en otro diferente, se ejecuta el comando ``deactivate`` de virtualenv. No es necesario ir al directorio del entorno virtual para realizar esta operación: \n",
        "```\n",
        "(env)$ deactivate\n",
        "$\n",
        "```\n",
        "El prompt de la terminal indica que el entorno virtual ha sido desactivado con éxito.\n",
        "\n",
        "#### Cómo instalar paquetes en un entorno virtual de Python\n",
        "Después de activarlo, lo único que resta es instalar los paquetes que sean necesarios usando el instalador de paquetes *pip*.\n",
        "\n",
        "*Al momento de crear un entorno virtual, la utilidad *virtualenv* instala de manera automática el ejecutable pip.*\n",
        "\n",
        "Por ejemplo, para instalar Django se ejecuta el siguiente comando:\n",
        "```\n",
        "(env)$ pip install Django\n",
        "```\n",
        "Notese que el prompt de la terminal indica que el entorno virtual ``env`` está activado de antemano.\n",
        "\n",
        "#### ¿En qué directorio ubico el código fuente de mi proyecto?\n",
        "La ubicación del código fuente del proyecto en el que se está trabajando no es importante. Puede ser colocado inclusive dentro del directorio del entorno virtual. Una vez que el entorno virtual está activado, todas las librerías de Python que se instalen solo podrán ser usadas al activar ese entorno virtual específico.\n"
      ]
    },
    {
      "cell_type": "markdown",
      "metadata": {
        "id": "DSEClscnLe_7",
        "colab_type": "text"
      },
      "source": [
        "### Instalar Jupyter con pip\n",
        "\n",
        "1. Abrir el **cmd**, en menú de windows **inicio** o **start** y escribir **cmd**\n",
        "2. Abrir el programa **Command Prompt**\n",
        "3. Ingresar el comando `pip install notebook``.\n",
        "4. Para ejecutar el notebook, ingresar el siguiente comando en cmd: ``jupyter notebook\t``"
      ]
    },
    {
      "cell_type": "markdown",
      "metadata": {
        "id": "ES7vJwp4ecub",
        "colab_type": "text"
      },
      "source": [
        "### Conectar Google Colab a Entorno local o *Local Runtime*\n",
        "[link text](https://)\n",
        "#### Instalar y habilitar la extensión de jupyter ``jupyter_http_over_ws`` (se habilita sólo una vez)`\n",
        "1. Abrir el **cmd**, en menú de windows **inicio** o **start** y escribir **cmd**\n",
        "2. Abrir el programa **Command Prompt**\n",
        "3. Ingresar el comando \n",
        "````\n",
        "pip install --upgrade jupyter_http_over_ws>=0.0.7 \n",
        "jupyter serverextension enable --py jupyter_http_over_ws\n",
        "````\n",
        "\n",
        "#### Iniciar el servidor local (jupyter) y autenticarse\n",
        "1. Abrir el **cmd**, en menú de windows **inicio** o **start** y escribir **cmd**\n",
        "2. Abrir el programa **Command Prompt**\n",
        "3. Ingresar el comando \n",
        "````\n",
        "jupyter notebook \\ --NotebookApp.allow_origin='https://colab.research.google.com' \\  --port=8888 \\ --NotebookApp.port_retries=0\n",
        "````\n",
        "4. Una vez que el servidor se ha iniciado imprimirá un URL usado para autenticación. Hay que copiar esta dirección, ejemplo:\n",
        "![image.png](data:image/png;base64,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)\n",
        "\n",
        "### Conectarse al entorno local desde el Google Colaboratory\n",
        "1. Dar click en el botón \"Conectar\" o \"Connect\".\n",
        "2. Seleccionar \"Connect to local runtime\" o \"Conectarse a un entorno de ejecución local\":\n",
        "![image.png](data:image/png;base64,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)\n",
        "3. Ingresa el código copiado en el bloque anterior, el que lanza jupyter cuando se conecta localmente.\n",
        "4. Dar click en \"Connect\" o \"Conectar\", justo después de haber pegado el token del paso anterior.\n"
      ]
    },
    {
      "cell_type": "markdown",
      "metadata": {
        "id": "VK2u1GegNELg",
        "colab_type": "text"
      },
      "source": [
        "##Conectar Google Colab a *Local Runtime* (con Anaconda)"
      ]
    },
    {
      "cell_type": "markdown",
      "metadata": {
        "id": "4vjVycwONJFP",
        "colab_type": "text"
      },
      "source": [
        "###Instalar Python en ambiente Local con Anaconda\n",
        "Para la instalación de Python 3.7 se recomienda descargar de:\n",
        "\n",
        "https://www.anaconda.com/distribution/ (Anaconda con Spyder y Jupyter, el cual incluye Python 3.7 - por el momento).\n",
        "\n",
        "Anaconda es un conjunto de varias aplicaciones incluyendo Spyder y Jupyter. Spyder es una aplicación tipo IDE que corre Python 3.7. Además de correr Python, también existe un IDE para correr el lenguaje R. Si se prefiere tener preinstalados los paquetes, Jupyter es un sistema de bloc de notas como Google Colab (aquí), que incluye varios paquetes como Numpy y Matplotlib."
      ]
    },
    {
      "cell_type": "markdown",
      "metadata": {
        "id": "mvWGLm4DR52b",
        "colab_type": "text"
      },
      "source": [
        "###Instalación de paqueterías con comando ``conda``\n",
        "\n",
        "Al igual que con ``pip`` el comando ``conda`` sirve para instalar paquetería de Python, el comando siempre es: \n",
        "```\n",
        "conda install ...\n",
        "```\n",
        "donde ```...``` es la paquetería a instalar."
      ]
    },
    {
      "cell_type": "markdown",
      "metadata": {
        "id": "4DI0zlYLTA8P",
        "colab_type": "text"
      },
      "source": [
        "### Instalar Jupyter con ``conda``\n",
        "Si se instaló Anaconda completo es muy probable que ya se haya instalado Jupyter, o bien se puede hacer con el *conda pack manager*. La distribución de la instalación de miniconda incluye una instalación mínima de Python e instalación de conda, si se tiene esa se puede instalar el notebook con:\n",
        "```\n",
        "conda install -c conda-forge notebook\n",
        "```"
      ]
    },
    {
      "cell_type": "markdown",
      "metadata": {
        "id": "45NzziI3Ulni",
        "colab_type": "text"
      },
      "source": [
        "### Conectar Google Colab a Entorno local o *Local Runtime*\n",
        "[link text](https://)\n",
        "#### Instalar y habilitar la extensión de jupyter ``jupyter_http_over_ws`` (se habilita sólo una vez)`\n",
        "1. Abrir el **cmd**, en menú de windows **inicio** o **start** y escribir **cmd**\n",
        "2. Abrir el programa **Command Prompt**\n",
        "3. Ingresar el comando \n",
        "````\n",
        "pip install --upgrade jupyter_http_over_ws>=0.0.7 \n",
        "jupyter serverextension enable --py jupyter_http_over_ws\n",
        "````\n",
        "\n",
        "#### Iniciar el servidor local (jupyter) y autenticarse\n",
        "1. Abrir el **Anaconda Prompt**, en menú de windows **inicio** o **start** y escribir **Anaconda Prompt**\n",
        "2. Abrir el programa **Anaconda Prompt**\n",
        "3. Ingresar el comando \n",
        "````\n",
        "jupyter notebook \\ --NotebookApp.allow_origin='https://colab.research.google.com' \\  --port=8888 \\ --NotebookApp.port_retries=0\n",
        "````\n",
        "4. Una vez que el servidor se ha iniciado imprimirá un URL usado para autenticación. Hay que copiar esta dirección, ejemplo:\n",
        "![image.png](data:image/png;base64,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)\n",
        "\n",
        "### Conectarse al entorno local desde el Google Colaboratory\n",
        "1. Dar click en el botón \"Conectar\" o \"Connect\".\n",
        "2. Seleccionar \"Connect to local runtime\" o \"Conectarse a un entorno de ejecución local\":\n",
        "![image.png](data:image/png;base64,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)\n",
        "3. Ingresa el código copiado en el bloque anterior, el que lanza jupyter cuando se conecta localmente.\n",
        "4. Dar click en \"Connect\" o \"Conectar\", justo después de haber pegado el token del paso anterior."
      ]
    }
  ]
}